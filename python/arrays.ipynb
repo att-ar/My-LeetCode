{
 "cells": [
  {
   "cell_type": "code",
   "execution_count": null,
   "metadata": {},
   "outputs": [],
   "source": [
    "import math\n",
    "from collections import Counter, defaultdict\n",
    "from functools import cache, reduce\n",
    "from math import factorial\n",
    "from typing import List, Tuple"
   ]
  },
  {
   "cell_type": "markdown",
   "metadata": {},
   "source": [
    "**49. Group Anagrams**\n"
   ]
  },
  {
   "cell_type": "code",
   "execution_count": 23,
   "metadata": {},
   "outputs": [
    {
     "data": {
      "text/plain": [
       "[['eat', 'tea', 'ate'], ['tan', 'nat'], ['bat']]"
      ]
     },
     "execution_count": 23,
     "metadata": {},
     "output_type": "execute_result"
    }
   ],
   "source": [
    "class Solution:  # ~40% time\n",
    "    def groupAnagrams(self, strs: List[str]) -> List[List[str]]:\n",
    "        # can sort the anagrams or can use the 0-25 indexing of letters\n",
    "        a = ord(\"a\")\n",
    "        dct = defaultdict(list)\n",
    "        for s in strs:\n",
    "            lst = [0] * 26\n",
    "            for c in s:\n",
    "                lst[ord(c) - a] += 1\n",
    "            dct[tuple(lst)].append(s)\n",
    "        return list(dct.values())\n",
    "\n",
    "\n",
    "solution = Solution()\n",
    "solution.groupAnagrams([\"eat\", \"tea\", \"tan\", \"ate\", \"nat\", \"bat\"])"
   ]
  },
  {
   "cell_type": "markdown",
   "metadata": {},
   "source": [
    "**347. Top K Frequent Elements**\n"
   ]
  },
  {
   "cell_type": "code",
   "execution_count": 3,
   "metadata": {},
   "outputs": [
    {
     "name": "stdout",
     "output_type": "stream",
     "text": [
      "[1, 2]\n",
      "[0]\n",
      "[-3, 0, 1, 4, 9, -4]\n"
     ]
    }
   ],
   "source": [
    "class Solution:  # 52% time, 30% memory\n",
    "    def topKFrequent(self, nums: List[int], k: int):\n",
    "        hold = [[] for _ in range(len(nums) + 1)]\n",
    "        freq = {}\n",
    "        res = []\n",
    "        for n in nums:\n",
    "            freq[n] = freq.get(n, 0) + 1\n",
    "        for key, value in freq.items():\n",
    "            hold[value].append(key)\n",
    "        for i in range(1, len(hold) + 1):\n",
    "            for n in hold[len(hold) - i]:\n",
    "                res.append(n)\n",
    "            if len(res) == k:\n",
    "                return res\n",
    "\n",
    "\n",
    "solution = Solution()\n",
    "print(solution.topKFrequent([1, 1, 1, 2, 2, 3], 2))\n",
    "print(solution.topKFrequent([3, 0, 1, 0], 1))\n",
    "print(\n",
    "    solution.topKFrequent(\n",
    "        [6, 0, 1, 4, 9, 7, -3, 1, -4, -8, 4, -7, -3, 3, 2, -3, 9, 5, -4, 0], 6\n",
    "    )\n",
    ")"
   ]
  },
  {
   "cell_type": "markdown",
   "metadata": {},
   "source": [
    "**36. Valid Sudoku**\n"
   ]
  },
  {
   "cell_type": "code",
   "execution_count": 3,
   "metadata": {},
   "outputs": [
    {
     "data": {
      "text/plain": [
       "(True, True)"
      ]
     },
     "execution_count": 3,
     "metadata": {},
     "output_type": "execute_result"
    }
   ],
   "source": [
    "class Solution:  # 5% time, 10% memory\n",
    "    def isValidSudoku(self, board: List[List[str]]) -> bool:\n",
    "        # indices for rows: first dimension\n",
    "        # indices for columns: second dimension\n",
    "        # indices for boxes: the (row // 3, col // 3) since it's a 3x3 grid\n",
    "        # use hashset for each row, col, box\n",
    "        # could also use lists and put the number in its value-index\n",
    "        rows = defaultdict(set)\n",
    "        cols = defaultdict(set)\n",
    "        subboxes = defaultdict(set)\n",
    "        for row in range(len(board)):\n",
    "            for col in range(len(board[0])):\n",
    "                if (value := board[row][col]) == \".\":\n",
    "                    continue\n",
    "                if (\n",
    "                    value in rows[row]\n",
    "                    or value in cols[col]\n",
    "                    or value in subboxes[(row // 3, col // 3)]\n",
    "                ):\n",
    "                    return False\n",
    "                rows[row].add(value)\n",
    "                cols[col].add(value)\n",
    "                subboxes[(row // 3, col // 3)].add(value)\n",
    "\n",
    "        return True\n",
    "\n",
    "\n",
    "board_one = [\n",
    "    [\"5\", \"3\", \".\", \".\", \"7\", \".\", \".\", \".\", \".\"],\n",
    "    [\"6\", \".\", \".\", \"1\", \"9\", \"5\", \".\", \".\", \".\"],\n",
    "    [\".\", \"9\", \"8\", \".\", \".\", \".\", \".\", \"6\", \".\"],\n",
    "    [\"8\", \".\", \".\", \".\", \"6\", \".\", \".\", \".\", \"3\"],\n",
    "    [\"4\", \".\", \".\", \"8\", \".\", \"3\", \".\", \".\", \"1\"],\n",
    "    [\"7\", \".\", \".\", \".\", \"2\", \".\", \".\", \".\", \"6\"],\n",
    "    [\".\", \"6\", \".\", \".\", \".\", \".\", \"2\", \"8\", \".\"],\n",
    "    [\".\", \".\", \".\", \"4\", \"1\", \"9\", \".\", \".\", \"5\"],\n",
    "    [\".\", \".\", \".\", \".\", \"8\", \".\", \".\", \"7\", \"9\"],\n",
    "]\n",
    "\n",
    "board_two = [\n",
    "    [\"5\", \"3\", \"4\", \"6\", \"7\", \"8\", \"9\", \"1\", \"2\"],\n",
    "    [\"6\", \"7\", \"2\", \"1\", \"9\", \"5\", \"3\", \"4\", \"8\"],\n",
    "    [\"1\", \"9\", \"8\", \"3\", \"4\", \"2\", \"5\", \"6\", \"7\"],\n",
    "    [\"8\", \"5\", \"9\", \"7\", \"6\", \"1\", \"4\", \"2\", \"3\"],\n",
    "    [\"4\", \"2\", \"6\", \"8\", \"5\", \"3\", \"7\", \"9\", \"1\"],\n",
    "    [\"7\", \"1\", \"3\", \"9\", \"2\", \"4\", \"8\", \"5\", \"6\"],\n",
    "    [\"9\", \"6\", \"1\", \"5\", \"3\", \"7\", \"2\", \"8\", \"4\"],\n",
    "    [\"2\", \"8\", \"7\", \"4\", \"1\", \"9\", \"6\", \"3\", \"5\"],\n",
    "    [\"3\", \"4\", \"5\", \"2\", \"8\", \"6\", \"1\", \"7\", \"9\"],\n",
    "]\n",
    "isValidSudoku = Solution()\n",
    "(\n",
    "    isValidSudoku.isValidSudoku(board=board_one),\n",
    "    isValidSudoku.isValidSudoku(board=board_two),\n",
    ")"
   ]
  },
  {
   "cell_type": "markdown",
   "metadata": {},
   "source": [
    "**128. Longest Consecutive Sequence**\n"
   ]
  },
  {
   "cell_type": "code",
   "execution_count": 5,
   "metadata": {},
   "outputs": [],
   "source": [
    "class Solution:  # 59% time, 91% memory\n",
    "    def longestConsecutive(self, nums: List[int]) -> int:\n",
    "        set_nums = set(nums)\n",
    "        res = 0\n",
    "\n",
    "        for num in set_nums:\n",
    "            if num - 1 in set_nums:\n",
    "                continue\n",
    "            else:\n",
    "                tmp_res = 1  # include the starting number\n",
    "                tmp_n = num\n",
    "                while tmp_n + 1 in set_nums:\n",
    "                    tmp_res += 1\n",
    "                    tmp_n += 1\n",
    "                res = max(tmp_res, res)\n",
    "        return res"
   ]
  },
  {
   "cell_type": "markdown",
   "metadata": {},
   "source": [
    "**41. First Missing Positive**\n"
   ]
  },
  {
   "cell_type": "code",
   "execution_count": 6,
   "metadata": {},
   "outputs": [
    {
     "data": {
      "text/plain": [
       "2"
      ]
     },
     "execution_count": 6,
     "metadata": {},
     "output_type": "execute_result"
    }
   ],
   "source": [
    "class Solution:  # 70% time, 75% memory\n",
    "    def firstMissingPositive(self, nums: List[int]) -> int:\n",
    "        nums.append(\n",
    "            0\n",
    "        )  # need this incase all values from 1 -> len(nums) are present initially\n",
    "        # swap all positive values into their correct index:\n",
    "        for i in range(len(nums)):\n",
    "            while (\n",
    "                nums[i] != i\n",
    "                and nums[i] < len(nums)\n",
    "                and nums[i] > 0\n",
    "                and nums[nums[i]] != nums[i]\n",
    "            ):\n",
    "                nums[nums[i]], nums[i] = nums[i], nums[nums[i]]\n",
    "        for i in range(1, len(nums)):\n",
    "            if nums[i] != i:\n",
    "                return i\n",
    "        return len(nums)\n",
    "\n",
    "\n",
    "firstMissingPositive = Solution()\n",
    "firstMissingPositive.firstMissingPositive(\n",
    "    [3, 3, -1, 1]\n",
    ")  # , firstMissingPositive.firstMissingPositive([1])"
   ]
  },
  {
   "cell_type": "markdown",
   "metadata": {},
   "source": [
    "**75. Sort Colors**\n",
    "\n",
    "Dutch-flag sorting is the second function single pass and O(1) space\n"
   ]
  },
  {
   "cell_type": "code",
   "execution_count": 7,
   "metadata": {},
   "outputs": [
    {
     "name": "stdout",
     "output_type": "stream",
     "text": [
      "[0, 0, 1, 1, 2, 2]\n"
     ]
    }
   ],
   "source": [
    "class Solution:\n",
    "    def sortColors(self, nums: List[int]) -> None:  # 38% time, 27% memory\n",
    "        \"\"\"\n",
    "        Do not return anything, modify nums in-place instead.\n",
    "        \"\"\"\n",
    "        # O(1) space, but 2 passes\n",
    "        cnt = [0, 0, 0]\n",
    "        for n in nums:\n",
    "            cnt[n] += 1\n",
    "        left = 0\n",
    "        for i in range(len(cnt)):\n",
    "            for j in range(left, left + cnt[i]):\n",
    "                nums[j] = i\n",
    "            left += cnt[i]\n",
    "        print(nums)\n",
    "\n",
    "    def sortColorsDutch(self, nums):  # 75% time, 70% memory\n",
    "        left, mid, right = 0, 0, len(nums) - 1\n",
    "        while mid <= right:\n",
    "            if nums[mid] == 0:\n",
    "                nums[mid], nums[left] = nums[left], nums[mid]\n",
    "                # don't need to check mid and left again\n",
    "                # this will always move 0s to the leftmost index following existing 0s traversed by `mid`\n",
    "                left += 1\n",
    "                mid += 1\n",
    "            elif nums[mid] == 1:\n",
    "                # algo doesn't act on 1s, so just increment mid\n",
    "                mid += 1\n",
    "            else:  # nums[mid] == 2\n",
    "                # this will always move 2s to the rightmost index before existing 2s traversed by `mid`\n",
    "                nums[mid], nums[right] = nums[right], nums[mid]\n",
    "                right -= 1\n",
    "        print(nums)\n",
    "\n",
    "\n",
    "Solution().sortColorsDutch([2, 0, 2, 1, 1, 0])"
   ]
  },
  {
   "cell_type": "markdown",
   "metadata": {},
   "source": [
    "**1720. Decode XORed Array**\n"
   ]
  },
  {
   "cell_type": "code",
   "execution_count": 8,
   "metadata": {},
   "outputs": [
    {
     "name": "stdout",
     "output_type": "stream",
     "text": [
      "7[00111] ^ 4[00100] = 3[00011]\n",
      "\t3[00011] ^ 4[00100] = 7[00111]\n"
     ]
    },
    {
     "data": {
      "text/plain": [
       "([1, 0, 2, 1], [4, 2, 0, 7, 4])"
      ]
     },
     "execution_count": 8,
     "metadata": {},
     "output_type": "execute_result"
    }
   ],
   "source": [
    "def display_xor(a, b):\n",
    "    res = a ^ b\n",
    "    print(f\"{a}[{a:05b}] ^ {b}[{b:05b}] = {a^b}[{a^b:05b}]\")\n",
    "    print(f\"\\t{res}[{res:05b}] ^ {b}[{b:05b}] = {res^b}[{res^b:05b}]\")\n",
    "\n",
    "\n",
    "display_xor(7, 4)\n",
    "\n",
    "\n",
    "class Solution:  # 65% time, 76% memory\n",
    "    def decode(self, encoded: List[int], first: int) -> List[int]:\n",
    "        # encoded[i] = arr[i] ^ arr[i+1]\n",
    "        # where arr is the original non negative integere array\n",
    "        arr = [first]\n",
    "        for i in encoded:\n",
    "            arr.append(arr[-1] ^ i)\n",
    "        return arr\n",
    "\n",
    "\n",
    "S = Solution()\n",
    "S.decode([1, 2, 3], 1), S.decode([6, 2, 7, 3], 4)"
   ]
  },
  {
   "cell_type": "markdown",
   "metadata": {},
   "source": [
    "**605. Can Place Flowers**\n"
   ]
  },
  {
   "cell_type": "code",
   "execution_count": 46,
   "metadata": {},
   "outputs": [
    {
     "name": "stdout",
     "output_type": "stream",
     "text": [
      "2 [1, 0, 1, 0, 1, 0, 0]\n",
      "6 [1, 0, 1, 0, 1, 0, 1]\n",
      "2 [1, 0, 1, 0, 0, 1]\n"
     ]
    },
    {
     "data": {
      "text/plain": [
       "(False, False)"
      ]
     },
     "execution_count": 46,
     "metadata": {},
     "output_type": "execute_result"
    }
   ],
   "source": [
    "class Solution:  # 52% time, 6% memory\n",
    "    def canPlaceFlowers(self, flowerbed: List[int], n: int) -> bool:\n",
    "        # greedy: place a flower whenever you can\n",
    "        for i in range(len(flowerbed)):\n",
    "            if flowerbed[i] == 1:\n",
    "                continue\n",
    "            if (i == 0 or flowerbed[i - 1] == 0) and (\n",
    "                i == len(flowerbed) - 1 or flowerbed[i + 1] == 0\n",
    "            ):\n",
    "                flowerbed[i] = 1\n",
    "                # print(i, flowerbed)\n",
    "                n -= 1\n",
    "        if n <= 0:\n",
    "            return True\n",
    "        return False\n",
    "\n",
    "\n",
    "S = Solution()\n",
    "S.canPlaceFlowers([1, 0, 0, 0, 1, 0, 0], 3), S.canPlaceFlowers([1, 0, 0, 0, 0, 1], 2)"
   ]
  },
  {
   "cell_type": "markdown",
   "metadata": {},
   "source": [
    "**135. Candy**\n"
   ]
  },
  {
   "cell_type": "code",
   "execution_count": 63,
   "metadata": {},
   "outputs": [
    {
     "name": "stdout",
     "output_type": "stream",
     "text": [
      "[1, 0, 2]\n",
      "[2, 1, 2]\n",
      "[1, 2, 2]\n",
      "[1, 2, 1]\n",
      "[3, 2, 1]\n",
      "[3, 2, 1]\n",
      "[1, 2, 87, 87, 87, 2, 1]\n",
      "[1, 2, 3, 1, 3, 2, 1]\n"
     ]
    },
    {
     "data": {
      "text/plain": [
       "(5, 4, 6, 13)"
      ]
     },
     "execution_count": 63,
     "metadata": {},
     "output_type": "execute_result"
    }
   ],
   "source": [
    "class Solution:  # 41% time, 41% memory\n",
    "    def candy(self, ratings: List[int]) -> int:\n",
    "        # greedy: forward pass incremeent candy in res array when higher rating than left\n",
    "        # backward pass increment candy in res array when higher rating than right\n",
    "        res = [1] * len(ratings)\n",
    "        for left in range(1, len(res)):\n",
    "            if ratings[left] > ratings[left - 1]:\n",
    "                res[left] = res[left - 1] + 1\n",
    "        for right in reversed(range(len(res) - 1)):\n",
    "            if ratings[right] > ratings[right + 1] and res[right] <= res[right + 1]:\n",
    "                res[right] = res[right + 1] + 1\n",
    "        print(ratings)\n",
    "        print(res)\n",
    "        return sum(res)\n",
    "\n",
    "\n",
    "S = Solution()\n",
    "(\n",
    "    S.candy([1, 0, 2]),\n",
    "    S.candy([1, 2, 2]),\n",
    "    S.candy([3, 2, 1]),\n",
    "    S.candy([1, 2, 87, 87, 87, 2, 1]),\n",
    ")"
   ]
  },
  {
   "cell_type": "markdown",
   "metadata": {},
   "source": [
    "**238. Product of Array Except Self**\n"
   ]
  },
  {
   "cell_type": "code",
   "execution_count": null,
   "metadata": {},
   "outputs": [],
   "source": [
    "class Solution:\n",
    "    def productExceptSelf(self, nums: List[int]) -> List[int]:\n",
    "        res = [1] * (len(nums))\n",
    "\n",
    "        prefix = 1\n",
    "        for i in range(len(nums)):\n",
    "            res[i] = prefix\n",
    "            prefix *= nums[i]\n",
    "        postfix = 1\n",
    "        for i in range(len(nums) - 1, -1, -1):\n",
    "            res[i] *= postfix\n",
    "            postfix *= nums[i]\n",
    "        return res"
   ]
  },
  {
   "cell_type": "markdown",
   "metadata": {},
   "source": [
    "**1408. String Matching in an Array**\n",
    "\n",
    "Knuth-Morris-Pratt\n",
    "\n",
    "Rabin Karp\n"
   ]
  },
  {
   "cell_type": "code",
   "execution_count": null,
   "metadata": {},
   "outputs": [
    {
     "name": "stdout",
     "output_type": "stream",
     "text": [
      "['as', 'hero']\n",
      "['et', 'code']\n",
      "[]\n",
      "['asasd']\n"
     ]
    }
   ],
   "source": [
    "class Solution:\n",
    "    \"\"\"\n",
    "    All words are unique, so only evaluate the `words[i]` vs `words[j]` if `len(words[i]) < len(words[j])`\n",
    "    \"\"\"\n",
    "\n",
    "    # 71% time, 19% memory\n",
    "    def stringMatching(self, words: List[str]) -> List[str]:\n",
    "        res = []\n",
    "        for i in range(len(words)):\n",
    "            for j in range(len(words)):\n",
    "                if j == i:\n",
    "                    continue\n",
    "                if len(words[i]) < len(words[j]) and words[i] in words[j]:\n",
    "                    res.append(words[i])\n",
    "                    # break since `res` must not have dupes\n",
    "                    break\n",
    "        return res\n",
    "\n",
    "    # 5% time, 20% memory (35ms runtime)\n",
    "    def stringMatchingKMPAlgo(self, words: List[str]) -> List[str]:\n",
    "        res = []\n",
    "\n",
    "        # STEP 1: Build LPS arrays for all words\n",
    "        def build_lps(word: str) -> List[int]:\n",
    "            lps = [0] * len(word)\n",
    "            length = 0  # Length of the previous longest prefix suffix\n",
    "            i = 1\n",
    "\n",
    "            while i < len(word):\n",
    "                if word[i] == word[length]:\n",
    "                    length += 1\n",
    "                    lps[i] = length\n",
    "                    i += 1\n",
    "                else:\n",
    "                    if length > 0:\n",
    "                        length = lps[length - 1]\n",
    "                    else:\n",
    "                        # cannot backtrack so append 0\n",
    "                        lps[i] = 0\n",
    "                        i += 1\n",
    "            return lps\n",
    "\n",
    "        lps_array = [build_lps(word) for word in words]\n",
    "\n",
    "        # STEP 2: Search each word pair using KMP\n",
    "        for i in range(len(words)):\n",
    "            for j in range(len(words)):\n",
    "                if i == j:\n",
    "                    continue\n",
    "\n",
    "                if len(words[i]) < len(words[j]):\n",
    "                    # i will always be the shorter word\n",
    "                    # words[i] is pat, and words[j] is tgt\n",
    "                    # KMP search\n",
    "                    pat, tgt = words[i], words[j]\n",
    "                    lps = lps_array[i]\n",
    "                    iPtr, jPtr = 0, 0\n",
    "\n",
    "                    while jPtr < len(tgt):\n",
    "                        if pat[iPtr] == tgt[jPtr]:\n",
    "                            iPtr += 1\n",
    "                            jPtr += 1\n",
    "\n",
    "                            if iPtr == len(pat):\n",
    "                                res.append(pat)\n",
    "                                break\n",
    "                        else:\n",
    "                            if iPtr > 0:\n",
    "                                # can backtrack in pat\n",
    "                                iPtr = lps[iPtr - 1]\n",
    "                            else:\n",
    "                                # cannot backtrack in pat\n",
    "                                jPtr += 1\n",
    "\n",
    "                    if iPtr == len(pat):  # Break out of outer loop early\n",
    "                        break\n",
    "\n",
    "        return res\n",
    "\n",
    "    # RABIN KARP algo\n",
    "    # 5% time, 54% memory (63ms runtime)\n",
    "    def _rabin_karp(self, aInt: int, a: str, b: str) -> bool:\n",
    "        \"\"\"\n",
    "        Chat GPT modified my solution to use a rolling hash instead of recomputing bInt every time `i` got incremented\n",
    "\n",
    "        Went from 341ms to 70ms runtime.\n",
    "        \"\"\"\n",
    "        mod = 10**9 + 7\n",
    "        base = 29\n",
    "        lenA = len(a)\n",
    "        aOrd = ord(\"a\")\n",
    "\n",
    "        # Compute initial hash for the first lenA characters of b\n",
    "        bInt = 0\n",
    "        for i in range(lenA):\n",
    "            bInt = (bInt * base + (ord(b[i]) - aOrd)) % mod\n",
    "\n",
    "        # Rolling hash for the rest of b\n",
    "        power = pow(base, lenA - 1, mod)  # Precompute base^(lenA-1) % mod\n",
    "        for i in range(len(b) - lenA + 1):\n",
    "            if i > 0:\n",
    "                # Update hash using rolling hash\n",
    "                bInt = (\n",
    "                    (bInt - (ord(b[i - 1]) - aOrd) * power) * base\n",
    "                    + (ord(b[i + lenA - 1]) - aOrd)\n",
    "                ) % mod\n",
    "\n",
    "            if aInt == bInt:  # and a == b[i : i + lenA]:\n",
    "                # ignoring the hash collision check\n",
    "                return True\n",
    "        return False\n",
    "\n",
    "    def stringMatchingRabinKarp(self, words: List[str]) -> List[str]:\n",
    "        mod = 10**9 + 7\n",
    "        base = 26\n",
    "\n",
    "        res = []\n",
    "        aOrd = ord(\"a\")\n",
    "\n",
    "        for i in range(len(words)):\n",
    "            # Compute hash for words[i]\n",
    "            aInt = 0\n",
    "            for c in words[i]:\n",
    "                aInt = (aInt * base + (ord(c) - aOrd)) % mod\n",
    "\n",
    "            for j in range(len(words)):\n",
    "                if i == j:\n",
    "                    continue\n",
    "                if len(words[i]) < len(words[j]) and self._rabin_karp(\n",
    "                    aInt, words[i], words[j]\n",
    "                ):\n",
    "                    res.append(words[i])\n",
    "                    break\n",
    "\n",
    "        return res\n",
    "\n",
    "\n",
    "stringMatching = Solution()\n",
    "print(stringMatching.stringMatchingKMPAlgo([\"mass\", \"as\", \"hero\", \"superhero\"]))\n",
    "print(stringMatching.stringMatchingKMPAlgo([\"leetcode\", \"et\", \"code\"]))\n",
    "print(stringMatching.stringMatchingKMPAlgo([\"blue\", \"green\", \"bu\"]))\n",
    "print(stringMatching.stringMatchingKMPAlgo([\"masasasd\", \"asasd\"]))"
   ]
  },
  {
   "cell_type": "markdown",
   "metadata": {},
   "source": [
    "**3042. Count Prefix and Suffix Pairs I**\n"
   ]
  },
  {
   "cell_type": "code",
   "execution_count": 11,
   "metadata": {},
   "outputs": [
    {
     "name": "stdout",
     "output_type": "stream",
     "text": [
      "4\n",
      "2\n",
      "0\n"
     ]
    }
   ],
   "source": [
    "class Solution:  # 89% time, 35% memory\n",
    "    def countPrefixSuffixPairs(self, words: List[str]) -> int:\n",
    "        res = 0\n",
    "        n = len(words)\n",
    "        for i in range(n):\n",
    "            for j in range(i + 1, n):\n",
    "                if len(words[i]) > len(words[j]):\n",
    "                    continue\n",
    "                # not using elif, and just writing if makes a big diff for some reason\n",
    "                if (\n",
    "                    words[i] == words[j][: len(words[i])]\n",
    "                    and words[i] == words[j][len(words[j]) - len(words[i]) :]\n",
    "                ):\n",
    "                    res += 1\n",
    "        return res\n",
    "\n",
    "\n",
    "countPrefixSuffixPairs = Solution()\n",
    "print(countPrefixSuffixPairs.countPrefixSuffixPairs([\"a\", \"aba\", \"ababa\", \"aa\"]))\n",
    "print(countPrefixSuffixPairs.countPrefixSuffixPairs([\"pa\", \"papa\", \"ma\", \"mama\"]))\n",
    "print(countPrefixSuffixPairs.countPrefixSuffixPairs([\"abab\", \"ab\"]))"
   ]
  },
  {
   "cell_type": "markdown",
   "metadata": {},
   "source": [
    "**3045. Count Prefix and Suffix Pairs II**\n"
   ]
  },
  {
   "cell_type": "code",
   "execution_count": 77,
   "metadata": {},
   "outputs": [
    {
     "name": "stdout",
     "output_type": "stream",
     "text": [
      "0 0\n",
      "573 573\n",
      "574 574\n",
      "2 2\n",
      "0 0\n",
      "0\n",
      "0 0\n",
      "4 2\n",
      "2 2\n",
      "0 0\n",
      "0\n",
      "0 0\n",
      "2 2\n",
      "0\n"
     ]
    }
   ],
   "source": [
    "class Solution:\n",
    "    def rabinKarp(self, word: str, base: int, mod: int, suffixes, limit: int) -> int:\n",
    "        \"\"\"\n",
    "        Increments the occurrences of a suffix in `suffixes` if the suffix matches the eqaul length prefix of `word`\n",
    "\n",
    "        `limit` is used to prevent checking prefixes and suffixes unnecessarily if there are no other words long enough for it to matter\n",
    "        \"\"\"\n",
    "        a = ord(\"a\") - 1  # need the -1 so that 'a' aren't treated as zero\n",
    "        n = len(word)\n",
    "        # compute prefix and suffix hash\n",
    "        prefix = suffix = 0\n",
    "        power = 1  # keep track of the power\n",
    "\n",
    "        print(limit, min(n, limit))\n",
    "\n",
    "        for i in range(min(n, limit)):\n",
    "            # add forward pass letter to prefix hash\n",
    "            # left shift then add the new letter to the newly opened slot and then mod to avoid overflow\n",
    "            prefix = ((prefix * base) + (ord(word[i]) - a)) % mod\n",
    "\n",
    "            # add backward pass letter to suffix hash\n",
    "            # add the new letter to the left slot then mod\n",
    "            suffix = (((ord(word[n - i - 1]) - a) * power) + suffix) % mod\n",
    "            power *= base\n",
    "\n",
    "            if prefix == suffix:\n",
    "                suffixes[suffix] = suffixes.get(suffix, 0) + 1\n",
    "\n",
    "        # when you reach the end check if the word exists in `suffixes` and return that count\n",
    "        # need to decrement since we increment it (necessarily) in the loop above\n",
    "        return suffixes[suffix] - 1 if limit >= n else 0\n",
    "\n",
    "    def countPrefixSuffixPairs(self, words: List[str]) -> int:\n",
    "        \"\"\"\n",
    "        Will try with the Rabin Karp algo.\n",
    "\n",
    "        If I go in reverse order of words, and I record how many times a suffix mapping was 'encountered'\n",
    "\n",
    "        Then when processing a word ex) \"aba\" after having processed \"ababa\" I will know that there have been:\n",
    "        - 1 occurrence for each of these suffixes: [\"a\", \"ab\", \"aba\", \"abab\", \"ababa\"]\n",
    "        - When I check if there are any occurrences for the \"aba\" suffix, I see that there is 1\n",
    "        - Then I add this to my result\n",
    "\n",
    "        NOTE: only add a suffix to the 'encountered' count if it matches the words prefix\n",
    "            (since it needs to be both prefix and suffix)\n",
    "\n",
    "        Optimization: Do not need to process the entire word.\n",
    "        - If the longest word to the right is shorter and the longest word to the left is shorter, process the max of those 2 (characters)\n",
    "        - If the longest word to the right is shorter and the longest word to the left is longer, process the right number\n",
    "\n",
    "\n",
    "        \"\"\"\n",
    "        n = len(words)\n",
    "\n",
    "        longest_word_length_before_word_i = [0]\n",
    "        longest_word_length_after_word_i = [0]\n",
    "\n",
    "        for i in range(n):\n",
    "            longest_word_length_before_word_i.append(\n",
    "                max(longest_word_length_before_word_i[-1], len(words[i]))\n",
    "            )\n",
    "\n",
    "            longest_word_length_after_word_i.append(\n",
    "                max(longest_word_length_after_word_i[-1], len(words[n - i - 1]))\n",
    "            )\n",
    "        # need to pop since we are reversing (otherwise I need to do i+1 when indexing later on)\n",
    "        longest_word_length_after_word_i.pop()\n",
    "        longest_word_length_after_word_i.reverse()\n",
    "\n",
    "        res = 0\n",
    "\n",
    "        mod = pow(10, 9) + 7\n",
    "        base = 29  # prime number reduces collision\n",
    "\n",
    "        suffixes = {}\n",
    "        for i in reversed(range(n)):\n",
    "            res += self.rabinKarp(\n",
    "                words[i],\n",
    "                base,\n",
    "                mod,\n",
    "                suffixes,\n",
    "                limit=longest_word_length_before_word_i[i]\n",
    "                if longest_word_length_after_word_i[i] >= len(words[i])\n",
    "                else longest_word_length_after_word_i[i],\n",
    "            )\n",
    "\n",
    "        return res\n",
    "\n",
    "\n",
    "countPrefixSuffixPairs2 = Solution()\n",
    "print(\n",
    "    countPrefixSuffixPairs2.countPrefixSuffixPairs(\n",
    "        [\n",
    "            \"aa\",\n",
    "            \"aaaaaaaaaaaaaaaaaaaaaaaaaaaaaaaaaaaaaaaaaaaaaaaaaaaaaaaaaaaaaaaaaaaaaaaaaaaaaaaaaaaaaaaaaaaaaaaaaaaaaaaaaaaaaaaaaaaaaaaaaaaaaaaaaaaaaaaaaaaaaaaaaaaaaaaaaaaaaaaaaaaaaaaaaaaaaaaaaaaaaaaaaaaaaaaaaaaaaaaaaaaaaaaaaaaaaaaaaaaaaaaaaaaaaaaaaaaaaaaaaaaaaaaaaaaaaaaaaaaaaaaaaaaaaaaaaaaaaaaaaaaaaaaaaaaaaaaaaaaaaaaaaaaaaaaaaaaaaaaaaaaaaaaaaaaaaaaaaaaaaaaaaaaaaaaaaaaaaaaaaaaaaaaaaaaaaaaaaaaaaaaaaaaaaaaaaaaaaaaaaaaaaaaaaaaaaaaaaaaaaaaaaaaaaaaaaaaaaaaaaaaaaaaaaaaaaaaaaaaaaaaaaaaaaaaaaaaaaaaaaaaaaaaaaaaaaaaaaaaaaaaaaaaaaaaaaaaaaaaaaaaaaaaaaaaaaaaaaaaaaaaaaaaaaaaaaaaaa\",\n",
    "            \"aaaaaaaaaaaaaaaaaaaaaaaaaaaaaaaaaaaaaaaaaaaaaaaaaaaaaaaaaaaaaaaaaaaaaaaaaaaaaaaaaaaaaaaaaaaaaaaaaaaaaaaaaaaaaaaaaaaaaaaaaaaaaaaaaaaaaaaaaaaaaaaaaaaaaaaaaaaaaaaaaaaaaaaaaaaaaaaaaaaaaaaaaaaaaaaaaaaaaaaaaaaaaaaaaaaaaaaaaaaaaaaaaaaaaaaaaaaaaaaaaaaaaaaaaaaaaaaaaaaaaaaaaaaaaaaaaaaaaaaaaaaaaaaaaaaaaaaaaaaaaaaaaaaaaaaaaaaaaaaaaaaaaaaaaaaaaaaaaaaaaaaaaaaaaaaaaaaaaaaaaaaaaaaaaaaaaaaaaaaaaaaaaaaaaaaaaaaaaaaaaaaaaaaaaaaaaaaaaaaaaaaaaaaaaaaaaaaaaaaaaaaaaaaaaaaaaaaaaaaaaaaaaaaaaaaaaaaaaaaaaaaaaaaaaaaaaaaaaaaaaaaaaaaaaaaaaaaaaaaaaaaaaaaaaaaaaaaaaaaaaaaaaaaaaaaaaaaaaaaaaaaaaaaaaaaaaaa\",\n",
    "            \"aaaaaaaaaaaaaaaaaaaaaaaaaaaaaaaaaaaaaaaaaaaaaaaaaaaaaaaaaaaaaaaaaaaaaaaaaaaaaaaaaaaaaaaaaaaaaaaaaaaaaaaaaaaaaaaaaaaaaaaaaaaaaaaaaaaaaaaaaaaaaaaaaaaaaaaaaaaaaaaaaaaaaaaaaaaaaaaaaaaaaaaaaaaaaaaaaaaaaaaaaaaaaaaaaaaaaaaaaaaaaaaaaaaaaaaaaaaaaaaaaaaaaaaaaaaaaaaaaaaaaaaaaaaaaaaaaaaaaaaaaaaaaaaaaaaaaaaaaaaaaaaaaaaaaaaaaaaaaaaaaaaaaaaaaaaaaaaaaaaaaaaaaaaaaaaaaaaaaaaaaaaaaaaaaaaaaaaaaaaaaaaaaaaaaaaaaaaaaaaaaaaaaaaaaaaaaaaaaaaaaaaaaaaaaaaaaaaaaaaaaaaaaaaaaaaaaaaaaaaaaaaaaaaaaaaaaaaaaaaaaaaaaaaaaaaaaaaaaaaaaaaaaaaaaaaaaaaaaaaaaaaaaaaaaaaaaaaaaaaaaaaaaaaaaaaaaaaaaaaaaaaaaaaaaaaaaa\",\n",
    "            \"aaaaaaaaaaaaaaaaaaaaaaaaaaaaaaaaaaaaaaaaaaaaaaaaaaaaaaaaaaaaaaaaaaaaaaaaaaaaaaaaaaaaaaaaaaaaaaaaaaaaaaaaaaaaaaaaaaaaaaaaaaaaaaaaaaaaaaaaaaaaaaaaaaaaaaaaaaaaaaaaaaaaaaaaaaaaaaaaaaaaaaaaaaaaaaaaaaaaaaaaaaaaaaaaaaaaaaaaaaaaaaaaaaaaaaaaaaaaaaaaaaaaaaaaaaaaaaaaaaaaaaaaaaaaaaaaaaaaaaaaaaaaaaaaaaaaaaaaaaaaaaaaaaaaaaaaaaaaaaaaaaaaaaaaaaaaaaaaaaaaaaaaaaaaaaaaaaaaaaaaaaaaaaaaaaaaaaaaaaaaaaaaaaaaaaaaaaaaaaaaaaaaaaaaaaaaaaaaaaaaaaaaaaaaaaaaaaaaaaaaaaaaaaaaaaaaaaaaaaaaaaaaaaaaaaaaaaaaaaaaaaaaaaaaaaaaaaaaaaaaaaaaaaaaaaaaaaaaaaaaaaaaaaaaaaaaaaaaaaaaaaaaaaaaaaaaaaaaaaaaaaaaaaaaaaaaa\",\n",
    "        ]\n",
    "    )\n",
    ")\n",
    "print(countPrefixSuffixPairs2.countPrefixSuffixPairs([\"pa\", \"papa\", \"ma\", \"mama\"]))\n",
    "print(countPrefixSuffixPairs2.countPrefixSuffixPairs([\"abab\", \"ab\"]))"
   ]
  },
  {
   "cell_type": "code",
   "execution_count": 116,
   "metadata": {},
   "outputs": [
    {
     "name": "stdout",
     "output_type": "stream",
     "text": [
      "5\n"
     ]
    }
   ],
   "source": [
    "# class Solution:\n",
    "#     def countPrefixSuffixPairs(self, words: List[str]) -> int:\n",
    "#         \"\"\"\n",
    "#         Count prefix-suffix pairs in the list of words using Rabin-Karp hashing.\n",
    "#         \"\"\"\n",
    "#         a = ord(\"a\") - 1  # Normalize 'a' to 1\n",
    "#         n = len(words)\n",
    "#         res = 0\n",
    "#         mod = pow(10, 9) + 7\n",
    "#         base = 29  # Prime base reduces collisions\n",
    "\n",
    "#         # precompute powers for Rabin Karp hashing\n",
    "#         powers = [1]\n",
    "#         for i in range(max(len(word) for word in words)):\n",
    "#             powers.append((powers[-1] * base) % mod)\n",
    "\n",
    "#         suffixes = {}\n",
    "\n",
    "#         for i in reversed(range(n)):\n",
    "#             word = words[i]\n",
    "#             prefix, suffix = 0, 0\n",
    "#             for j in range(len(word)):\n",
    "#                 # Update prefix hash\n",
    "#                 prefix = ((prefix * base) + (ord(word[j]) - a)) % mod\n",
    "\n",
    "#                 # Update suffix hash\n",
    "#                 suffix = (((ord(word[-(j + 1)]) - a) * powers[j]) + suffix) % mod\n",
    "\n",
    "#                 # Check for prefix-suffix match\n",
    "#                 if prefix == suffix:\n",
    "#                     # Increment suffix occurrence\n",
    "#                     suffixes[suffix] = suffixes.get(suffix, 0) + 1\n",
    "\n",
    "#             res += suffixes[suffix] - 1\n",
    "\n",
    "#         return res\n",
    "\n",
    "# 93% time, 77% memory\n",
    "class Solution:\n",
    "    \"\"\"\n",
    "    This is way faster than Rabin Karp or TrieNode solutions because\n",
    "    `startswith` and `endswith` are super optimized C functions\n",
    "    \"\"\"\n",
    "\n",
    "    def countPrefixSuffixPairs(self, words: List[str]) -> int:\n",
    "        res = 0\n",
    "        seen = {words[0]: 1}\n",
    "\n",
    "        for word in words[1:]:\n",
    "            for fix, count in seen.items():\n",
    "                if word.startswith(fix) and word.endswith(fix):\n",
    "                    res += count\n",
    "            seen[word] = seen.get(word, 0) + 1\n",
    "\n",
    "        return res\n",
    "\n",
    "\n",
    "# Test case\n",
    "countPrefixSuffixPairs2 = Solution()\n",
    "print(\n",
    "    countPrefixSuffixPairs2.countPrefixSuffixPairs(\n",
    "        [\n",
    "            \"aa\",\n",
    "            \"a\" * 10000000,\n",
    "            \"a\" * 9999999,\n",
    "            \"a\" * 9999998,\n",
    "            \"a\" * 9999997,\n",
    "            \"a\" * 9999996,\n",
    "        ]\n",
    "    )\n",
    ")"
   ]
  },
  {
   "cell_type": "markdown",
   "metadata": {},
   "source": [
    "**2185. Counting Words With a Given Prefix**\n"
   ]
  },
  {
   "cell_type": "code",
   "execution_count": null,
   "metadata": {},
   "outputs": [],
   "source": [
    "class Solution:\n",
    "    def prefixCount(self, words: List[str], pref: str) -> int:\n",
    "        return sum(int(word.startswith(pref)) for word in words)"
   ]
  },
  {
   "cell_type": "markdown",
   "metadata": {},
   "source": [
    "**916. Word Subsets**\n"
   ]
  },
  {
   "cell_type": "code",
   "execution_count": 18,
   "metadata": {},
   "outputs": [
    {
     "data": {
      "text/plain": [
       "['facebook', 'google', 'leetcode']"
      ]
     },
     "execution_count": 18,
     "metadata": {},
     "output_type": "execute_result"
    }
   ],
   "source": [
    "class Solution:  # 97% time, 75% memory\n",
    "    def wordSubsets(self, words1: List[str], words2: List[str]) -> List[str]:\n",
    "        \"\"\"\n",
    "        `words1` has no dupes\n",
    "\n",
    "        NOTE: Just need to get the max occurrence of each letter in a word in `words2`\n",
    "        This is because each word in `words1` needs to be superset of all words in `words2`\n",
    "        \"\"\"\n",
    "\n",
    "        counter2 = {}\n",
    "        seen = []\n",
    "        for word in words2:\n",
    "            for c in word:\n",
    "                if c in seen:\n",
    "                    # linear search but O(26) = O(1)\n",
    "                    continue\n",
    "                seen.append(c)\n",
    "                counter2[c] = max(counter2.get(c, 0), word.count(c))\n",
    "            seen.clear()\n",
    "\n",
    "        result = []\n",
    "        for word in words1:\n",
    "            flag = True\n",
    "            for c in counter2:\n",
    "                if word.count(c) < counter2[c]:\n",
    "                    flag = False\n",
    "                    break\n",
    "            if flag:\n",
    "                result.append(word)\n",
    "\n",
    "        return result\n",
    "\n",
    "\n",
    "wordSubsets = Solution()\n",
    "wordSubsets.wordSubsets(\n",
    "    [\"amazon\", \"apple\", \"facebook\", \"google\", \"leetcode\"], [\"e\", \"o\"]\n",
    ")"
   ]
  },
  {
   "cell_type": "markdown",
   "metadata": {},
   "source": [
    "**1400. Construct K Palindrome Strings**\n",
    "\n",
    "The hints give away the answer.\n"
   ]
  },
  {
   "cell_type": "code",
   "execution_count": null,
   "metadata": {},
   "outputs": [],
   "source": [
    "# 93% time. 9% memory\n",
    "class Solution:\n",
    "    def canConstruct(self, s: str, k: int) -> bool:\n",
    "        if len(s) < k:\n",
    "            return False\n",
    "\n",
    "        # this is a lot faster than using the 26 letter array and ord(\"a\")\n",
    "        count = Counter(s)\n",
    "\n",
    "        # number of odd-number occurring letters needs to be less than or equal to k\n",
    "        # In a palindrom there can only be at most one letter that occurs an odd number of times\n",
    "        # ie. if the length of the palindrom is odd then the midle letter is allowed to occur an odd number of times\n",
    "        # so if there are more than k such letters, you MUST make at least that many palindromes when using all letters in s\n",
    "        # to make fewer you need to exclude some of those odd-occurring letters in s.\n",
    "        return sum(num % 2 for num in count.values()) <= k"
   ]
  },
  {
   "cell_type": "markdown",
   "metadata": {},
   "source": [
    "**2381. Shifting Letters II**\n"
   ]
  },
  {
   "cell_type": "code",
   "execution_count": 25,
   "metadata": {},
   "outputs": [
    {
     "name": "stdout",
     "output_type": "stream",
     "text": [
      "yzb\n",
      "catz\n"
     ]
    }
   ],
   "source": [
    "class Solution:\n",
    "    # 33% time, 40% memory (two 2D arrays)\n",
    "    # 65% time, 86% memory (two 1D arrays)\n",
    "    # 96% time, 28% memory (one 1D array) not sure how this uses more memory tbh\n",
    "    def shiftingLetters(self, s: str, shifts: List[List[int]]) -> str:\n",
    "        \"\"\"\n",
    "        Keep track of how much shifting I need to do for each letter in total instead of doing redundant work going one shift at a time\n",
    "\n",
    "        Hint 2: Try marking the start and ends of each shift, then perform a prefix sum of the shifts.\n",
    "\n",
    "        If I keep a counter of each forward shift starting at an index and beach backwards shift starting at an index\n",
    "        As well as at their end\n",
    "        I get two 2D arrays\n",
    "\n",
    "        ```\n",
    "        \"dztz\", [[0, 2, 0], [1, 1, 1]]\n",
    "        ```\n",
    "\n",
    "        becomes\n",
    "\n",
    "        ```\n",
    "        # I will combine fwd and bwd into one array and just use the 0 or 1 as indexing\n",
    "        # [ count ]\n",
    "        starts_fwd = [0,1,0,0]\n",
    "        ends_fwd = [0,1,0,0]\n",
    "        starts_bwd = [1,0,0,0]\n",
    "        ends_bwd = [0,0,1,0]\n",
    "        ```\n",
    "\n",
    "        Calculating shifts\n",
    "        At every iteration you update the starts, increment the shifts, then update the ends since ends are inclusive\n",
    "        ```\n",
    "        do_shifts = [0,0,0,0]\n",
    "        active_fwd = active_bwd = 0\n",
    "\n",
    "        # i = 0\n",
    "        active_bwd = 1 # based on the arrays we saved\n",
    "\n",
    "        do_shifts = [(0-1),0,0,0]\n",
    "\n",
    "        # i = 1\n",
    "        active_bwd = 1\n",
    "        active_fwd = 1\n",
    "\n",
    "        do_shifts = [-1,(0+1-1),0,0]\n",
    "\n",
    "        active_fwd = 0\n",
    "\n",
    "        etc.\n",
    "        ```\n",
    "\n",
    "        NOTE: I space reduced from two 2D to two 1D arrays (referring to starts and ends)\n",
    "        \"\"\"\n",
    "        n = len(s)\n",
    "        starts = [0] * n\n",
    "        ends = [0] * n\n",
    "\n",
    "        for start, end, direct in shifts:\n",
    "            direction = 1 if direct else -1\n",
    "            starts[start] += direction\n",
    "            ends[end] += direction\n",
    "\n",
    "        do_shifts = []\n",
    "        active = 0\n",
    "        for i in range(n):\n",
    "            active += starts[i]\n",
    "\n",
    "            do_shifts.append(active)\n",
    "\n",
    "            active -= ends[i]\n",
    "\n",
    "        lowercase = \"abcdefghijklmnopqrstuvwxyz\"\n",
    "        offset = ord(\"a\")\n",
    "        new_s = \"\"\n",
    "\n",
    "        for i, c in enumerate(s):\n",
    "            do_shift = do_shifts[i]\n",
    "            new_s += lowercase[(ord(c) - offset + do_shift) % 26]\n",
    "\n",
    "        return new_s\n",
    "\n",
    "    def shiftingLettersOneArray(self, s: str, shifts: List[List[int]]) -> str:\n",
    "        \"\"\"NOTE: I space reduced to just one 1D array (referring to `active`)\"\"\"\n",
    "        n = len(s)\n",
    "        actives = [0] * (n - 1)\n",
    "\n",
    "        for start, end, direct in shifts:\n",
    "            direction = 1 if direct else -1\n",
    "            actives[start] += direction\n",
    "            # plus 1 because end is inclusive\n",
    "            actives[end + 1] -= (\n",
    "                direction  # this needs to reduce the number of active shifts\n",
    "            )\n",
    "\n",
    "        do_shifts = []\n",
    "        active = 0\n",
    "        for i in range(n):\n",
    "            active += actives[i]\n",
    "            do_shifts.append(active)\n",
    "\n",
    "        lowercase = \"abcdefghijklmnopqrstuvwxyz\"\n",
    "        offset = ord(\"a\")\n",
    "        new_s = \"\"\n",
    "\n",
    "        for i, c in enumerate(s):\n",
    "            do_shift = do_shifts[i]\n",
    "            new_s += lowercase[(ord(c) - offset + do_shift) % 26]\n",
    "\n",
    "        return new_s\n",
    "\n",
    "\n",
    "shiftingLetters = Solution()\n",
    "print(\n",
    "    shiftingLetters.shiftingLetters(\"abc\", [[0, 1, 0], [1, 2, 1], [1, 2, 0], [0, 2, 0]])\n",
    ")\n",
    "print(shiftingLetters.shiftingLetters(\"dztz\", [[0, 0, 0], [1, 1, 1]]))"
   ]
  },
  {
   "cell_type": "markdown",
   "metadata": {},
   "source": [
    "**3223. Minimum Length of String After Operations**\n"
   ]
  },
  {
   "cell_type": "code",
   "execution_count": 8,
   "metadata": {},
   "outputs": [
    {
     "name": "stdout",
     "output_type": "stream",
     "text": [
      "5\n",
      "2\n"
     ]
    }
   ],
   "source": [
    "class Solution:  # 57% time, 17% memory\n",
    "    \"\"\"\n",
    "    There is a faster way where you manually use str.count(c) for all c in the alphabet and then increment by 1 or 2 if the frequency is odd or even, respectively.\n",
    "    This is faster because it uses less memory (not storing a Counter) and str methods are implemented in C and very fast.\n",
    "        Cuts runtime in half compared to my solution.\n",
    "    \"\"\"\n",
    "\n",
    "    def minimumLength(self, s: str) -> int:\n",
    "        \"\"\"\n",
    "        You need 3 letters to be involved in a deletion operation resulting in 1 remaining letter\n",
    "\n",
    "        This means for a letter,\n",
    "        - if it appears an even number of times, `freq - 2 = number_of_letters_deleted`\n",
    "        - if it appears an odd number of times `freq - 1 = number_of_letters_deleted`\n",
    "\n",
    "        Condenses into : `2 - (freq % 2) = number_of_letters_maintained` per distinct letter\n",
    "        Note that modulo 2 is the same as `num & 1`\n",
    "        \"\"\"\n",
    "        count = Counter(s)\n",
    "        return sum(2 - (freq & 1) for freq in count.values())\n",
    "\n",
    "\n",
    "minimumLength = Solution()\n",
    "print(minimumLength.minimumLength(\"abaacbcbb\"))\n",
    "print(minimumLength.minimumLength(\"aa\"))"
   ]
  },
  {
   "cell_type": "markdown",
   "metadata": {},
   "source": [
    "**2657. Find the Prefix Common Array of Two Arrays**\n"
   ]
  },
  {
   "cell_type": "code",
   "execution_count": 14,
   "metadata": {},
   "outputs": [
    {
     "name": "stdout",
     "output_type": "stream",
     "text": [
      "[0, 2, 3, 4]\n",
      "[0, 1, 3]\n"
     ]
    }
   ],
   "source": [
    "class Solution:  # 94% time, 32% memory\n",
    "    def findThePrefixCommonArray(self, A: List[int], B: List[int]) -> List[int]:\n",
    "        store = [False] * (len(A) + 1)\n",
    "        res = []\n",
    "        for i in range(len(A)):\n",
    "            tmp = res[i - 1] if i else 0\n",
    "            if store[A[i]]:\n",
    "                # if B from a previous iteration set it to true, we found a new match\n",
    "                tmp += 1\n",
    "            else:\n",
    "                # store the occurrence\n",
    "                store[A[i]] = True\n",
    "\n",
    "            if store[B[i]]:\n",
    "                # if A from a previous or current iteration set it to true, we found a new match\n",
    "                tmp += 1\n",
    "            else:\n",
    "                store[B[i]] = True\n",
    "\n",
    "            res.append(tmp)\n",
    "\n",
    "        return res\n",
    "\n",
    "\n",
    "findThePrefixCommonArray = Solution()\n",
    "print(findThePrefixCommonArray.findThePrefixCommonArray([1, 3, 2, 4], [3, 1, 2, 4]))\n",
    "print(findThePrefixCommonArray.findThePrefixCommonArray([2, 3, 1], [3, 1, 2]))"
   ]
  },
  {
   "cell_type": "markdown",
   "metadata": {},
   "source": [
    "**2425. Bitwise XOR of All Pairings**\n"
   ]
  },
  {
   "cell_type": "code",
   "execution_count": 36,
   "metadata": {},
   "outputs": [
    {
     "name": "stdout",
     "output_type": "stream",
     "text": [
      "13\n",
      "0\n"
     ]
    }
   ],
   "source": [
    "class Solution:\n",
    "    # 58% time, 60% memory\n",
    "    def xorAllNumsSimple(self, nums1: List[int], nums2: List[int]) -> int:\n",
    "        result = 0\n",
    "        if len(nums1) % 2:\n",
    "            for i in nums2:\n",
    "                result ^= i\n",
    "        if len(nums2) % 2:\n",
    "            for i in nums1:\n",
    "                result ^= i\n",
    "        return result\n",
    "\n",
    "    # 12% time, 8% memory\n",
    "    def xorAllNums(self, nums1: List[int], nums2: List[int]) -> int:\n",
    "        \"\"\"\n",
    "        Just n^2 loop, append to nums3 then XOR everything?\n",
    "\n",
    "        But logically, if you are making nums3 out of [1,2] and [3,4]\n",
    "        ```\n",
    "        nums3 = [\n",
    "            1 ^ 3,\n",
    "            1 ^ 4,\n",
    "            2 ^ 3,\n",
    "            2 ^ 4,\n",
    "        ]\n",
    "        ```\n",
    "        Then you are doing\n",
    "        ```\n",
    "        return (\n",
    "            (1 ^ 3) ^ (1 ^ 4) ^ (2 ^ 3) ^ (2 ^ 4)\n",
    "        )\n",
    "        ```\n",
    "\n",
    "        NOTE: the parentheses are meaningless. So you can rearrange like this\n",
    "\n",
    "        `1 ^ 1 ^ 2 ^ 2 ^ 3 ^ 3 ^ 4 ^ 4`\n",
    "\n",
    "        which is 0 because there's an even number of each integer\n",
    "        We only need to keep track of integers that have an odd frequency in `nums3`\n",
    "\n",
    "        We can calc this as follows:\n",
    "        - We know that every position in `nums1` will get XORed `len(nums2)` times\n",
    "        - We know that if the value at a position in `nums1` is present in `nums2` that will cancel out 1 of the XOR operations\n",
    "        - If the frequency is even it cancels out, if it is odd we only care about a single occurrence because the others will cancel out\n",
    "\n",
    "        Ex)\n",
    "        [1,2,3], [1,5]\n",
    "        for index 0 (value is 1):\n",
    "        - (len(nums2) - count(nums2, 1)) % 2\n",
    "        - Frequency of index 0 in nums3 = (2 - 1) % 2 = 1\n",
    "\n",
    "\n",
    "        [1, 1], [1, 1, 2]\n",
    "        1^1 1^1 1^2 1^1 1^1 1^2 = 1^2 1^2 = 1^1 2^2 = 0^0 = 0\n",
    "        basically saying, for a single one on the left, you only get 1 pair instead of 3 because there are 2 1s on the right\n",
    "        then just mulitply that by 2 because there are 2 on the left\n",
    "        \"\"\"\n",
    "        result = 0\n",
    "\n",
    "        n1, n2 = len(nums1), len(nums2)\n",
    "        if not (n1 % 2 or n2 % 2):\n",
    "            return result\n",
    "\n",
    "        c1 = Counter(nums1)\n",
    "        c2 = Counter(nums2)\n",
    "\n",
    "        for num, freq in c1.items():\n",
    "            if (freq * (n2 - c2.get(num, 0))) % 2:\n",
    "                # if there is an odd frequency of `num` after considering the above\n",
    "                result ^= num\n",
    "\n",
    "        for num, freq in c2.items():\n",
    "            if (freq * (n1 - c1.get(num, 0))) % 2:\n",
    "                # if there is an odd frequency of `num` after considering the above\n",
    "                result ^= num\n",
    "\n",
    "        return result\n",
    "\n",
    "\n",
    "xorAllNums = Solution()\n",
    "print(xorAllNums.xorAllNumsSimple([2, 1, 3], [10, 2, 5, 0]))\n",
    "print(xorAllNums.xorAllNumsSimple([1, 2], [1, 1]))"
   ]
  },
  {
   "cell_type": "markdown",
   "metadata": {},
   "source": [
    "**2683. Neighboring Bitwise XOR**\n"
   ]
  },
  {
   "cell_type": "code",
   "execution_count": 6,
   "metadata": {},
   "outputs": [
    {
     "data": {
      "text/plain": [
       "True"
      ]
     },
     "execution_count": 6,
     "metadata": {},
     "output_type": "execute_result"
    }
   ],
   "source": [
    "class Solution:\n",
    "    \"\"\"\n",
    "    The fastest solution just returns the sum of the array % 2.\n",
    "    \"\"\"\n",
    "\n",
    "    # 35% time, 49% memory\n",
    "    def doesValidArrayExist(self, derived: List[int]) -> bool:\n",
    "        \"\"\"\n",
    "        Maintain the current index of original in a variable, if you see a contradiction return False\n",
    "        at the end return True\n",
    "\n",
    "        derived = [1,1,0] -> means that original[0] and original[1] are different, original[1] and original[2] are different, original[2] and original[0] are the same\n",
    "            so original = [1,0,1] or [0,1,0]\n",
    "\n",
    "        [1,0,0] -> doesn't work [1, not 1, also not 1 but has to be 1] (contradiction)\n",
    "\n",
    "        cur = derived[0] = 1\n",
    "        i = 1:  prev = 1, cur = 0 (needs to be different)\n",
    "        i = 2:  prev = 0, cur = 0 (needs to be the same)\n",
    "        i = 3:  prev = 0, cur = 0 and 1 (needs to be the same as prev and the same as deprived[0])\n",
    "        \"\"\"\n",
    "        first = derived[0]\n",
    "        cur = first\n",
    "        for i in range(len(derived)):\n",
    "            if derived[i]:\n",
    "                cur ^= 1\n",
    "\n",
    "        # if there is no contradiction, this will be true\n",
    "        return cur == first\n",
    "\n",
    "    # 67% time, 49% memory\n",
    "    def doesValidArrayExistSimpler(self, derived: List[int]) -> bool:\n",
    "        \"\"\"\n",
    "        Because of math, XORing the entirety of a an array formed by XORing a cyclic array always results in 0\n",
    "        \"\"\"\n",
    "        n = 0  # doesn't affect the state of anything\n",
    "        for m in derived:\n",
    "            n ^= m\n",
    "        return bool(n)\n",
    "\n",
    "\n",
    "doesValidArrayExist = Solution()\n",
    "doesValidArrayExist.doesValidArrayExist([1, 1, 0])"
   ]
  },
  {
   "cell_type": "markdown",
   "metadata": {},
   "source": [
    "**2661. First Completely Painted Row or Column**\n"
   ]
  },
  {
   "cell_type": "code",
   "execution_count": 10,
   "metadata": {},
   "outputs": [
    {
     "name": "stdout",
     "output_type": "stream",
     "text": [
      "2\n",
      "3\n",
      "1\n"
     ]
    },
    {
     "data": {
      "text/plain": [
       "[[4, 3, 5], [1, 2, 6]]"
      ]
     },
     "execution_count": 10,
     "metadata": {},
     "output_type": "execute_result"
    }
   ],
   "source": [
    "class Solution:\n",
    "    # 96% time, 96% memory\n",
    "    def firstCompleteIndex(self, arr: List[int], mat: List[List[int]]) -> int:\n",
    "        \"\"\"\n",
    "        Get a mapping of all the positions for the values of arr\n",
    "\n",
    "        You can get a lot of runtime acceleration if you use two arrays for position instead of a 2d array\n",
    "        \"\"\"\n",
    "        ROWS = len(mat)\n",
    "        COLS = len(mat[0])\n",
    "        positions = [None] * (ROWS * COLS + 1)\n",
    "        for i in range(ROWS):\n",
    "            for j in range(COLS):\n",
    "                positions[mat[i][j]] = (i, j)\n",
    "\n",
    "        row_i_hasJColumnsFilled = [0] * ROWS\n",
    "        col_i_hasJRowsFilled = [0] * COLS\n",
    "\n",
    "        for idx, num in enumerate(arr):\n",
    "            i, j = positions[num]\n",
    "            row_i_hasJColumnsFilled[i] += 1\n",
    "            col_i_hasJRowsFilled[j] += 1\n",
    "\n",
    "            # success condition:\n",
    "            if row_i_hasJColumnsFilled[i] == COLS or col_i_hasJRowsFilled[j] == ROWS:\n",
    "                return idx\n",
    "\n",
    "\n",
    "firstCompleteIndex = Solution()\n",
    "print(firstCompleteIndex.firstCompleteIndex([1, 3, 4, 2], [[1, 4], [2, 3]]))\n",
    "print(\n",
    "    firstCompleteIndex.firstCompleteIndex(\n",
    "        [2, 8, 7, 4, 1, 3, 5, 6, 9], [[3, 2, 5], [1, 4, 6], [8, 7, 9]]\n",
    "    )\n",
    ")\n",
    "print(firstCompleteIndex.firstCompleteIndex([1, 4, 5, 2, 6, 3], [[4, 3, 5], [1, 2, 6]]))\n",
    "[\n",
    "    [4, 3, 5],\n",
    "    [1, 2, 6],\n",
    "]"
   ]
  },
  {
   "cell_type": "markdown",
   "metadata": {},
   "source": [
    "**2017. Grid Game**\n"
   ]
  },
  {
   "cell_type": "code",
   "execution_count": null,
   "metadata": {},
   "outputs": [],
   "source": [
    "class Solution:\n",
    "    # 36% time, 33% memory\n",
    "    def gridGame(self, grid: List[List[int]]) -> int:\n",
    "        \"\"\"\n",
    "        Robot 1 can choose any index i [0, n-1] to go down to the bottom row\n",
    "        The score that robot 2 can obtain on such an index i decision is the max of the top right and bottom left corners that robot 1 did not take\n",
    "        \"\"\"\n",
    "        n = len(grid[0])\n",
    "\n",
    "        # prefix sums\n",
    "        row1 = [0] * n\n",
    "        row2 = [0] * n\n",
    "        for j in range(n):\n",
    "            row1[j] = grid[0][j] + (row1[j - 1] if j > 0 else 0)\n",
    "            row2[j] = grid[1][j] + (row2[j - 1] if j > 0 else 0)\n",
    "\n",
    "        result = float(\"inf\")\n",
    "        for rowSwap in range(n):\n",
    "            # top right\n",
    "            top = row1[-1] - row1[rowSwap]\n",
    "            # bottom left\n",
    "            bottom = row2[rowSwap - 1] if rowSwap > 0 else 0\n",
    "            # robot 2 takes the max of the top right and bottom left\n",
    "            result = min(result, max(top, bottom))\n",
    "\n",
    "        return result"
   ]
  },
  {
   "cell_type": "markdown",
   "metadata": {},
   "source": [
    "**1267. Count Servers that Communicate**\n"
   ]
  },
  {
   "cell_type": "code",
   "execution_count": null,
   "metadata": {},
   "outputs": [],
   "source": [
    "class Solution:\n",
    "    # 73% time, 62% memory\n",
    "    def countServers(self, grid: List[List[int]]) -> int:\n",
    "        n, m = len(grid), len(grid[0])\n",
    "        rows = [0] * n\n",
    "        cols = [0] * m\n",
    "        for i in range(n):\n",
    "            for j in range(m):\n",
    "                if grid[i][j] == 1:\n",
    "                    rows[i] += 1\n",
    "                    cols[j] += 1\n",
    "        result = 0\n",
    "        for i in range(n):\n",
    "            for j in range(m):\n",
    "                if grid[i][j] == 1 and (rows[i] > 1 or cols[j] > 1):\n",
    "                    result += 1\n",
    "\n",
    "        return result"
   ]
  },
  {
   "cell_type": "markdown",
   "metadata": {},
   "source": [
    "**3105. Longest Strictly Increasing or Strictly Decreasing Subarray**\n"
   ]
  },
  {
   "cell_type": "code",
   "execution_count": null,
   "metadata": {},
   "outputs": [],
   "source": [
    "class Solution:\n",
    "    \"\"\"It is faster to just do 2 scans through the array checking for the longest increasing/decreasing explicitly\"\"\"\n",
    "\n",
    "    # 66% time, 68% memory\n",
    "    def longestMonotonicSubarray(self, nums: List[int]) -> int:\n",
    "        result = 1\n",
    "        # DP problem\n",
    "        # hold[0] will store the increasing count\n",
    "        # hold[1] will store the decreasing count\n",
    "        hold = [[1] * len(nums) for _ in range(2)]\n",
    "        for i in range(1, len(nums)):\n",
    "            if nums[i] > nums[i - 1]:\n",
    "                hold[0][i] = hold[0][i - 1] + 1\n",
    "                result = max(result, hold[0][i])\n",
    "            elif nums[i] < nums[i - 1]:\n",
    "                hold[1][i] = hold[1][i - 1] + 1\n",
    "                result = max(result, hold[1][i])\n",
    "            else:\n",
    "                continue\n",
    "        return result"
   ]
  },
  {
   "cell_type": "code",
   "execution_count": 4,
   "metadata": {},
   "outputs": [
    {
     "name": "stdout",
     "output_type": "stream",
     "text": [
      "65\n",
      "150\n",
      "33\n"
     ]
    }
   ],
   "source": [
    "class Solution:\n",
    "    # 100% time, 45% memory\n",
    "    def maxAscendingSum(self, nums: List[int]) -> int:\n",
    "        \"\"\"\n",
    "        Feels like a pretty simple question lol\n",
    "        \"\"\"\n",
    "        result = nums[0]\n",
    "        curSum = nums[0]\n",
    "        for i in range(1, len(nums)):\n",
    "            if nums[i] > nums[i - 1]:\n",
    "                curSum += nums[i]\n",
    "                result = max(result, curSum)\n",
    "            else:\n",
    "                curSum = nums[i]\n",
    "        return result\n",
    "\n",
    "\n",
    "maxAscendingSum = Solution()\n",
    "print(maxAscendingSum.maxAscendingSum([10, 20, 30, 5, 10, 50]))\n",
    "print(maxAscendingSum.maxAscendingSum([10, 20, 30, 40, 50]))\n",
    "print(maxAscendingSum.maxAscendingSum([12, 17, 15, 13, 10, 11, 12]))"
   ]
  },
  {
   "cell_type": "markdown",
   "metadata": {},
   "source": [
    "**1726. Tuple with Same Product**\n"
   ]
  },
  {
   "cell_type": "code",
   "execution_count": null,
   "metadata": {},
   "outputs": [],
   "source": [
    "class Solution:\n",
    "    # 88% time, 67% memory\n",
    "    def tupleSameProduct(self, nums: List[int]) -> int:\n",
    "        \"\"\"\n",
    "        Backtracking with permutations and maintaining a visited set (of the ordered integers)\n",
    "        A quartet results in 8 permutations in this question\n",
    "\n",
    "        All integers are unique so each product of two integers will be formed by two different pairs of integers\n",
    "\n",
    "        Number of tuples for a specifc product is ((4x-4) * x) where x is the frequency of that product among pairs in `nums`\n",
    "        \"\"\"\n",
    "        freq = {}\n",
    "        for i in range(len(nums)):\n",
    "            for j in range(i + 1, len(nums)):\n",
    "                prod = nums[i] * nums[j]\n",
    "                freq[prod] = freq.get(prod, 0) + 1\n",
    "        result = 0\n",
    "        for v in freq.values():\n",
    "            if v:\n",
    "                result += (4 * v - 4) * v\n",
    "        return result"
   ]
  },
  {
   "cell_type": "markdown",
   "metadata": {},
   "source": [
    "**3160. Find the Number of Distinct Colors Among the Balls**\n"
   ]
  },
  {
   "cell_type": "code",
   "execution_count": null,
   "metadata": {},
   "outputs": [],
   "source": [
    "class Solution:\n",
    "    # 36% time, 100% memory\n",
    "    def queryResults(self, limit: int, queries: List[List[int]]) -> List[int]:\n",
    "        freqs = {}\n",
    "        colors = {}\n",
    "        count = 0\n",
    "        for i in range(len(queries)):\n",
    "            x, y = queries[i]\n",
    "            if x in colors:\n",
    "                old = colors[x]\n",
    "                # need to decrement the current color\n",
    "                freqs[old] -= 1\n",
    "                if not freqs[old]:\n",
    "                    count -= 1\n",
    "                    # delete the key so that i can have an if statement later\n",
    "                    del freqs[old]\n",
    "\n",
    "            # reassign and increment\n",
    "            colors[x] = y\n",
    "            if y in freqs:\n",
    "                freqs[colors[x]] += 1\n",
    "            else:\n",
    "                freqs[colors[x]] = 1\n",
    "                count += 1\n",
    "\n",
    "            queries[i] = count\n",
    "        return queries"
   ]
  },
  {
   "cell_type": "markdown",
   "metadata": {},
   "source": [
    "**2364. Count Number of Bad Pairs**\n"
   ]
  },
  {
   "cell_type": "code",
   "execution_count": null,
   "metadata": {},
   "outputs": [
    {
     "name": "stdout",
     "output_type": "stream",
     "text": [
      "{-4: 1, 0: 2, -1: 1}\n"
     ]
    },
    {
     "data": {
      "text/plain": [
       "5"
      ]
     },
     "execution_count": 5,
     "metadata": {},
     "output_type": "execute_result"
    }
   ],
   "source": [
    "class Solution:\n",
    "    # 28% time, 28% memory\n",
    "    def countBadPairs(self, nums: List[int]) -> int:\n",
    "        \"\"\"\n",
    "        ```\n",
    "        j - i != nums[j] - nums[i]\n",
    "\n",
    "        # equivalent to\n",
    "\n",
    "        j - nums[j] != i - nums[i]\n",
    "        ```\n",
    "        \"\"\"\n",
    "        freq = {}\n",
    "        result = 0\n",
    "        n = len(nums)\n",
    "        for i in range(len(nums)):\n",
    "            freq[i - nums[i]] = freq.get(i - nums[i], 0) + 1\n",
    "            # you can make the len(nums) - i - freq[i - nums[i]] bad pairs at the ith index\n",
    "            # (the number of indices remaining) - (the number of i - nums[i] that exist earlier and match the current result)\n",
    "            # you need to subtract in hindsight because the problem needs j > i but I am doing a forward pass.\n",
    "\n",
    "            # the permutations will count themselves as you iterate thanks to the running sum.\n",
    "            result += n - freq[i - nums[i]]\n",
    "\n",
    "            n -= 1  # since j > i\n",
    "\n",
    "        return result\n",
    "\n",
    "\n",
    "countBadPairs = Solution()\n",
    "countBadPairs.countBadPairs([4, 1, 3, 3])"
   ]
  },
  {
   "cell_type": "markdown",
   "metadata": {},
   "source": [
    "**1910. Remove All Occurrences of a Substring**\n"
   ]
  },
  {
   "cell_type": "code",
   "execution_count": null,
   "metadata": {},
   "outputs": [
    {
     "data": {
      "text/plain": [
       "'dab'"
      ]
     },
     "execution_count": 19,
     "metadata": {},
     "output_type": "execute_result"
    }
   ],
   "source": [
    "class Solution:\n",
    "    # 100% time, 90% memory\n",
    "    def removeOccurrences(self, s: str, part: str) -> str:\n",
    "        \"\"\"I think the brute force functions in C are faster than using KMP or Rabin Karp\"\"\"\n",
    "        stack = \"\"\n",
    "        m = len(part)\n",
    "        for c in s:\n",
    "            stack += c\n",
    "            if stack.endswith(part):\n",
    "                stack = stack[:-m]\n",
    "        return stack\n",
    "\n",
    "\n",
    "removeOccurrences = Solution()\n",
    "removeOccurrences.removeOccurrences(\"daabcbaabcbc\", \"abc\")"
   ]
  },
  {
   "cell_type": "markdown",
   "metadata": {},
   "source": [
    "**1524. Number of Sub-arrays With Odd Sum**\n"
   ]
  },
  {
   "cell_type": "code",
   "execution_count": null,
   "metadata": {},
   "outputs": [
    {
     "name": "stdout",
     "output_type": "stream",
     "text": [
      "4\n",
      "16\n"
     ]
    }
   ],
   "source": [
    "class Solution:\n",
    "    # 100% time, 99% memory\n",
    "    def numOfSubarrays(self, arr: List[int]) -> int:\n",
    "        \"\"\"Probably have to generate all subarray sums and count\"\"\"\n",
    "        res = even = odd = 0\n",
    "        for n in arr:\n",
    "            if n % 2:\n",
    "                odd, even = even, odd\n",
    "                odd += 1\n",
    "            else:\n",
    "                even += 1\n",
    "            res += odd\n",
    "        return res % (pow(10, 9) + 7)\n",
    "\n",
    "\n",
    "numOfSubarrays = Solution()\n",
    "print(numOfSubarrays.numOfSubarrays([1, 3, 5]))\n",
    "print(numOfSubarrays.numOfSubarrays([1, 2, 3, 4, 5, 6, 7]))"
   ]
  },
  {
   "cell_type": "markdown",
   "metadata": {},
   "source": [
    "**2460. Apply Operations to an Array**\n"
   ]
  },
  {
   "cell_type": "code",
   "execution_count": null,
   "metadata": {},
   "outputs": [],
   "source": [
    "class Solution:\n",
    "    # 100% time, 96% memory\n",
    "    def applyOperations(self, nums: List[int]) -> List[int]:\n",
    "        res = []\n",
    "        for i in range(len(nums) - 1):\n",
    "            if nums[i] == nums[i + 1]:\n",
    "                nums[i] *= 2\n",
    "                nums[i + 1] = 0\n",
    "            if nums[i]:\n",
    "                res.append(nums[i])\n",
    "\n",
    "        res.append(nums[-1])\n",
    "        return res + [0] * (len(nums) - len(res))"
   ]
  },
  {
   "cell_type": "markdown",
   "metadata": {},
   "source": [
    "**2570. Merge Two 2D Arrays by Summing Values**\n"
   ]
  },
  {
   "cell_type": "code",
   "execution_count": null,
   "metadata": {},
   "outputs": [],
   "source": [
    "class Solution:\n",
    "    # 100% time, 62% memory\n",
    "    def mergeArrays(\n",
    "        self, nums1: List[List[int]], nums2: List[List[int]]\n",
    "    ) -> List[List[int]]:\n",
    "        # num1 and nums2 are already sorted by id (the first value in each entry)\n",
    "        # they are sorted in ascending order which means no dupes\n",
    "        i = j = 0\n",
    "        n1, n2 = len(nums1), len(nums2)\n",
    "        result = []\n",
    "        while i < n1 and j < n2:\n",
    "            if nums1[i][0] == nums2[j][0]:\n",
    "                result.append([nums1[i][0], nums1[i][1] + nums2[j][1]])\n",
    "                i += 1\n",
    "                j += 1\n",
    "            elif nums1[i][0] < nums2[j][0]:\n",
    "                result.append(nums1[i])\n",
    "                i += 1\n",
    "            else:\n",
    "                result.append(nums2[j])\n",
    "                j += 1\n",
    "\n",
    "        # fill in wtv is left in the array that isn't finished being processed\n",
    "        for idx in range(i, n1):\n",
    "            result.append(nums1[idx])\n",
    "        for idx in range(j, n2):\n",
    "            result.append(nums2[idx])\n",
    "\n",
    "        return result\n",
    "\n",
    "        # also works but makes an entirely new list which is more memory:\n",
    "        # return result + nums1[i:] + nums2[j:]"
   ]
  },
  {
   "cell_type": "markdown",
   "metadata": {},
   "source": [
    "**2161. Partition Array According to Given Pivot**\n"
   ]
  },
  {
   "cell_type": "code",
   "execution_count": null,
   "metadata": {},
   "outputs": [
    {
     "name": "stdout",
     "output_type": "stream",
     "text": [
      "[9, 5, 3, 10, 10, 12, 14]\n",
      "[-3, 2, 4, 3]\n",
      "[9, 5, 3, 10, 10, 14, 12]\n",
      "[-3, 2, 3, 4]\n"
     ]
    }
   ],
   "source": [
    "class Solution:\n",
    "    # 65% time, 33% memory\n",
    "    def pivotArray(self, nums: List[int], pivot: int) -> List[int]:\n",
    "        less = []\n",
    "        equal = []\n",
    "        greater = []\n",
    "        for n in nums:\n",
    "            if n < pivot:\n",
    "                less.append(n)\n",
    "            elif n > pivot:\n",
    "                greater.append(n)\n",
    "            else:\n",
    "                equal.append(n)\n",
    "        return less + equal + greater\n",
    "\n",
    "    def pivotArrayDutch(self, nums: List[int], pivot: int) -> List[int]:\n",
    "        \"\"\"\n",
    "        This doesn't work because it doesn't maintain relative order for the greater than section\n",
    "        \"\"\"\n",
    "        left, mid, right = 0, 0, len(nums) - 1\n",
    "        while mid <= right:\n",
    "            if nums[mid] < pivot:\n",
    "                nums[mid], nums[left] = nums[left], nums[mid]\n",
    "                # don't need to check mid and left again\n",
    "                # this will always move 0s to the leftmost index following existing 0s traversed by `mid`\n",
    "                left += 1\n",
    "                mid += 1\n",
    "            elif nums[mid] == pivot:\n",
    "                # algo doesn't act on 1s, so just increment mid\n",
    "                mid += 1\n",
    "            else:  # nums[mid] == 2\n",
    "                # this will always move 2s to the rightmost index before existing 2s traversed by `mid`\n",
    "                nums[mid], nums[right] = nums[right], nums[mid]\n",
    "                right -= 1\n",
    "        return nums\n",
    "\n",
    "\n",
    "pivotArray = Solution()\n",
    "print(pivotArray.pivotArray([9, 12, 5, 10, 14, 3, 10], 10))\n",
    "print(pivotArray.pivotArray([-3, 4, 3, 2], 2))\n",
    "print(pivotArray.pivotArrayDutch([9, 12, 5, 10, 14, 3, 10], 10))\n",
    "print(pivotArray.pivotArrayDutch([-3, 4, 3, 2], 2))"
   ]
  },
  {
   "cell_type": "markdown",
   "metadata": {},
   "source": [
    "**2965. Find Missing and Repeated Values**\n",
    "\n",
    "Is also a Math category problem\n"
   ]
  },
  {
   "cell_type": "code",
   "execution_count": null,
   "metadata": {},
   "outputs": [
    {
     "name": "stdout",
     "output_type": "stream",
     "text": [
      "1\n"
     ]
    }
   ],
   "source": [
    "class Solution:\n",
    "    # 83% time, 96% memory\n",
    "    def findMissingAndRepeatedValues(self, grid: List[List[int]]) -> List[int]:\n",
    "        # n<=50 means 2500 so we can use a matrix instead of map\n",
    "        n = len(grid)\n",
    "        n2 = n**2\n",
    "        seen = [False] * (n2 + 1)\n",
    "        missing = n2 * (n2 + 1) // 2  # will use this as a reverse sum\n",
    "        dupe = 0\n",
    "        for i in range(n):\n",
    "            for j in range(n):\n",
    "                val = grid[i][j]\n",
    "                if seen[val]:\n",
    "                    dupe = val\n",
    "                # not elsing to avoid branching\n",
    "                seen[val] = True\n",
    "                missing -= val\n",
    "\n",
    "        return [dupe, missing + dupe]  # readding dupe because we subtracted twice\n",
    "\n",
    "\n",
    "findMissingAndRepeatedValues = Solution()\n",
    "findMissingAndRepeatedValues.findMissingAndRepeatedValues([[1, 4], [2, 2]])"
   ]
  },
  {
   "cell_type": "code",
   "execution_count": null,
   "metadata": {},
   "outputs": [
    {
     "name": "stdout",
     "output_type": "stream",
     "text": [
      "True\n",
      "False\n"
     ]
    }
   ],
   "source": [
    "class Solution:\n",
    "    # 70% time, 5% memory (it would definitely be way faster to manually do the reduction and return early on failure)\n",
    "    # but putting x and not y % 2 means that the moment x is False, no more modulos will be computed so it isn't expensive\n",
    "    def divideArray(self, nums: List[int]) -> bool:\n",
    "        return reduce(lambda x, y: x and not y % 2, Counter(nums).values(), True)\n",
    "\n",
    "\n",
    "divideArray = Solution()\n",
    "print(divideArray.divideArray([3, 2, 3, 2, 2, 2]))\n",
    "print(divideArray.divideArray([1, 2, 3, 4]))"
   ]
  },
  {
   "cell_type": "markdown",
   "metadata": {},
   "source": [
    "**2033. Minimum Operations to Make a Uni-Value Grid**\n"
   ]
  },
  {
   "cell_type": "code",
   "execution_count": null,
   "metadata": {},
   "outputs": [
    {
     "name": "stdout",
     "output_type": "stream",
     "text": [
      "4\n",
      "5\n",
      "-1\n"
     ]
    }
   ],
   "source": [
    "class Solution:\n",
    "    # 53% time, 79% memory\n",
    "    def minOperations(self, grid: List[List[int]], x: int) -> int:\n",
    "        \"\"\"\n",
    "        In order to be able to, you need all elements in grid to have the same remainder when divided by x\n",
    "        If you can, you want to bring all values to the median\n",
    "        \"\"\"\n",
    "        n, m = len(grid), len(grid[0])\n",
    "        remainder = grid[0][0] % x\n",
    "        for i in range(n):\n",
    "            for j in range(m):\n",
    "                if grid[i][j] % x != remainder:\n",
    "                    return -1\n",
    "        elements = sorted(item for row in grid for item in row)\n",
    "        median = elements[len(elements) // 2]\n",
    "        return reduce(lambda prev, el: prev + abs(el - median) // x, elements, 0)\n",
    "\n",
    "    # 53% time, 78% memory\n",
    "    def minOperationsCOmbined(self, grid: List[List[int]], x: int) -> int:\n",
    "        \"\"\"\n",
    "        In order to be able to, you need all elements in grid to have the same remainder when divided by x\n",
    "        If you can, you want to bring all values to the median\n",
    "\n",
    "        This implementation will combine the check for remainder\n",
    "        \"\"\"\n",
    "        elements = sorted(item for row in grid for item in row)\n",
    "        remainder = elements[0] % x\n",
    "        median = elements[len(elements) // 2]\n",
    "        result = 0\n",
    "        for el in elements:\n",
    "            if el % x != remainder:\n",
    "                return -1\n",
    "            result += abs(el - median) // x\n",
    "        return result\n",
    "\n",
    "\n",
    "minOperations = Solution()\n",
    "print(minOperations.minOperations([[2, 4], [6, 8]], 2))\n",
    "print(minOperations.minOperations([[1, 5], [2, 3]], 1))\n",
    "print(minOperations.minOperations([[1, 2], [3, 4]], 2))"
   ]
  },
  {
   "cell_type": "markdown",
   "metadata": {},
   "source": [
    "**2780. Minimum Index of a Valid Split**\n"
   ]
  },
  {
   "cell_type": "code",
   "execution_count": null,
   "metadata": {},
   "outputs": [
    {
     "name": "stdout",
     "output_type": "stream",
     "text": [
      "2\n",
      "4\n",
      "-1\n"
     ]
    }
   ],
   "source": [
    "class Solution:\n",
    "    # 57% time, 24% memory\n",
    "    def minimumIndex(self, nums: List[int]) -> int:\n",
    "        \"\"\"\n",
    "        The only way for both splits to have the same dominant number is for their dom to be the starting array's dom\n",
    "        Otherwise, one of the splits will necessarily have the starting dom while the other doesnt.\n",
    "        \"\"\"\n",
    "        freq = Counter(nums)\n",
    "        dom = max(freq, key=freq.get)  # type: ignore\n",
    "        count = freq[dom]\n",
    "        n = len(nums)\n",
    "        curCount = 0\n",
    "        for i in range(len(nums)):\n",
    "            if nums[i] == dom:\n",
    "                curCount += 1\n",
    "                if curCount > (i + 1) // 2 and count - curCount > (n - i - 1) // 2:\n",
    "                    return i\n",
    "        return -1\n",
    "\n",
    "\n",
    "minimumIndex = Solution()\n",
    "print(minimumIndex.minimumIndex([1, 2, 2, 2]))\n",
    "print(minimumIndex.minimumIndex([2, 1, 3, 1, 1, 1, 7, 1, 2, 1]))\n",
    "print(minimumIndex.minimumIndex([3, 3, 3, 3, 7, 2, 2]))"
   ]
  },
  {
   "cell_type": "markdown",
   "metadata": {},
   "source": [
    "**2818. Apply Operations to Maximize Score**\n"
   ]
  },
  {
   "cell_type": "code",
   "execution_count": 88,
   "metadata": {},
   "outputs": [
    {
     "name": "stdout",
     "output_type": "stream",
     "text": [
      "81\n",
      "4788\n",
      "823751938\n"
     ]
    }
   ],
   "source": [
    "class Solution:  # 48% time, 87% memory\n",
    "    \"\"\"\n",
    "    One thing that is crazyyyyyyy\n",
    "    instead of s[i] in the first loop, i was using `res` and then at the end i did s[i] = res\n",
    "    I'm guesing cache misses played a huge role because that solution did 5% time, 89% memory\n",
    "    \"\"\"\n",
    "\n",
    "    MOD = pow(10, 9) + 7\n",
    "\n",
    "    def maximumScore(self, nums: List[int], k: int) -> int:\n",
    "        \"\"\"\n",
    "        Each subarray used results in multiplying your existing score by the number with the highest prime score in the subarray\n",
    "        So you want to spam the high scoring numbers as much as possible.\n",
    "\n",
    "        Hints:\n",
    "        - Calculate nums[i]'s prime score s[i] by factoring in O(sqrt(nums[i])) time.\n",
    "        - For each nums[i], find the nearest index left[i] on the left (if any) such that s[left[i]] >= s[i]. if none is found, set left[i] to -1. Similarly, find the nearest index right[i] on the right (if any) such that s[right[i]] > s[i]. If none is found, set right[i] to n.\n",
    "            - Need a monotonic stack for this I think\n",
    "        - For each index i, if left[i] + 1 <= l <= i <= r <= right[i] - 1, then s[i] is the maximum value in the range [l, r]. For this particular i, there are ranges[i] = (i - left[i]) * (right[i] - i) ranges where index i will be chosen.\n",
    "            - I'll brute force this one every i, radiating outwards\n",
    "        \"\"\"\n",
    "        # step 1\n",
    "        n = len(nums)\n",
    "        s = [0] * n\n",
    "        for i, num in enumerate(nums):\n",
    "            # Check for factors up to sqrt(num)\n",
    "            s[i] = 0\n",
    "            for j in range(2, int(math.sqrt(num) + 1)):\n",
    "                if num % j == 0:  # Found a factor\n",
    "                    s[i] += 1  # Count only once for each prime factor\n",
    "                    while num % j == 0:\n",
    "                        num //= j  # Remove all occurrences\n",
    "            s[i] += int(num > 1)  # remaining n itself is prime\n",
    "\n",
    "        # step 2\n",
    "        left = [-1] * n\n",
    "        right = [n] * n\n",
    "        stack = [(s[0], 0)]  # (score, index)\n",
    "        for i in range(1, n):\n",
    "            while stack and s[i] > stack[-1][0]:\n",
    "                # find the closest >= number to the left (monotonic decreasing stack)\n",
    "                # nums[i] is the closest number on the right with score higher\n",
    "                pop_i = stack.pop()[1]\n",
    "                right[pop_i] = i\n",
    "            if stack:\n",
    "                left[i] = stack[-1][1]\n",
    "            stack.append((s[i], i))\n",
    "\n",
    "        # step 4, compute answer\n",
    "        def fast_pow_mod(base, exponent):\n",
    "            result = 1\n",
    "            while exponent > 0:\n",
    "                if exponent & 1:\n",
    "                    result = (result * base) % self.MOD\n",
    "                base = (base * base) % self.MOD\n",
    "                exponent >>= 1\n",
    "            return result\n",
    "\n",
    "        result = 1\n",
    "        # go through nums in descending order and use the number rangeCounts[i] times where `i` is the index of the number\n",
    "        for i in sorted(range(n), key=nums.__getitem__, reverse=True):\n",
    "            # step 3, calculate the number of subarrays in which each element is dominant\n",
    "            rangeCount = (right[i] - i) * (\n",
    "                i - left[i]\n",
    "            )  # use nums[i] rangeCount times (thats why we exponentiate)\n",
    "            result = (result * fast_pow_mod(nums[i], min(rangeCount, k))) % self.MOD\n",
    "            k -= rangeCount\n",
    "            if k <= 0:\n",
    "                break\n",
    "        return result\n",
    "\n",
    "\n",
    "maximumScore = Solution()\n",
    "print(maximumScore.maximumScore([8, 3, 9, 3, 8], 2))\n",
    "print(maximumScore.maximumScore([19, 12, 14, 6, 10, 18], 3))\n",
    "print(maximumScore.maximumScore([1, 7, 11, 1, 5], 14))"
   ]
  },
  {
   "cell_type": "markdown",
   "metadata": {},
   "source": [
    "**368. Largest Divisible Subset**\n"
   ]
  },
  {
   "cell_type": "code",
   "execution_count": null,
   "metadata": {},
   "outputs": [
    {
     "name": "stdout",
     "output_type": "stream",
     "text": [
      "[2, 1]\n",
      "[720, 360, 180, 90, 18, 9]\n"
     ]
    }
   ],
   "source": [
    "class Solution:\n",
    "    # 79% time, 92% memory\n",
    "    def largestDivisibleSubset(self, nums: List[int]) -> List[int]:\n",
    "        \"\"\"\n",
    "        Can have a dp array where dp[i] represents the length of longest subset ending at index i while i is interating\n",
    "        \"\"\"\n",
    "        nums.sort()\n",
    "        n = len(nums)\n",
    "        dp = [1] * n\n",
    "        longestChild = [-1] * n  # store the index that leads to the longest path at `i`\n",
    "        idx = 0\n",
    "        for i in range(n):\n",
    "            for j in range(i):\n",
    "                if nums[i] % nums[j] == 0:\n",
    "                    if dp[j] + 1 > dp[i]:\n",
    "                        dp[i] = dp[j] + 1\n",
    "                        longestChild[i] = j\n",
    "            idx = max(idx, i, key=dp.__getitem__)\n",
    "        # then follow idx backwards\n",
    "        result = []\n",
    "        while idx != -1:\n",
    "            result.append(nums[idx])\n",
    "            idx = longestChild[idx]\n",
    "        return result\n",
    "\n",
    "\n",
    "largestDivisibleSubset = Solution()\n",
    "print(largestDivisibleSubset.largestDivisibleSubset([1, 2, 3]))\n",
    "print(\n",
    "    largestDivisibleSubset.largestDivisibleSubset(\n",
    "        [5, 9, 18, 54, 108, 540, 90, 180, 360, 720]\n",
    "    )\n",
    ")"
   ]
  },
  {
   "cell_type": "markdown",
   "metadata": {},
   "source": [
    "**2843. Count Symmetric Integers**\n"
   ]
  },
  {
   "cell_type": "code",
   "execution_count": null,
   "metadata": {},
   "outputs": [
    {
     "data": {
      "text/plain": [
       "51027"
      ]
     },
     "execution_count": 3,
     "metadata": {},
     "output_type": "execute_result"
    }
   ],
   "source": [
    "class Solution:\n",
    "    # 45% time, 55% memory\n",
    "    def countSymmetricIntegers(self, low: int, high: int) -> int:\n",
    "        cur = low\n",
    "        res = 0\n",
    "\n",
    "        def f(x: int, y: str):\n",
    "            return x + int(y)\n",
    "\n",
    "        while cur <= high:\n",
    "            sCur = str(cur)\n",
    "            if len(sCur) % 2:\n",
    "                cur = 10 ** len(sCur)\n",
    "                continue\n",
    "            l = len(sCur) // 2\n",
    "            res += reduce(f, sCur[:l], 0) == reduce(f, sCur[l:], 0)\n",
    "            cur += 1\n",
    "        return res\n",
    "\n",
    "\n",
    "countSymmetricIntegers = Solution()\n",
    "countSymmetricIntegers.countSymmetricIntegers(1000, 2000000)"
   ]
  },
  {
   "cell_type": "code",
   "execution_count": 12,
   "metadata": {},
   "outputs": [
    {
     "name": "stdout",
     "output_type": "stream",
     "text": [
      "1\n",
      "4\n",
      "21\n"
     ]
    }
   ],
   "source": [
    "class Solution:\n",
    "    # 85% time, 45% memory\n",
    "    def countGood(self, nums: List[int], k: int) -> int:\n",
    "        \"\"\"\n",
    "        Just check the editorial, I didn't look at the code but the explanation is enough\n",
    "        These types of problems are so annoying bruh...\n",
    "        \"\"\"\n",
    "        l = 0\n",
    "        n = len(nums)\n",
    "        cnt = {}\n",
    "        pairs = 0\n",
    "        result = 0\n",
    "        for r, num in enumerate(nums):\n",
    "            pairs += cnt.get(num, 0)\n",
    "            cnt[num] = cnt.get(num, 0) + 1\n",
    "            while pairs >= k:\n",
    "                result += n - r\n",
    "                pairs -= cnt[nums[l]] - 1  # -1 because can't form a pair with itself\n",
    "                cnt[nums[l]] -= 1\n",
    "                l += 1\n",
    "        return result\n",
    "\n",
    "\n",
    "countGood = Solution()\n",
    "print(countGood.countGood([1, 1, 1, 1, 1], 10))\n",
    "print(countGood.countGood([3, 1, 4, 3, 2, 2, 4], 2))\n",
    "print(countGood.countGood([2, 1, 3, 1, 2, 2, 3, 3, 2, 2, 1, 1, 1, 3, 1], 11))"
   ]
  }
 ],
 "metadata": {
  "kernelspec": {
   "display_name": "neetcode",
   "language": "python",
   "name": "python3"
  },
  "language_info": {
   "codemirror_mode": {
    "name": "ipython",
    "version": 3
   },
   "file_extension": ".py",
   "mimetype": "text/x-python",
   "name": "python",
   "nbconvert_exporter": "python",
   "pygments_lexer": "ipython3",
   "version": "3.12.1"
  }
 },
 "nbformat": 4,
 "nbformat_minor": 2
}
