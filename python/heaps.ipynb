{
 "cells": [
  {
   "cell_type": "code",
   "execution_count": 1,
   "metadata": {},
   "outputs": [],
   "source": [
    "import heapq\n",
    "from collections import Counter, defaultdict\n",
    "from typing import List"
   ]
  },
  {
   "cell_type": "markdown",
   "metadata": {},
   "source": [
    "Mapping the elements of a heap into an array is trivial: if a node is stored at index k, then its left child is stored at index 2k + 1 and its right child at index 2k + 2 for 0 based indexing and for 1 based indexing the left child will be at 2k and right child will be at 2k + 1.\n",
    "\n",
    "Same is true for max heap but it is larger nodes not smaller ones\n"
   ]
  },
  {
   "cell_type": "markdown",
   "metadata": {},
   "source": [
    "**703. Kth Largest Element in a Stream**\n"
   ]
  },
  {
   "cell_type": "code",
   "execution_count": 31,
   "metadata": {},
   "outputs": [],
   "source": [
    "class KthLargest:  # 95% time, 45% memory\n",
    "    def __init__(self, k: int, nums: List[int]):\n",
    "        # minHeap with K largest integers\n",
    "        self.minHeap, self.k = nums, k\n",
    "        heapq.heapify(self.minHeap)  # turn into min heap in O(n)\n",
    "        # then remove values until len(self.minHeap) is k if there are more than k\n",
    "        while len(self.minHeap) > k:  # O(n-k) ~ O(n)\n",
    "            heapq.heappop(self.minHeap)\n",
    "\n",
    "    def add(self, val: int) -> int:\n",
    "        heapq.heappush(self.minHeap, val)  # O(logn)\n",
    "        if len(self.minHeap) > self.k:\n",
    "            heapq.heappop(self.minHeap)  # O(logn)\n",
    "        return self.minHeap[\n",
    "            0\n",
    "        ]  # because it is a heap it is always the min is always zeroth index\n",
    "\n",
    "\n",
    "# Your KthLargest object will be instantiated and called as such:\n",
    "# obj = KthLargest(k, nums)\n",
    "# param_1 = obj.add(val)"
   ]
  },
  {
   "cell_type": "markdown",
   "metadata": {},
   "source": [
    "**1046. Last Stone Weight**\n"
   ]
  },
  {
   "cell_type": "code",
   "execution_count": 32,
   "metadata": {},
   "outputs": [
    {
     "data": {
      "text/plain": [
       "1"
      ]
     },
     "execution_count": 32,
     "metadata": {},
     "output_type": "execute_result"
    }
   ],
   "source": [
    "class Solution:  # 96% time, 60% memory\n",
    "    def lastStoneWeight(self, stones: List[int]) -> int:\n",
    "        # want a maxHeap so multiply everything by negative 1\n",
    "        stones = [-s for s in stones]\n",
    "        heapq.heapify(stones)  # maxHeap\n",
    "        while len(stones) > 1:\n",
    "            heavy1, heavy2 = heapq.heappop(stones), heapq.heappop(stones)\n",
    "            if heavy1 == heavy2:\n",
    "                continue\n",
    "            heapq.heappush(stones, -abs(heavy1 - heavy2))\n",
    "\n",
    "        return 0 if not stones else abs(stones[0])\n",
    "\n",
    "\n",
    "lastStoneWeight = Solution()\n",
    "lastStoneWeight.lastStoneWeight([2, 7, 4, 1, 8, 1])"
   ]
  },
  {
   "cell_type": "markdown",
   "metadata": {},
   "source": [
    "**973. K Closest Points to Origin**\n"
   ]
  },
  {
   "cell_type": "code",
   "execution_count": 33,
   "metadata": {},
   "outputs": [
    {
     "data": {
      "text/plain": [
       "[(-2, 2)]"
      ]
     },
     "execution_count": 33,
     "metadata": {},
     "output_type": "execute_result"
    }
   ],
   "source": [
    "class Solution:  # 93% time, 70% memory\n",
    "    def kClosest(self, points: List[List[int]], k: int) -> List[List[int]]:\n",
    "        # total time complexity: O(2n + klogn) = O(klogn) <= O(nlogn) from just sorting\n",
    "        # don't need to square root it, because everything gets scaled the same way\n",
    "        distances = [(x**2 + y**2, x, y) for x, y in points]  # O(n)\n",
    "        res = []\n",
    "        heapq.heapify(distances)  # O(n) to make a minHeap\n",
    "        for _ in range(k):  # O(k) * O(logn) = O(klogn)\n",
    "            res.append(heapq.heappop(distances)[1:])\n",
    "        return res\n",
    "\n",
    "\n",
    "kClosest = Solution()\n",
    "kClosest.kClosest([[1, 3], [-2, 2]], 1)"
   ]
  },
  {
   "cell_type": "markdown",
   "metadata": {},
   "source": [
    "**215. Kth Largest Element in an Array**\n"
   ]
  },
  {
   "cell_type": "code",
   "execution_count": 34,
   "metadata": {},
   "outputs": [],
   "source": [
    "class Solution:  # 70% time, 68% memory\n",
    "    def findKthLargest(self, nums: List[int], k: int) -> int:\n",
    "        nums = [-n for n in nums]  # maxHeap needs negative values\n",
    "        heapq.heapify(nums)\n",
    "        for _ in range(k - 1):\n",
    "            heapq.heappop(nums)\n",
    "        return abs(heapq.heappop(nums))\n",
    "\n",
    "    def findKthLargestClever(self, nums: List[int], k: int) -> int:\n",
    "        # gets a minHeap of length k\n",
    "        # goes through the entire array and replaces the smallest value in the minHeap with an encountered larger value\n",
    "        # then the smallest value in the minHeap at the end is kth largest of the entire array.\n",
    "        min_heap = nums[:k]\n",
    "        heapq.heapify(min_heap)\n",
    "\n",
    "        for num in nums[k:]:\n",
    "            if num > min_heap[0]:\n",
    "                heapq.heappop(min_heap)\n",
    "                heapq.heappush(min_heap, num)\n",
    "\n",
    "        return min_heap[0]\n",
    "\n",
    "    # doesnt pass the final test case\n",
    "    # average time is O(n + n/2 + n/4 + n/8) = O(2n) = O(n)\n",
    "    # but worst case time is O(n^2) so this fails the last test case\n",
    "    def findKthLargestQuickSelect(self, nums: List[int], k: int) -> int:\n",
    "        # want to get the len(nums) - k index of a sorted array\n",
    "        k = len(nums) - k\n",
    "\n",
    "        def quickSelect(left, right):\n",
    "            pivot, ptr = nums[right], left\n",
    "            for i in range(left, right):\n",
    "                if nums[i] <= pivot:\n",
    "                    nums[i], nums[ptr] = nums[ptr], nums[i]\n",
    "                    # reorganizes al smaller values to be on the left of the array\n",
    "                    ptr += 1\n",
    "                nums[right], nums[ptr] = (\n",
    "                    nums[ptr],\n",
    "                    nums[right],\n",
    "                )  # placing the pivot after all the values smaller than it\n",
    "            if ptr < k:\n",
    "                return quickSelect(ptr + 1, right)\n",
    "            elif ptr > k:\n",
    "                return quickSelect(left, ptr - 1)\n",
    "            else:\n",
    "                return nums[ptr]\n",
    "\n",
    "        return quickSelect(0, len(nums) - 1)"
   ]
  },
  {
   "cell_type": "markdown",
   "metadata": {},
   "source": [
    "**Trying to implement quicksort**\n"
   ]
  },
  {
   "cell_type": "code",
   "execution_count": 1,
   "metadata": {},
   "outputs": [
    {
     "data": {
      "text/plain": [
       "[-10, 0, 1, 3, 5, 6]"
      ]
     },
     "execution_count": 1,
     "metadata": {},
     "output_type": "execute_result"
    }
   ],
   "source": [
    "def quickSort(arr: list[int]) -> None:\n",
    "    \"Mutates inplace\"\n",
    "    # at each step you want to put the current pivot value in the correct index for the sorted array\n",
    "    # all values less than it need to be before, all values greater than it need to be after\n",
    "\n",
    "    def doSort(left, right):\n",
    "        if left >= right:\n",
    "            return\n",
    "        pivot, ptr = arr[right], left\n",
    "        for i in range(left, right):  # not right + 1 because that is just the pivot\n",
    "            if arr[i] <= pivot:\n",
    "                arr[ptr], arr[i] = arr[i], arr[ptr]\n",
    "                ptr += 1  # this guarantees that an old value that is less than pivot doesn't get moved away\n",
    "        arr[ptr], arr[right] = (\n",
    "            pivot,\n",
    "            arr[ptr],\n",
    "        )  # swap pivot into its correct index for the sorted array (after all values less than it)\n",
    "\n",
    "        # now sort left side of pivot\n",
    "        doSort(left, ptr - 1)\n",
    "        # now sort right side of pivot\n",
    "        doSort(ptr + 1, right)\n",
    "\n",
    "    doSort(0, len(arr) - 1)\n",
    "\n",
    "\n",
    "lemon = [1, 0, 6, 3, -10, 5]\n",
    "quickSort(lemon)\n",
    "lemon"
   ]
  },
  {
   "cell_type": "markdown",
   "metadata": {},
   "source": [
    "**621. Task Scheduler**\n"
   ]
  },
  {
   "cell_type": "code",
   "execution_count": null,
   "metadata": {},
   "outputs": [
    {
     "data": {
      "text/plain": [
       "8"
      ]
     },
     "execution_count": 41,
     "metadata": {},
     "output_type": "execute_result"
    }
   ],
   "source": [
    "class Solution:\n",
    "    def leastInterval(self, tasks: List[str], n: int) -> int:  # 43% time, 67% memory\n",
    "        if n == 0:\n",
    "            return len(tasks)\n",
    "\n",
    "        occurrences = Counter(tasks)\n",
    "        # make it a max heap\n",
    "        occurrences = [-n for n in occurrences.values()]\n",
    "\n",
    "        heapq.heapify(occurrences)  # O(26)\n",
    "\n",
    "        usedTime = 0\n",
    "        idle_stack = []  # keeping track of idle tasks [task count, time to reintroduce]\n",
    "        while occurrences or idle_stack:\n",
    "            usedTime += 1\n",
    "            if occurrences:\n",
    "                occurrence = heapq.heappop(occurrences)\n",
    "                if occurrence != -1:\n",
    "                    # remember that occurrence is a negative number so this is decrementing it (in terms of magnitude)\n",
    "                    # if occurrence is -1 then that task has finished being processed entirely\n",
    "                    idle_stack.append([occurrence + 1, usedTime + n])\n",
    "            if idle_stack and idle_stack[0][1] == usedTime:\n",
    "                # if the idle stack has a task that can be readded to the heap again because the cooldown time elapsed\n",
    "                # do so:\n",
    "                heapq.heappush(occurrences, idle_stack.pop(0)[0])\n",
    "        return usedTime\n",
    "\n",
    "\n",
    "leastInterval = Solution()\n",
    "leastInterval.leastInterval([\"A\", \"A\", \"A\", \"B\", \"B\", \"B\"], 2)"
   ]
  },
  {
   "cell_type": "markdown",
   "metadata": {},
   "source": [
    "**355. Design twitter**\n"
   ]
  },
  {
   "cell_type": "code",
   "execution_count": null,
   "metadata": {},
   "outputs": [],
   "source": [
    "class Twitter:\n",
    "    # 57% time, 60% memory\n",
    "    def __init__(self):\n",
    "        self.numPosts = 0\n",
    "        self.tweetMap = defaultdict(list)  # userID -> list of [order posted, tweetID]\n",
    "        self.followMap = defaultdict(set)  # userID -> set of following IDs\n",
    "\n",
    "    def postTweet(self, userId: int, tweetId: int) -> None:\n",
    "        self.tweetMap[userId].append([self.numPosts, tweetId])\n",
    "        self.numPosts -= 1  # decrementing so we can use a maxHeap\n",
    "\n",
    "    def getNewsFeed(self, userId: int) -> List[int]:\n",
    "        result = []\n",
    "        minHeap = []\n",
    "\n",
    "        # one time thing: has to be a follower of themself\n",
    "        if userId not in self.followMap[userId]:\n",
    "            self.followMap[userId].add(userId)\n",
    "\n",
    "        for followeeId in self.followMap[userId]:\n",
    "            if followeeId in self.tweetMap:\n",
    "                index = len(self.tweetMap[followeeId]) - 1\n",
    "                # index of the last tweet in that tweet array\n",
    "                count, tweetId = self.tweetMap[followeeId][index]\n",
    "                minHeap.append([count, tweetId, followeeId, index - 1])\n",
    "                # index - 1 is the index of the next tweet in the tweet array for that followeeId\n",
    "\n",
    "        heapq.heapify(minHeap)\n",
    "\n",
    "        while minHeap and len(result) < 10:\n",
    "            count, tweetId, followeeId, index = heapq.heappop(minHeap)\n",
    "            result.append(tweetId)\n",
    "            if index >= 0:  # equal because index 0 has a tweet as well\n",
    "                count, tweetId = self.tweetMap[followeeId][index]\n",
    "                heapq.heappush(minHeap, [count, tweetId, followeeId, index - 1])\n",
    "        return result\n",
    "\n",
    "    def follow(self, followerId: int, followeeId: int) -> None:\n",
    "        self.followMap[followerId].add(followeeId)\n",
    "\n",
    "    def unfollow(self, followerId: int, followeeId: int) -> None:\n",
    "        try:\n",
    "            self.followMap[followerId].remove(followeeId)\n",
    "        except KeyError:\n",
    "            pass\n",
    "\n",
    "\n",
    "# Your Twitter object will be instantiated and called as such:\n",
    "# obj = Twitter()\n",
    "# obj.postTweet(userId,tweetId)\n",
    "# param_2 = obj.getNewsFeed(userId)\n",
    "# obj.follow(followerId,followeeId)\n",
    "# obj.unfollow(followerId,followeeId)"
   ]
  },
  {
   "cell_type": "markdown",
   "metadata": {},
   "source": [
    "**295. Find Median from Data Stream**\n"
   ]
  },
  {
   "cell_type": "code",
   "execution_count": null,
   "metadata": {},
   "outputs": [
    {
     "name": "stdout",
     "output_type": "stream",
     "text": [
      "1\n",
      "1.5\n",
      "2\n",
      "2.5\n",
      "2\n",
      "1.5\n",
      "1\n",
      "1.0\n"
     ]
    }
   ],
   "source": [
    "class MedianFinder:  # 77% time, 8% memory\n",
    "    \"\"\"\n",
    "    You should aim for a solution with\n",
    "    - O(logn) time for addNum(),\n",
    "    - O(1) time for findMedian(), and\n",
    "    - O(n) space\n",
    "\n",
    "    where n is the current number of elements.\n",
    "\n",
    "    The use l_left and l_right really messes up my memory usage and probaby time too since it's way more operations\n",
    "    \"\"\"\n",
    "\n",
    "    def __init__(self):\n",
    "        # store the values <= median in a max heap\n",
    "        self.left_heap = []\n",
    "        self.l_left = 0\n",
    "        # store the values >= median in a min heap\n",
    "        self.right_heap = []\n",
    "        self.l_right = 0\n",
    "        # the median can then be computed from the max of and min of right\n",
    "\n",
    "    def addNum(self, num: int) -> None:\n",
    "        if not self.right_heap:\n",
    "            # first number being inserted\n",
    "            # negtive insertion because we want a max heap\n",
    "            heapq.heappush(self.right_heap, num)\n",
    "            self.l_right += 1\n",
    "        else:\n",
    "            if num > self.right_heap[0]:\n",
    "                # number is larger than the minimum of the right side heap, so add to the right side\n",
    "                heapq.heappush(self.right_heap, num)\n",
    "                self.l_right += 1\n",
    "            else:\n",
    "                # number is smaller than the minimum of the right side heap, so add to the left side\n",
    "                heapq.heappush(self.left_heap, -num)\n",
    "                self.l_left += 1\n",
    "\n",
    "            # ensure that the heaps are never more than 1 different in length\n",
    "\n",
    "        if self.l_right - 1 <= self.l_left <= self.l_right + 1:\n",
    "            return\n",
    "        elif self.l_left < self.l_right - 1:\n",
    "            heapq.heappush(self.left_heap, -heapq.heappop(self.right_heap))\n",
    "            self.l_right -= 1\n",
    "            self.l_left += 1\n",
    "            return\n",
    "        else:\n",
    "            heapq.heappush(self.right_heap, -heapq.heappop(self.left_heap))\n",
    "            self.l_left -= 1\n",
    "            self.l_right += 1\n",
    "            return\n",
    "\n",
    "    def findMedian(self) -> float:\n",
    "        if (self.l_left + self.l_right) % 2:\n",
    "            # odd length:\n",
    "            if self.l_left > self.l_right:\n",
    "                return -self.left_heap[0]\n",
    "            return self.right_heap[0]\n",
    "        return (-self.left_heap[0] + self.right_heap[0]) / 2\n",
    "\n",
    "\n",
    "class MedianFinderNeetCode:  # 98.8 % time, 65 memory\n",
    "    \"\"\"\n",
    "    Same logic but cleaner code\n",
    "    \"\"\"\n",
    "\n",
    "    def __init__(self):\n",
    "        # two heaps, large, small, minheap, maxheap\n",
    "        # heaps should be equal size\n",
    "        self.small, self.large = [], []\n",
    "\n",
    "    def addNum(self, num: int) -> None:\n",
    "        if self.large and num > self.large[0]:\n",
    "            heapq.heappush(self.large, num)\n",
    "        else:\n",
    "            heapq.heappush(self.small, -1 * num)\n",
    "\n",
    "        if len(self.small) > len(self.large) + 1:\n",
    "            val = -1 * heapq.heappop(self.small)\n",
    "            heapq.heappush(self.large, val)\n",
    "        if len(self.large) > len(self.small) + 1:\n",
    "            val = heapq.heappop(self.large)\n",
    "            heapq.heappush(self.small, -1 * val)\n",
    "\n",
    "    def findMedian(self) -> float:\n",
    "        if len(self.small) > len(self.large):\n",
    "            return -1 * self.small[0]\n",
    "        elif len(self.large) > len(self.small):\n",
    "            return self.large[0]\n",
    "        return (-1 * self.small[0] + self.large[0]) / 2.0\n",
    "\n",
    "\n",
    "# Your MedianFinder object will be instantiated and called as such:\n",
    "obj = MedianFinder()\n",
    "for n in [1, 2, 3, 4, 1, 1, 1, 1]:\n",
    "    obj.addNum(n)\n",
    "    print(obj.findMedian())"
   ]
  },
  {
   "cell_type": "markdown",
   "metadata": {},
   "source": [
    "**3066. Minimum Operations to Exceed Threshold Value II**\n"
   ]
  },
  {
   "cell_type": "code",
   "execution_count": null,
   "metadata": {},
   "outputs": [
    {
     "name": "stdout",
     "output_type": "stream",
     "text": [
      "2\n",
      "4\n"
     ]
    }
   ],
   "source": [
    "class Solution:\n",
    "    # 98% time, 72% memory\n",
    "    def minOperationsSmarter(self, nums: List[int], k: int) -> int:\n",
    "        # add everything to a heap then do your processing\n",
    "        heapq.heapify(nums)\n",
    "        count = 0\n",
    "        while nums[0] < k:\n",
    "            # there is a heapq.heapreplace method which does: Pop and return the current smallest value, and add the new item.\n",
    "            count += 1\n",
    "            # since the smallest value needs to get multiplied by 2 we can just put the heappop there, and then we know that nums[0] is the next smallest\n",
    "            heapq.heapreplace(nums, heapq.heappop(nums) * 2 + nums[0])\n",
    "        return count\n",
    "\n",
    "    # 67% time, 38% memory\n",
    "    def minOperations(self, nums: List[int], k: int) -> int:\n",
    "        # add everything to a heap then do your processing\n",
    "        heapq.heapify(nums)\n",
    "        count = 0\n",
    "        while nums[0] < k:\n",
    "            count += 1\n",
    "            x, y = heapq.heappop(nums), heapq.heappop(nums)\n",
    "            if x > y:\n",
    "                heapq.heappush(nums, y * 2 + x)\n",
    "            else:\n",
    "                heapq.heappush(nums, x * 2 + y)\n",
    "        return count\n",
    "\n",
    "\n",
    "minOperations = Solution()\n",
    "print(minOperations.minOperations([2, 11, 10, 1, 3], 10))\n",
    "print(minOperations.minOperations([1, 1, 2, 4, 9], 20))"
   ]
  }
 ],
 "metadata": {
  "kernelspec": {
   "display_name": "neetcode",
   "language": "python",
   "name": "python3"
  },
  "language_info": {
   "codemirror_mode": {
    "name": "ipython",
    "version": 3
   },
   "file_extension": ".py",
   "mimetype": "text/x-python",
   "name": "python",
   "nbconvert_exporter": "python",
   "pygments_lexer": "ipython3",
   "version": "3.12.1"
  }
 },
 "nbformat": 4,
 "nbformat_minor": 2
}
