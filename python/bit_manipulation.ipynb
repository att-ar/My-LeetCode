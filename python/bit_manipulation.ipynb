{
 "cells": [
  {
   "cell_type": "code",
   "execution_count": 1,
   "metadata": {},
   "outputs": [],
   "source": [
    "from typing import List"
   ]
  },
  {
   "cell_type": "markdown",
   "metadata": {},
   "source": [
    "**136. Single Number**\n"
   ]
  },
  {
   "cell_type": "code",
   "execution_count": 5,
   "metadata": {},
   "outputs": [
    {
     "data": {
      "text/plain": [
       "3"
      ]
     },
     "execution_count": 5,
     "metadata": {},
     "output_type": "execute_result"
    }
   ],
   "source": [
    "class Solution:\n",
    "    def singleNumber(self, nums: List[int]) -> int:  # 77% time, 7% memory\n",
    "        \"\"\"\n",
    "        If you XOR everything, only the unique one will remain right, because all the duplicates will stay up until they collide\n",
    "        \"\"\"\n",
    "\n",
    "        res = 0\n",
    "        for n in nums:\n",
    "            res ^= n\n",
    "        return res\n",
    "\n",
    "\n",
    "singleNumber = Solution()\n",
    "singleNumber.singleNumber([1, 2, 1, 2, 3])"
   ]
  },
  {
   "cell_type": "markdown",
   "metadata": {},
   "source": [
    "**191. Number of 1 bits**\n"
   ]
  },
  {
   "cell_type": "code",
   "execution_count": null,
   "metadata": {},
   "outputs": [
    {
     "data": {
      "text/plain": [
       "1"
      ]
     },
     "execution_count": 10,
     "metadata": {},
     "output_type": "execute_result"
    }
   ],
   "source": [
    "class Solution:\n",
    "    def hammingWeight(self, n: int) -> int:  # 100% time, 18% memory\n",
    "        weight = 0\n",
    "        while n:\n",
    "            weight += n & 1\n",
    "            n >>= 1\n",
    "        return weight\n",
    "\n",
    "\n",
    "hammingWeight = Solution()\n",
    "hammingWeight.hammingWeight(8)"
   ]
  },
  {
   "cell_type": "markdown",
   "metadata": {},
   "source": [
    "**371. Sum of Two Integers**\n"
   ]
  },
  {
   "cell_type": "code",
   "execution_count": 50,
   "metadata": {},
   "outputs": [
    {
     "data": {
      "text/plain": [
       "199"
      ]
     },
     "execution_count": 50,
     "metadata": {},
     "output_type": "execute_result"
    }
   ],
   "source": [
    "class Solution:\n",
    "    def getSum(self, a: int, b: int) -> int:\n",
    "        mask = 0xFFFFFFFF\n",
    "        max_int = 0x7FFFFFFF\n",
    "\n",
    "        while b != 0:\n",
    "            carry = (a & b) << 1\n",
    "            a = (a ^ b) & mask\n",
    "            b = carry & mask\n",
    "\n",
    "        return (\n",
    "            a if a <= max_int else ~(a ^ mask)\n",
    "        )  # two's complement i don't really get it tbh.\n",
    "\n",
    "\n",
    "getSum = Solution()\n",
    "getSum.getSum(100, 99)"
   ]
  },
  {
   "cell_type": "markdown",
   "metadata": {},
   "source": [
    "**2429. Minimize XOR**\n"
   ]
  },
  {
   "cell_type": "code",
   "execution_count": 26,
   "metadata": {},
   "outputs": [
    {
     "data": {
      "text/plain": [
       "(3, 1, 96, 67)"
      ]
     },
     "execution_count": 26,
     "metadata": {},
     "output_type": "execute_result"
    }
   ],
   "source": [
    "class Solution:\n",
    "    # 22% time, 86% memory (hamming weight) 2ms runtime\n",
    "    # 100% time, 14% memory (bin(num2).count(\"1\")) 0ms runtime\n",
    "    def minimizeXor(self, num1: int, num2: int) -> int:\n",
    "        \"\"\"\n",
    "        - Determine how many bits you need to use\n",
    "        - Determine where the bits in num1 are flipped\n",
    "            - Fill as many of these locations as you can starting with the largest powers of 2\n",
    "        - If you have leftovers fill starting from the smallest powers of 2 that were not already flipped\n",
    "        \"\"\"\n",
    "        num_bits = bin(num2).count(\"1\")\n",
    "        # code for hamming weight:\n",
    "        # num_bits = 0\n",
    "        # while num2:\n",
    "        #     num_bits += num2 & 1\n",
    "        #     num2 >>= 1\n",
    "\n",
    "        idx = []\n",
    "        i = 0\n",
    "        while num1:\n",
    "            if num1 & 1:\n",
    "                idx.append(i)\n",
    "            num1 >>= 1\n",
    "            i += 1\n",
    "\n",
    "        # now I have all the bits I need to flip for certain (if I iterate in reverse)\n",
    "        res = 0\n",
    "\n",
    "        if num_bits > len(idx):\n",
    "            for i in reversed(idx):\n",
    "                res += 1 << i\n",
    "            num_bits -= len(idx)\n",
    "            idx.append(32)  # to ensure a solution is found\n",
    "            current_bit = 0\n",
    "            for i in idx:\n",
    "                for j in range(current_bit, i):\n",
    "                    res += 1 << j\n",
    "\n",
    "                    if num_bits == 1:\n",
    "                        return res\n",
    "\n",
    "                    num_bits -= 1\n",
    "                current_bit = i + 1\n",
    "\n",
    "        else:\n",
    "            for i in range(1, num_bits + 1):\n",
    "                res += 1 << idx[-i]\n",
    "            return res\n",
    "\n",
    "\n",
    "minimizeXor = Solution()\n",
    "(\n",
    "    minimizeXor.minimizeXor(3, 5),\n",
    "    minimizeXor.minimizeXor(1, 1),\n",
    "    minimizeXor.minimizeXor(99, 10),\n",
    "    minimizeXor.minimizeXor(65, 84),\n",
    ")"
   ]
  },
  {
   "cell_type": "markdown",
   "metadata": {},
   "source": [
    "**2401. Longest Nice Subarray**\n"
   ]
  },
  {
   "cell_type": "code",
   "execution_count": null,
   "metadata": {},
   "outputs": [
    {
     "name": "stdout",
     "output_type": "stream",
     "text": [
      "3\n",
      "1\n"
     ]
    }
   ],
   "source": [
    "class Solution:\n",
    "    # 84% time, 15% memory\n",
    "    def longestNiceSubarray(self, nums: List[int]):\n",
    "        max_length = 1  # Minimum nice subarray is of length 1\n",
    "        used_bits = 0  # Tracks which bits are used in our current window\n",
    "        left = 0  # Left boundary of our sliding window\n",
    "\n",
    "        for right in range(len(nums)):\n",
    "            # While the current number conflicts with our window\n",
    "            while (used_bits & nums[right]) != 0:\n",
    "                # Remove the leftmost number from our window\n",
    "                used_bits ^= nums[left]\n",
    "                left += 1\n",
    "\n",
    "            # Add the current number to our window\n",
    "            used_bits |= nums[right]\n",
    "\n",
    "            # Update max length\n",
    "            max_length = max(max_length, right - left + 1)\n",
    "\n",
    "        return max_length\n",
    "\n",
    "\n",
    "longestNiceSubarray = Solution()\n",
    "print(longestNiceSubarray.longestNiceSubarray([1, 3, 8, 48, 10, 4]))\n",
    "print(longestNiceSubarray.longestNiceSubarray([3, 1, 5, 11, 13]))"
   ]
  }
 ],
 "metadata": {
  "kernelspec": {
   "display_name": "neetcode",
   "language": "python",
   "name": "python3"
  },
  "language_info": {
   "codemirror_mode": {
    "name": "ipython",
    "version": 3
   },
   "file_extension": ".py",
   "mimetype": "text/x-python",
   "name": "python",
   "nbconvert_exporter": "python",
   "pygments_lexer": "ipython3",
   "version": "3.12.1"
  }
 },
 "nbformat": 4,
 "nbformat_minor": 2
}
