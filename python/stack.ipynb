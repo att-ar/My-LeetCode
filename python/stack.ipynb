{
 "cells": [
  {
   "cell_type": "code",
   "execution_count": 1,
   "metadata": {},
   "outputs": [],
   "source": [
    "from typing import List"
   ]
  },
  {
   "cell_type": "markdown",
   "metadata": {},
   "source": [
    "**22. Generate Parentheses**\n"
   ]
  },
  {
   "cell_type": "code",
   "execution_count": 4,
   "metadata": {},
   "outputs": [
    {
     "data": {
      "text/plain": [
       "['((()))', '(()())', '(())()', '()(())', '()()()']"
      ]
     },
     "execution_count": 4,
     "metadata": {},
     "output_type": "execute_result"
    }
   ],
   "source": [
    "class Solution:  # 83% time, 64% memory\n",
    "    def generateParenthesis(self, n: int) -> List[str]:\n",
    "        # 2 options at most: add open or add close\n",
    "        res = []\n",
    "        stack = []\n",
    "\n",
    "        def dfs(open: int, close: int):\n",
    "            # open is remaining number of open available\n",
    "            # same for close\n",
    "            if close == 0:  # base case\n",
    "                res.append(\"\".join(stack))\n",
    "                return\n",
    "\n",
    "            if open > 0:\n",
    "                stack.append(\"(\")\n",
    "                dfs(open - 1, close)\n",
    "                stack.pop()\n",
    "            if close > 0 and close > open:\n",
    "                # there must always be more open brackets placed\n",
    "                stack.append(\")\")\n",
    "                dfs(open, close - 1)\n",
    "                stack.pop()\n",
    "\n",
    "        dfs(n, n)\n",
    "        return res\n",
    "\n",
    "\n",
    "generateParenthesis = Solution()\n",
    "generateParenthesis.generateParenthesis(3)"
   ]
  },
  {
   "cell_type": "markdown",
   "metadata": {},
   "source": [
    "**739. Daily Temperatures**\n"
   ]
  },
  {
   "cell_type": "code",
   "execution_count": 9,
   "metadata": {},
   "outputs": [
    {
     "data": {
      "text/plain": [
       "[1, 1, 4, 2, 1, 1, 0, 0]"
      ]
     },
     "execution_count": 9,
     "metadata": {},
     "output_type": "execute_result"
    }
   ],
   "source": [
    "class Solution:  # 68% time, 96% memory\n",
    "    def dailyTemperatures(self, temperatures: List[int]) -> List[int]:\n",
    "        # will traverse backwards because I only need to consider the sorted max values in front of a given index\n",
    "        res = [0 for _ in range(len(temperatures))]\n",
    "        stack = [(temperatures[-1], len(temperatures) - 1)]  # store value and position\n",
    "        for i in range(len(temperatures) - 2, -1, -1):\n",
    "            while stack and temperatures[i] >= stack[-1][0]:\n",
    "                stack.pop()\n",
    "            if stack:\n",
    "                res[i] = stack[-1][1] - i\n",
    "\n",
    "            stack.append((temperatures[i], i))\n",
    "        return res\n",
    "\n",
    "    def dailyTemperaturesForward(self, temperatures: list[int]) -> list[int]:\n",
    "        res = [0 for _ in range(len(temperatures))]\n",
    "        stack = []\n",
    "        for i in range(len(temperatures)):\n",
    "            while (\n",
    "                stack and temperatures[i] > stack[-1][0]\n",
    "            ):  # stack is in descending order in terms of temperatures\n",
    "                _, old_i = stack.pop()\n",
    "                res[old_i] = i - old_i\n",
    "            stack.append((temperatures[i], i))\n",
    "        return res\n",
    "\n",
    "\n",
    "dailyTemperatures = Solution()\n",
    "dailyTemperatures.dailyTemperatures([73, 74, 75, 71, 69, 72, 76, 73])\n",
    "dailyTemperatures.dailyTemperaturesForward([73, 74, 75, 71, 69, 72, 76, 73])"
   ]
  },
  {
   "cell_type": "markdown",
   "metadata": {},
   "source": [
    "**853. Car Fleet**\n"
   ]
  },
  {
   "cell_type": "code",
   "execution_count": 16,
   "metadata": {},
   "outputs": [
    {
     "data": {
      "text/plain": [
       "1"
      ]
     },
     "execution_count": 16,
     "metadata": {},
     "output_type": "execute_result"
    }
   ],
   "source": [
    "class Solution:\n",
    "    def carFleet(self, target: int, position: List[int], speed: List[int]) -> int:\n",
    "        # a stack is a fleet, when fleet is determined clear stack and increment `res`\n",
    "        # starting from leftmost car since its the most limiting factor\n",
    "        # make an array of completion times for each car: time 't' when start position + speed * 't' = target\n",
    "        cars = sorted(zip(position, speed))\n",
    "        stack = []\n",
    "        for i in range(len(cars) - 1, -1, -1):\n",
    "            # use stack and delete cars that collide into ones in front of them\n",
    "            stack.append((target - cars[i][0]) / cars[i][1])\n",
    "            if len(stack) > 1 and stack[-1] <= stack[-2]:\n",
    "                stack.pop()\n",
    "        return len(stack)\n",
    "\n",
    "    def carFleetAlso(self, target: int, position: List[int], speed: List[int]) -> int:\n",
    "        cars = list(zip(position, speed))\n",
    "        cars.sort()  # traverse backwards (start with car furthest ahead)\n",
    "        finish = [(target - p) / s for p, s in cars]\n",
    "        # if car reaches target faster or equal than car in front,\n",
    "        # do not add it to stack because it forms a fleet\n",
    "        # otherwise add to stack because it is a new fleet\n",
    "        stack = [finish[-1]]  # only finish times will be kept\n",
    "        for i in range(len(finish) - 2, -1, -1):\n",
    "            if finish[i] > stack[-1]:\n",
    "                stack.append(finish[i])\n",
    "        return len(stack)\n",
    "\n",
    "\n",
    "target = 10\n",
    "position = [0, 4, 2]\n",
    "speed = [2, 1, 3]\n",
    "\n",
    "carFleet = Solution()\n",
    "carFleet.carFleet(target, position, speed)"
   ]
  },
  {
   "cell_type": "markdown",
   "metadata": {},
   "source": [
    "**2969. Minimum String Length After Removing Substrings**\n"
   ]
  },
  {
   "cell_type": "code",
   "execution_count": 2,
   "metadata": {},
   "outputs": [
    {
     "data": {
      "text/plain": [
       "2"
      ]
     },
     "execution_count": 2,
     "metadata": {},
     "output_type": "execute_result"
    }
   ],
   "source": [
    "class Solution:  # 73% time, 82% memory\n",
    "    def minLength(self, s: str) -> int:\n",
    "        stack = []\n",
    "        for c in s:\n",
    "            if stack and stack[-1] + c in [\"AB\", \"CD\"]:\n",
    "                stack.pop()\n",
    "            else:\n",
    "                stack.append(c)\n",
    "        return len(stack)\n",
    "\n",
    "\n",
    "S = Solution()\n",
    "S.minLength(\"ABFCACDB\")"
   ]
  },
  {
   "cell_type": "markdown",
   "metadata": {},
   "source": [
    "**84. Largest Rectangle in Histogram**\n"
   ]
  },
  {
   "cell_type": "code",
   "execution_count": 41,
   "metadata": {},
   "outputs": [
    {
     "name": "stdout",
     "output_type": "stream",
     "text": [
      "10\n",
      "4\n",
      "21\n",
      "2\n",
      "4\n"
     ]
    }
   ],
   "source": [
    "class Solution:  # 21% time, 92% memory\n",
    "    def largestRectangleArea(self, heights: List[int]) -> int:\n",
    "        \"\"\"\n",
    "        Just watch NeetCode's video. I am unable to rephrase it into a docstring\n",
    "        \"\"\"\n",
    "        res = 0\n",
    "\n",
    "        # will always be monotonic increasing, heights[j] > heights[i] for j < i will be popped from the stack\n",
    "        # pair: (heights[i], j) where j is the leftmost index with a value >= to heights[i]\n",
    "        # j is stored that way so that you can compute the largest surface area extending leftwards and rightwards\n",
    "        stack = []\n",
    "        for i in range(len(heights)):\n",
    "            j = i\n",
    "            res = max(res, heights[i])\n",
    "            # print(stack)\n",
    "            while stack and heights[i] <= stack[-1][0]:\n",
    "                height_j, j = stack.pop()\n",
    "                # now that you have finally found a height of smaller height than `height_j`\n",
    "                #   (means you cannot keep extending it rightwards)\n",
    "                # you can calculate the surface of a rectangle starting at `j` and ending at `i-1`\n",
    "                # area_j = height_j * ((i-1) - j + 1)\n",
    "                #   `+ 1` since a single data point is treated as width of 1\n",
    "                res = max(res, height_j * (i - j))\n",
    "            # append the in\n",
    "            stack.append((heights[i], j))\n",
    "\n",
    "        # compute the area of the heights remaining in the stack which can be extended to the right entirely\n",
    "        # note that the stack is monotonic increasing which is why this works:\n",
    "        # all heights remaining are allowed to extend all the way to the end of the array\n",
    "        #   thanks to the fact that there is a height at the end taller than them.\n",
    "        for height, i in stack:\n",
    "            res = max(res, height * (len(heights) - i))\n",
    "\n",
    "        return res\n",
    "\n",
    "\n",
    "largestRectangleArea = Solution()\n",
    "for lst in [\n",
    "    [2, 1, 5, 6, 2, 3],\n",
    "    [2, 4],\n",
    "    [1, 1, 1, 1, 1, 1, 1, 1, 1, 1, 8, 9, 7, 1],\n",
    "    [1, 1],\n",
    "    [2, 3],\n",
    "]:\n",
    "    print(largestRectangleArea.largestRectangleArea(lst))"
   ]
  },
  {
   "cell_type": "markdown",
   "metadata": {},
   "source": [
    "**2116. Check if a Parentheses String Can Be Valid**\n"
   ]
  },
  {
   "cell_type": "code",
   "execution_count": 8,
   "metadata": {},
   "outputs": [
    {
     "name": "stdout",
     "output_type": "stream",
     "text": [
      "[] [4, 5]\n",
      "True\n",
      "[] []\n",
      "True\n"
     ]
    }
   ],
   "source": [
    "class Solution:  # 98% time, 9% memory\n",
    "    def canBeValid(self, s: str, locked: str) -> bool:\n",
    "        \"\"\"\n",
    "        Keep two stacks\n",
    "        - One for locked \"(\" characters\n",
    "        - One for wildcards\n",
    "\n",
    "        At the end you need to go through the stack of locked \"(\" and ensure that there is a wildcard to the right for each of them.\n",
    "        \"\"\"\n",
    "        if len(s) % 2:\n",
    "            # need an even length\n",
    "            return False\n",
    "\n",
    "        # will store the indices to make that second iteration easy\n",
    "        unlocked = []\n",
    "        l_locked = []\n",
    "        for i in range(len(s)):\n",
    "            # Can restructure these if statements to remove one layer of nesting\n",
    "            # if locked[i] == \"0\": unlocked.append(i), and the use elif statement\n",
    "            if locked[i] == \"1\":\n",
    "                if s[i] == \")\":\n",
    "                    if l_locked:\n",
    "                        l_locked.pop()\n",
    "                    elif unlocked:\n",
    "                        unlocked.pop()\n",
    "                    else:\n",
    "                        return False\n",
    "                else:\n",
    "                    l_locked.append(i)\n",
    "            else:\n",
    "                unlocked.append(i)\n",
    "\n",
    "        for i in reversed(l_locked):\n",
    "            if unlocked and unlocked[-1] > i:\n",
    "                unlocked.pop()\n",
    "            else:\n",
    "                return False\n",
    "\n",
    "        return True\n",
    "\n",
    "\n",
    "canBeValid = Solution()\n",
    "print(canBeValid.canBeValid(\"))()))\", \"010100\"))\n",
    "print(canBeValid.canBeValid(\"()\", \"11\"))"
   ]
  }
 ],
 "metadata": {
  "kernelspec": {
   "display_name": "neetcode",
   "language": "python",
   "name": "python3"
  },
  "language_info": {
   "codemirror_mode": {
    "name": "ipython",
    "version": 3
   },
   "file_extension": ".py",
   "mimetype": "text/x-python",
   "name": "python",
   "nbconvert_exporter": "python",
   "pygments_lexer": "ipython3",
   "version": "3.12.1"
  }
 },
 "nbformat": 4,
 "nbformat_minor": 2
}
