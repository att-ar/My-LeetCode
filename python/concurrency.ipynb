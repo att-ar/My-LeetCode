{
 "cells": [
  {
   "cell_type": "markdown",
   "metadata": {},
   "source": [
    "**1114. Print in Order**\n"
   ]
  },
  {
   "cell_type": "code",
   "execution_count": 9,
   "metadata": {},
   "outputs": [],
   "source": [
    "from threading import Semaphore, Thread, Lock\n",
    "from typing import Callable\n",
    "\n",
    "\n",
    "# can use Lock, Barrier, Semaphore, all the same essentially\n",
    "class Foo:  # 66% time, 7% memory\n",
    "    def __init__(self):\n",
    "        self.two = Semaphore(0)\n",
    "        self.three = Semaphore(0)\n",
    "\n",
    "    def first(self, printFirst: \"Callable[[], None]\") -> None:\n",
    "        # printFirst() outputs \"first\". Do not change or remove this line.\n",
    "        printFirst()\n",
    "        self.two.release()\n",
    "\n",
    "    def second(self, printSecond: \"Callable[[], None]\") -> None:\n",
    "        # printSecond() outputs \"second\". Do not change or remove this line.\n",
    "        self.two.acquire()\n",
    "        printSecond()\n",
    "        self.three.release()\n",
    "\n",
    "    def third(self, printThird: \"Callable[[], None]\") -> None:\n",
    "        # printThird() outputs \"third\". Do not change or remove this line.\n",
    "        self.three.acquire()\n",
    "        printThird()"
   ]
  },
  {
   "cell_type": "markdown",
   "metadata": {},
   "source": [
    "**Print FooBar Alternating**\n"
   ]
  },
  {
   "cell_type": "code",
   "execution_count": 14,
   "metadata": {},
   "outputs": [
    {
     "name": "stdout",
     "output_type": "stream",
     "text": [
      "Foo\n",
      "Bar\n",
      "Foo\n",
      "Bar\n",
      "Foo\n",
      "Bar\n",
      "Foo\n",
      "Bar\n",
      "Foo\n",
      "Bar\n",
      "Foo\n",
      "Bar\n",
      "Foo\n",
      "Bar\n",
      "Foo\n",
      "Bar\n",
      "Foo\n",
      "Bar\n",
      "Foo\n",
      "Bar\n"
     ]
    }
   ],
   "source": [
    "class FooBar:  # 71% time, 5% memory\n",
    "    def __init__(self, n):\n",
    "        self.n = n\n",
    "        # start with Foo then alternate\n",
    "        self.fooL = Lock()  # unlocked\n",
    "        self.barL = Lock()  # unlocked\n",
    "        self.barL.acquire()  # lock barL because we start with Foo\n",
    "\n",
    "    def foo(self, printFoo: \"Callable[[], None]\") -> None:\n",
    "        for _ in range(self.n):\n",
    "            self.fooL.acquire()\n",
    "            # printFoo() outputs \"foo\". Do not change or remove this line.\n",
    "            printFoo()\n",
    "            self.barL.release()\n",
    "\n",
    "    def bar(self, printBar: \"Callable[[], None]\") -> None:\n",
    "        for _ in range(self.n):\n",
    "            self.barL.acquire()\n",
    "            # printBar() outputs \"bar\". Do not change or remove this line.\n",
    "            printBar()\n",
    "            self.fooL.release()\n",
    "\n",
    "\n",
    "fooBar = FooBar(10)\n",
    "threadFoo = Thread(target=fooBar.foo, args=[lambda: print(\"Foo\")])\n",
    "threadBar = Thread(target=fooBar.bar, args=[lambda: print(\"Bar\")])\n",
    "\n",
    "# Start the threads\n",
    "threadFoo.start()\n",
    "threadBar.start()\n",
    "# Wait for all threads to complete\n",
    "threadFoo.join()\n",
    "threadBar.join()"
   ]
  },
  {
   "cell_type": "markdown",
   "metadata": {},
   "source": [
    "**1116. Print Zero Even Odd**\n"
   ]
  },
  {
   "cell_type": "code",
   "execution_count": 20,
   "metadata": {},
   "outputs": [
    {
     "name": "stdout",
     "output_type": "stream",
     "text": [
      "0\n",
      "1\n",
      "0\n",
      "2\n",
      "0\n",
      "3\n"
     ]
    }
   ],
   "source": [
    "class ZeroEvenOdd:  # 89% time, 7% memmory\n",
    "    def __init__(self, n):\n",
    "        self.n = n\n",
    "        self.zeroLock = Lock()\n",
    "        self.evenLock = Lock()\n",
    "        self.oddLock = Lock()\n",
    "        self.evenLock.acquire()  # lock the even and odd since they shouldn't start\n",
    "        self.oddLock.acquire()  # lock the even and odd since they shouldn't start\n",
    "\n",
    "    # printNumber(x) outputs \"x\", where x is an integer.\n",
    "    def zero(self, printNumber: \"Callable[[int], None]\") -> None:\n",
    "        for i in range(1, self.n + 1):\n",
    "            self.zeroLock.acquire()\n",
    "            printNumber(0)\n",
    "            if not i % 2:\n",
    "                self.evenLock.release()\n",
    "            else:\n",
    "                self.oddLock.release()\n",
    "\n",
    "    def even(self, printNumber: \"Callable[[int], None]\") -> None:\n",
    "        for i in range(2, self.n + 1, 2):\n",
    "            self.evenLock.acquire()\n",
    "            printNumber(i)\n",
    "            self.zeroLock.release()\n",
    "\n",
    "    def odd(self, printNumber: \"Callable[[int], None]\") -> None:\n",
    "        for i in range(1, self.n + 1, 2):\n",
    "            self.oddLock.acquire()\n",
    "            printNumber(i)\n",
    "            self.zeroLock.release()\n",
    "\n",
    "\n",
    "zeroEvenOdd = ZeroEvenOdd(3)\n",
    "zero = Thread(target=zeroEvenOdd.zero, args=[lambda x: print(x)])\n",
    "even = Thread(target=zeroEvenOdd.even, args=[lambda x: print(x)])\n",
    "odd = Thread(target=zeroEvenOdd.odd, args=[lambda x: print(x)])\n",
    "\n",
    "zero.start()\n",
    "even.start()\n",
    "odd.start()\n",
    "\n",
    "zero.join()\n",
    "even.join()\n",
    "odd.join()"
   ]
  }
 ],
 "metadata": {
  "kernelspec": {
   "display_name": "neetcode",
   "language": "python",
   "name": "python3"
  },
  "language_info": {
   "codemirror_mode": {
    "name": "ipython",
    "version": 3
   },
   "file_extension": ".py",
   "mimetype": "text/x-python",
   "name": "python",
   "nbconvert_exporter": "python",
   "pygments_lexer": "ipython3",
   "version": "3.12.1"
  }
 },
 "nbformat": 4,
 "nbformat_minor": 2
}
