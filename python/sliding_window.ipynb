{
 "cells": [
  {
   "cell_type": "code",
   "execution_count": 1,
   "metadata": {},
   "outputs": [],
   "source": [
    "import heapq\n",
    "from collections import defaultdict, deque\n",
    "from typing import List"
   ]
  },
  {
   "cell_type": "markdown",
   "metadata": {},
   "source": [
    "**121. Best time to buy and sell stock**\n"
   ]
  },
  {
   "cell_type": "code",
   "execution_count": 3,
   "metadata": {},
   "outputs": [
    {
     "data": {
      "text/plain": [
       "(5, 0)"
      ]
     },
     "execution_count": 3,
     "metadata": {},
     "output_type": "execute_result"
    }
   ],
   "source": [
    "\"\"\"\n",
    "2nd attempt after a long time because i am doing the 2d dp version of this (Dec 18, 2024)\n",
    "\"\"\"\n",
    "\n",
    "\n",
    "class Solution:\n",
    "    def maxProfit(self, prices: List[int]) -> int:  # 53% time, 5% memory\n",
    "        \"\"\"\n",
    "        Can have a left pointer at the current minimum value seen\n",
    "        Right pointer just moves until the end and computes max profit\n",
    "        \"\"\"\n",
    "\n",
    "        left = 0\n",
    "        res = 0\n",
    "        for right in range(len(prices)):\n",
    "            if prices[right] < prices[left]:\n",
    "                left = right\n",
    "            else:\n",
    "                res = max(res, prices[right] - prices[left])\n",
    "        return res\n",
    "\n",
    "\n",
    "maxProfit = Solution()\n",
    "(\n",
    "    maxProfit.maxProfit([7, 1, 5, 3, 6, 4]),\n",
    "    maxProfit.maxProfit([7, 6, 4, 3, 1]),\n",
    ")"
   ]
  },
  {
   "cell_type": "code",
   "execution_count": 3,
   "metadata": {},
   "outputs": [
    {
     "name": "stdout",
     "output_type": "stream",
     "text": [
      "5\n",
      "0\n"
     ]
    }
   ],
   "source": [
    "class Solution:  # 80% time, 25% memory\n",
    "    def maxProfit(self, prices: List[int]) -> int:\n",
    "        # slide window while updating max difference\n",
    "        # update left when you reach a new smallest value\n",
    "        # increment right\n",
    "        # variable size window\n",
    "        # has to be (0, 0) because an array of length 1 is a possible input\n",
    "        l, r = 0, 0\n",
    "        res = max(0, prices[r] - prices[l])\n",
    "        while r < len(prices):\n",
    "            if prices[r] < prices[l]:\n",
    "                l = r\n",
    "            res = max(res, prices[r] - prices[l])\n",
    "            r += 1\n",
    "        return res\n",
    "\n",
    "\n",
    "# NeetCode solution, doesn't use pointers, but same logic. For loops are faster than while loops in python though\n",
    "# class Solution:\n",
    "#     def maxProfit(self, prices: List[int]) -> int:\n",
    "#         res = 0\n",
    "\n",
    "#         lowest = prices[0]\n",
    "#         for price in prices:\n",
    "#             if price < lowest:\n",
    "#                 lowest = price\n",
    "#             res = max(res, price - lowest)\n",
    "#         return res\n",
    "\n",
    "maxProfit = Solution()\n",
    "print(maxProfit.maxProfit([7, 1, 5, 3, 6, 4]))\n",
    "print(maxProfit.maxProfit([7, 6, 4, 3, 1]))"
   ]
  },
  {
   "cell_type": "markdown",
   "metadata": {},
   "source": [
    "**3. Longest substring witout repeating characters**\n"
   ]
  },
  {
   "cell_type": "code",
   "execution_count": 12,
   "metadata": {},
   "outputs": [
    {
     "data": {
      "text/plain": [
       "4"
      ]
     },
     "execution_count": 12,
     "metadata": {},
     "output_type": "execute_result"
    }
   ],
   "source": [
    "class Solution:  # 90% time, 25% memory\n",
    "    def lengthOfLongestSubstring(self, s: str) -> int:\n",
    "        # sliding window using a queue (just gonna use a list)\n",
    "        # i.e. variable size window\n",
    "        hash_set = set()  # keep track of characters in queue (O(1) search)\n",
    "        queue = []\n",
    "        res = 0\n",
    "        for char in s:\n",
    "            if char in hash_set:\n",
    "                res = max(res, len(queue))\n",
    "                while queue:\n",
    "                    hash_set.remove(q := queue.pop(0))\n",
    "                    if q == char:\n",
    "                        break\n",
    "            queue.append(char)\n",
    "            hash_set.add(char)\n",
    "\n",
    "        return max(res, len(queue))\n",
    "\n",
    "\n",
    "# NeetCode Solution: # two pointers instead of a double queue\n",
    "# class Solution:\n",
    "#     def lengthOfLongestSubstring(self, s: str) -> int:\n",
    "#         charSet = set()\n",
    "#         l = 0\n",
    "#         res = 0\n",
    "\n",
    "#         for r in range(len(s)):\n",
    "#             while s[r] in charSet:\n",
    "#                 charSet.remove(s[l])\n",
    "#                 l += 1\n",
    "#             charSet.add(s[r])\n",
    "#             res = max(res, r - l + 1)\n",
    "#         return res\n",
    "\n",
    "\n",
    "lengthOfLongestSubstring = Solution()\n",
    "lengthOfLongestSubstring.lengthOfLongestSubstring(\"abcabcbbegh\")"
   ]
  },
  {
   "cell_type": "markdown",
   "metadata": {},
   "source": [
    "**424. Longest Repeating Character replacement**\n"
   ]
  },
  {
   "cell_type": "code",
   "execution_count": 51,
   "metadata": {},
   "outputs": [
    {
     "data": {
      "text/plain": [
       "2"
      ]
     },
     "execution_count": 51,
     "metadata": {},
     "output_type": "execute_result"
    }
   ],
   "source": [
    "class Solution:\n",
    "    def characterReplacement(self, s: str, k: int) -> int:  # 38% time, 25% memory\n",
    "        \"\"\"\n",
    "        You are given a string s and an integer k. You can choose any character of the string and change it to any other uppercase English character.\n",
    "        You can perform this operation at most k times.\n",
    "        Return the length of the longest substring containing the same letter you can get after performing the above operations.\n",
    "        \"\"\"\n",
    "        res = 0\n",
    "        char_count = defaultdict(\n",
    "            int\n",
    "        )  # hashmap with number of occurrences for a character in current stack\n",
    "        # when k is less than the amount of occurrences of letter that are not the most common, move left pointer until that changes\n",
    "        left = 0\n",
    "        for i in range(len(s)):\n",
    "            char_count[s[i]] += 1\n",
    "            if (i + 1 - left) - max(\n",
    "                char_count.values()\n",
    "            ) <= k:  # length of stack - most common <= number of replacements\n",
    "                res = max(res, i + 1 - left)\n",
    "                continue\n",
    "            while (i + 1 - left) - max(char_count.values()) > k:\n",
    "                char_count[s[left]] -= 1\n",
    "                left += 1\n",
    "        return res\n",
    "\n",
    "    # better solution from NeetCode keeping store of maxFrequency in stack\n",
    "    # since the max result occurs at the maxFrequency, you don't need maxFrequency to be accurate at all times\n",
    "    #   it just needs to true about the historical or current maxFrequency\n",
    "    # length - maxF <= k, k is constant so get highest result by increasing length and maxF\n",
    "    def characterReplacementNeetCode(\n",
    "        self, s: str, k: int\n",
    "    ) -> int:  # 88% time, 12% memory\n",
    "        res = 0\n",
    "        l = 0\n",
    "        count = {}\n",
    "        maxF = 0\n",
    "        # only checking cases where res can actually be updated (when length - maxF <= k)\n",
    "        # so the only intermediate logic for moving left pointer is when that condition is not met\n",
    "        for r in range(len(s)):\n",
    "            count[s[r]] = count.get(s[r], 0) + 1\n",
    "            maxF = max(maxF, count[s[r]])\n",
    "            while (\n",
    "                r - l + 1\n",
    "            ) - maxF > k:  # maxF doesnt get decremented because of the math logic\n",
    "                count[s[l]] -= 1\n",
    "                l += 1\n",
    "            res = max(res, r - l + 1)\n",
    "        return res\n",
    "\n",
    "    def characterReplacementMarch18(self, s: str, k: int) -> int:\n",
    "        maxFreq = 0\n",
    "        # two pointers, find substring with the largest frequency of same characters\n",
    "        # this substring + k is the answer\n",
    "        left = 0\n",
    "        count = {}\n",
    "        for r in range(len(s)):\n",
    "            count[s[r]] = count.get(s[r], 0) + 1\n",
    "            maxFreq = max(maxFreq, count[s[r]])\n",
    "            while maxFreq + k < (r - left + 1):\n",
    "                count[s[left]] -= 1\n",
    "                left += 1\n",
    "        return min(maxFreq + k, len(s))  # edge case\n",
    "\n",
    "\n",
    "characterReplacement = Solution()\n",
    "characterReplacement.characterReplacementNeetCode(\"ABAA\", 0)"
   ]
  },
  {
   "cell_type": "markdown",
   "metadata": {},
   "source": [
    "**567. Permutation in strings**\n"
   ]
  },
  {
   "cell_type": "code",
   "execution_count": 69,
   "metadata": {},
   "outputs": [
    {
     "data": {
      "text/plain": [
       "True"
      ]
     },
     "execution_count": 69,
     "metadata": {},
     "output_type": "execute_result"
    }
   ],
   "source": [
    "class Solution:  # 74% time, 8% memory\n",
    "    def checkInclusion(self, s1: str, s2: str) -> bool:\n",
    "        if len(s1) > len(s2):\n",
    "            return False\n",
    "        count_s1 = [0] * 26  # 26 characters only\n",
    "        count_s2 = [0] * 26  # 26 characters only\n",
    "        matches = 0  # the return condition\n",
    "        for c in range(len(s1)):  # initializing the first window\n",
    "            count_s1[ord(s1[c]) - ord(\"a\")] += 1\n",
    "            count_s2[ord(s2[c]) - ord(\"a\")] += 1\n",
    "            # just populating based on 'a' -> 0, 'z' -> 25 index\n",
    "\n",
    "        # first and only pass through entire hashmap for both:\n",
    "        for i in range(26):\n",
    "            if count_s1[i] == count_s2[i]:\n",
    "                matches += 1\n",
    "\n",
    "        l = 0\n",
    "        for r in range(len(s1), len(s2)):\n",
    "            if matches == 26:\n",
    "                return True\n",
    "            count_s2[ord(s2[l]) - ord(\"a\")] -= 1\n",
    "            if count_s2[ord(s2[l]) - ord(\"a\")] + 1 == count_s1[ord(s2[l]) - ord(\"a\")]:\n",
    "                matches -= 1\n",
    "            elif count_s2[ord(s2[l]) - ord(\"a\")] == count_s1[ord(s2[l]) - ord(\"a\")]:\n",
    "                matches += 1\n",
    "\n",
    "            l += 1\n",
    "            count_s2[ord(s2[r]) - ord(\"a\")] += 1\n",
    "            if count_s2[ord(s2[r]) - ord(\"a\")] - 1 == count_s1[ord(s2[r]) - ord(\"a\")]:\n",
    "                matches -= 1\n",
    "            elif count_s2[ord(s2[r]) - ord(\"a\")] == count_s1[ord(s2[r]) - ord(\"a\")]:\n",
    "                matches += 1\n",
    "\n",
    "        # this was the issue, there was no final check for the return condition:\n",
    "        return matches == 26\n",
    "\n",
    "\n",
    "checkInclusion = Solution()\n",
    "checkInclusion.checkInclusion(\"ab\", \"eidbaoo\")"
   ]
  },
  {
   "cell_type": "markdown",
   "metadata": {},
   "source": [
    "**76. Minimum Window Substring**\n"
   ]
  },
  {
   "cell_type": "code",
   "execution_count": 42,
   "metadata": {},
   "outputs": [
    {
     "data": {
      "text/plain": [
       "'BANC'"
      ]
     },
     "execution_count": 42,
     "metadata": {},
     "output_type": "execute_result"
    }
   ],
   "source": [
    "class Solution(object):\n",
    "    def minWindow(self, s: str, t: str) -> str:  # 86% time, 45% memory\n",
    "        # using NeetCode's have and need method without seeing the code\n",
    "        if t == \"\":\n",
    "            return \"\"\n",
    "        hashNeed, hashHave = {}, {}\n",
    "        for c in t:\n",
    "            hashNeed[c] = 1 + hashNeed.get(c, 0)\n",
    "            hashHave[c] = 0\n",
    "\n",
    "        # This was the issue, I initialized `need` as `len(t)` but it has to be the number of unique characters in `t`\n",
    "        have, need = 0, len(hashNeed)\n",
    "\n",
    "        # len(window), start index, end index\n",
    "        result = [float(\"inf\"), None, None]\n",
    "        l = 0\n",
    "        for r in range(len(s)):\n",
    "            if s[r] in hashNeed:\n",
    "                hashHave[s[r]] += 1\n",
    "                if hashHave[s[r]] == hashNeed[s[r]]:\n",
    "                    have += 1\n",
    "            while have == need:\n",
    "                if r - l < result[0]:\n",
    "                    result = [\n",
    "                        r - l,\n",
    "                        l,\n",
    "                        r,\n",
    "                    ]  # omit plus 1 in `r-l` for all since they cancel\n",
    "                if s[l] in hashNeed:\n",
    "                    hashHave[s[l]] -= 1\n",
    "                    if hashHave[s[l]] < hashNeed[s[l]]:\n",
    "                        have -= 1\n",
    "                l += 1\n",
    "\n",
    "        if result[1] is None:\n",
    "            return \"\"\n",
    "        return s[result[1] : result[2] + 1]\n",
    "\n",
    "\n",
    "minWindow = Solution()\n",
    "minWindow.minWindow(\"ADOBECODEBANC\", \"ABC\")\n",
    "# minWindow.minWindow(\"a\", \"b\")"
   ]
  },
  {
   "cell_type": "markdown",
   "metadata": {},
   "source": [
    "**Maximum Width Ramp**\n"
   ]
  },
  {
   "cell_type": "code",
   "execution_count": 2,
   "metadata": {},
   "outputs": [
    {
     "name": "stdout",
     "output_type": "stream",
     "text": [
      "4 7\n"
     ]
    }
   ],
   "source": [
    "class Solution:\n",
    "    def maximumWidthRamp(self, heights: list[int]):\n",
    "        suffix_max_height = [0] * len(heights)\n",
    "        suffix_max_height[-1] = heights[-1]\n",
    "        for i in reversed(range(len(heights) - 1)):\n",
    "            suffix_max_height[i] = max(suffix_max_height[i + 1], heights[i])\n",
    "\n",
    "        left, right = 0, 0\n",
    "        res = 0\n",
    "        while right < len(heights):\n",
    "            if heights[left] > suffix_max_height[right]:\n",
    "                left += 1\n",
    "            elif heights[right] < suffix_max_height[right]:\n",
    "                right += 1\n",
    "            elif (heights[right] == suffix_max_height[right]) and (\n",
    "                heights[right] >= heights[left]\n",
    "            ):\n",
    "                res = max(res, right - left)\n",
    "                right += 1\n",
    "            else:\n",
    "                left += 1\n",
    "        return res\n",
    "\n",
    "\n",
    "S = Solution()\n",
    "print(\n",
    "    S.maximumWidthRamp([6, 0, 8, 1, 2, 5]),\n",
    "    S.maximumWidthRamp([6, 0, 8, 1, 2, 6, 9, 10]),\n",
    ")"
   ]
  },
  {
   "cell_type": "markdown",
   "metadata": {},
   "source": [
    "**239. Maximum Sliding Window**\n",
    "\n",
    "Type of Decreasing Monotonic Queue problem\n"
   ]
  },
  {
   "cell_type": "code",
   "execution_count": 52,
   "metadata": {},
   "outputs": [
    {
     "name": "stdout",
     "output_type": "stream",
     "text": [
      "[3, 3, 5, 5, 6, 7]\n",
      "[1]\n",
      "[10, 10, 9, 2]\n"
     ]
    }
   ],
   "source": [
    "class Solution:  # 10% time, 6% memory\n",
    "    def maxSlidingWindow(self, nums: List[int], k: int) -> List[int]:\n",
    "        \"\"\"\n",
    "        for every k-sized window moving from left to right return the max\n",
    "\n",
    "        I'm thinking just use a maxHeap and when the index is out of bounds pop\n",
    "        \"\"\"\n",
    "\n",
    "        # the index will be kept positive because I want the leftmost index to be prioritized\n",
    "        # and pooped before the rightmost one if the numbers are duplicated\n",
    "        maxHeap = [(-nums[i], i) for i in range(k)]\n",
    "        heapq.heapify(maxHeap)\n",
    "        res: List[int] = []\n",
    "        for i in range(k, len(nums) + 1):\n",
    "            res.append(-maxHeap[0][0])\n",
    "            while maxHeap and maxHeap[0][1] <= i - k:\n",
    "                heapq.heappop(maxHeap)\n",
    "            if i == len(nums):\n",
    "                break\n",
    "            heapq.heappush(maxHeap, (-nums[i], i))\n",
    "\n",
    "        return res\n",
    "\n",
    "    def maxSlidingWindowDeque(\n",
    "        self, nums: List[int], k: int\n",
    "    ) -> List[int]:  # 39% time, 17% memory\n",
    "        \"\"\"\n",
    "        NeetCode solution involves a deque\n",
    "        Where at any given moment in time the deque is a decreasing monotonic queue\n",
    "        such that the leftmost integer is the max of the current window being evaluated\n",
    "        (need to ensure to remove values once they are out of bounds)\n",
    "        \"\"\"\n",
    "\n",
    "        res = []\n",
    "        dq = deque()\n",
    "        # setup the first k window deque\n",
    "        for i in range(len(nums)):\n",
    "            while dq and nums[i] > dq[-1][0]:\n",
    "                dq.pop()\n",
    "            dq.append((nums[i], i))\n",
    "            if i >= k - 1:\n",
    "                if dq[0][1] <= i - k:\n",
    "                    dq.popleft()\n",
    "                res.append(dq[0][0])\n",
    "\n",
    "        return res\n",
    "\n",
    "    def maxSlidingWindowNeetCode(self, nums: List[int], k: int) -> List[int]:\n",
    "        output = []\n",
    "        q = deque()  # index\n",
    "        l = r = 0\n",
    "\n",
    "        while r < len(nums):\n",
    "            while q and nums[q[-1]] < nums[r]:\n",
    "                q.pop()\n",
    "            q.append(r)\n",
    "\n",
    "            if l > q[0]:\n",
    "                q.popleft()\n",
    "\n",
    "            if (r + 1) >= k:\n",
    "                output.append(nums[q[0]])\n",
    "                l += 1\n",
    "            r += 1\n",
    "\n",
    "        return output\n",
    "\n",
    "\n",
    "maxSlidingWindow = Solution()\n",
    "print(maxSlidingWindow.maxSlidingWindowDeque([1, 3, -1, -3, 5, 3, 6, 7], 3))\n",
    "print(maxSlidingWindow.maxSlidingWindowDeque([1], 1))\n",
    "print(maxSlidingWindow.maxSlidingWindowDeque([9, 10, 9, -7, -4, -8, 2, -6], 5))"
   ]
  },
  {
   "cell_type": "markdown",
   "metadata": {},
   "source": [
    "**3208. Alternating Groups II**\n"
   ]
  },
  {
   "cell_type": "code",
   "execution_count": null,
   "metadata": {},
   "outputs": [
    {
     "name": "stdout",
     "output_type": "stream",
     "text": [
      "0\n",
      "1\n",
      "1\n",
      "1\n",
      "0\n"
     ]
    }
   ],
   "source": [
    "class Solution:\n",
    "    # 33% time, 58% memory\n",
    "    def numberOfAlternatingGroups(self, colors: List[int], k: int) -> int:\n",
    "        \"\"\"\n",
    "        Initialize first window of size k and then just go until you evaluate all windows starting at every index in colors\n",
    "        Will need to mod the indexing in order to avoid going index out of bounds\n",
    "\n",
    "        Actually, no need to initialize. Just try to build the window, resetting every time it stops alternating, and increment reuslt whenver you seucced.\n",
    "        \"\"\"\n",
    "        result = 0\n",
    "        left = 0\n",
    "        right = 1\n",
    "        n = len(colors)\n",
    "        while left < n:\n",
    "            if colors[right % n] == colors[(right - 1) % n]:\n",
    "                # mod n because colors is a circle\n",
    "                left = right\n",
    "            elif right - left == k - 1:\n",
    "                result += 1\n",
    "                left += 1\n",
    "            right += 1\n",
    "        return result\n",
    "\n",
    "\n",
    "numberOfAlternatingGroups = Solution()\n",
    "print(numberOfAlternatingGroups.numberOfAlternatingGroups([0, 1, 0, 1, 0, 1], 3))\n",
    "print(numberOfAlternatingGroups.numberOfAlternatingGroups([0, 1, 0, 0, 1, 0, 1], 6))\n",
    "print(numberOfAlternatingGroups.numberOfAlternatingGroups([1, 1, 0, 1], 4))"
   ]
  },
  {
   "cell_type": "markdown",
   "metadata": {},
   "source": [
    "**3306. Count of Substrings Containing Every Vowel and K Consonants II**\n"
   ]
  },
  {
   "cell_type": "code",
   "execution_count": null,
   "metadata": {},
   "outputs": [
    {
     "name": "stdout",
     "output_type": "stream",
     "text": [
      "0\n",
      "1\n",
      "3\n"
     ]
    }
   ],
   "source": [
    "class Solution:\n",
    "    # 93% time, 7% memory\n",
    "    def countOfSubstrings(self, word: str, k: int) -> int:\n",
    "        \"\"\"\n",
    "        Just gonna recreate the editorial's first solution without looking at it.\n",
    "        Basically same approach as my first attempt but they have a proper way of handling trailing vowels on the right\n",
    "        by using a nextConsonant array which has the index of the next consonant following the current index\n",
    "        \"\"\"\n",
    "        n = len(word)\n",
    "        nextConsonant = [0] * n\n",
    "        nextConsonant[-1] = n\n",
    "        for i in reversed(range(1, n)):\n",
    "            if word[i] in \"aeiou\":\n",
    "                nextConsonant[i - 1] = nextConsonant[i]\n",
    "            else:\n",
    "                nextConsonant[i - 1] = i\n",
    "\n",
    "        vowels = {}\n",
    "        consonants = 0\n",
    "        left = right = 0\n",
    "        result = 0\n",
    "        while right < n:\n",
    "            c = word[right]\n",
    "            if c in \"aeiou\":\n",
    "                vowels[c] = vowels.get(c, 0) + 1\n",
    "            else:\n",
    "                consonants += 1\n",
    "\n",
    "            while consonants > k:\n",
    "                # need to contract from the left because we cannot meet the requirements otherwise\n",
    "                c = word[left]\n",
    "                if c in \"aeiou\":\n",
    "                    if vowels[c] == 1:\n",
    "                        del vowels[c]\n",
    "                    else:\n",
    "                        vowels[c] -= 1\n",
    "                else:\n",
    "                    consonants -= 1\n",
    "                left += 1\n",
    "\n",
    "            while consonants == k and len(vowels) == 5:\n",
    "                # this is how many more strings we can make with trailing vowels at this (left, right)\n",
    "                result += nextConsonant[right] - right\n",
    "                c = word[left]\n",
    "                if c in \"aeiou\":\n",
    "                    if vowels[c] == 1:\n",
    "                        del vowels[c]\n",
    "                    else:\n",
    "                        vowels[c] -= 1\n",
    "                else:\n",
    "                    consonants -= 1\n",
    "                left += 1\n",
    "\n",
    "            right += 1\n",
    "\n",
    "        return result\n",
    "\n",
    "\n",
    "countOfSubstrings = Solution()\n",
    "print(countOfSubstrings.countOfSubstrings(\"aeioqq\", 1))\n",
    "print(countOfSubstrings.countOfSubstrings(\"aeiou\", 0))\n",
    "print(countOfSubstrings.countOfSubstrings(\"ieaouqqieaouqq\", 1))"
   ]
  },
  {
   "cell_type": "markdown",
   "metadata": {},
   "source": [
    "**1358. Number of Substrings Containing All Three Characters**\n"
   ]
  },
  {
   "cell_type": "code",
   "execution_count": null,
   "metadata": {},
   "outputs": [
    {
     "name": "stdout",
     "output_type": "stream",
     "text": [
      "10\n",
      "3\n",
      "1\n"
     ]
    }
   ],
   "source": [
    "class Solution:\n",
    "    \"\"\"\n",
    "    The proper solution is not something I understand just by looking at code, will have to hope that neetcode covers it\n",
    "    \"\"\"\n",
    "\n",
    "    # 24% time, 39% memory\n",
    "    def numberOfSubstrings(self, s: str) -> int:\n",
    "        \"\"\"\n",
    "        It says at least one occurrence of all the letters a, b, c\n",
    "        So the moment this condition is filled len(s) - right is how many results you just found\n",
    "        Then just shift left and rinse repeat\n",
    "        \"\"\"\n",
    "        left = 0\n",
    "        freq = [0, 0, 0]\n",
    "        a, count = ord(\"a\"), 0\n",
    "        n = len(s)\n",
    "        result = 0\n",
    "        for right, c in enumerate(s):\n",
    "            if c in \"abc\":\n",
    "                freq[ord(c) - a] += 1\n",
    "                count += int(freq[ord(c) - a] == 1)\n",
    "\n",
    "            while count == 3:\n",
    "                result += n - right\n",
    "                c = s[left]\n",
    "                if c in \"abc\":\n",
    "                    freq[ord(c) - a] -= 1\n",
    "                    count -= int(freq[ord(c) - a] == 0)\n",
    "                left += 1\n",
    "        return result\n",
    "\n",
    "\n",
    "numberOfSubstrings = Solution()\n",
    "print(numberOfSubstrings.numberOfSubstrings(\"abcabc\"))\n",
    "print(numberOfSubstrings.numberOfSubstrings(\"aaacb\"))\n",
    "print(numberOfSubstrings.numberOfSubstrings(\"abc\"))"
   ]
  }
 ],
 "metadata": {
  "kernelspec": {
   "display_name": "neetcode",
   "language": "python",
   "name": "python3"
  },
  "language_info": {
   "codemirror_mode": {
    "name": "ipython",
    "version": 3
   },
   "file_extension": ".py",
   "mimetype": "text/x-python",
   "name": "python",
   "nbconvert_exporter": "python",
   "pygments_lexer": "ipython3",
   "version": "3.12.1"
  }
 },
 "nbformat": 4,
 "nbformat_minor": 2
}
