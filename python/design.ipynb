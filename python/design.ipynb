{
 "cells": [
  {
   "cell_type": "code",
   "execution_count": 67,
   "metadata": {},
   "outputs": [],
   "source": [
    "from collections import defaultdict, OrderedDict\n",
    "from typing import List\n",
    "import heapq"
   ]
  },
  {
   "cell_type": "markdown",
   "metadata": {},
   "source": [
    "**706. Design HashMap**"
   ]
  },
  {
   "cell_type": "code",
   "execution_count": 15,
   "metadata": {},
   "outputs": [
    {
     "data": {
      "text/plain": [
       "-1"
      ]
     },
     "execution_count": 15,
     "metadata": {},
     "output_type": "execute_result"
    }
   ],
   "source": [
    "class Node:\n",
    "    def __init__(self, key: int, val: int, next=None):\n",
    "        self.key = key\n",
    "        self.val = val\n",
    "        self.next = next\n",
    "\n",
    "\n",
    "class MyHashMap:\n",
    "    def __init__(self):\n",
    "        self.mapLength = 50\n",
    "        self.map = [Node(-1, -1) for _ in range(self.mapLength)]\n",
    "\n",
    "    def put(self, key: int, value: int) -> None:\n",
    "        hashKey = hash(key) % self.mapLength\n",
    "        cur = self.map[hashKey]\n",
    "        while cur.next and cur.key != key:\n",
    "            cur = cur.next\n",
    "        if cur.key == key:\n",
    "            cur.val = value\n",
    "        else:\n",
    "            cur.next = Node(key, value)\n",
    "\n",
    "    def get(self, key: int):\n",
    "        hashKey = hash(key) % self.mapLength\n",
    "        cur = self.map[hashKey]\n",
    "        while cur.next and cur.key != key:\n",
    "            cur = cur.next\n",
    "        if cur.key == key:\n",
    "            return cur.val\n",
    "        return -1\n",
    "\n",
    "    def remove(self, key: int):\n",
    "        hashKey = hash(key) % self.mapLength\n",
    "        cur = self.map[hashKey]\n",
    "        while cur.next and cur.next.key != key:\n",
    "            cur = cur.next\n",
    "\n",
    "        if not cur.next:\n",
    "            return\n",
    "\n",
    "        cur.next = cur.next.next\n",
    "\n",
    "\n",
    "Map = MyHashMap()\n",
    "Map.put(9, 10)\n",
    "Map.put(59, 11)\n",
    "\n",
    "Map.remove(59)\n",
    "Map.get(59)"
   ]
  },
  {
   "cell_type": "markdown",
   "metadata": {},
   "source": [
    "**1396. Design underground system**\n",
    "\n",
    "\n",
    "- store a hashmap whose keys are station names\n",
    "    - the value of the entries will be (number of trips, averageTime)\n",
    "- store a hashmap whose keys are user IDs\n",
    "    - the value of the entries will be (current checkIn station if available, checkIn time if available)\n",
    "    - these will get cleared when the user checks out\n",
    "\n",
    "This system works because average time is computed only from **direct** trips, if it was any trip that started and ended at the two given stations, these data structures would not work."
   ]
  },
  {
   "cell_type": "code",
   "execution_count": null,
   "metadata": {},
   "outputs": [],
   "source": [
    "class UndergroundSystem:  # 72% time, 53% memory\n",
    "    def __init__(self):\n",
    "        self.stationTrips = defaultdict(\n",
    "            dict\n",
    "        )  # station -> {destination station: [number of trips, average number of trips]}\n",
    "        self.userTrips = defaultdict(\n",
    "            list\n",
    "        )  # user -> [check in station | None, check in time | None]\n",
    "\n",
    "    def checkIn(self, id: int, stationName: str, t: int) -> None:\n",
    "        self.userTrips[id] = [stationName, t]\n",
    "\n",
    "    def checkOut(self, id: int, stationName: str, t: int) -> None:\n",
    "        checkInStation, checkInTime = self.userTrips[id]\n",
    "        # checking if the check out station already has data in the check in station's history\n",
    "        if stationName in self.stationTrips[checkInStation]:\n",
    "            numTrips, averageTime = self.stationTrips[checkInStation][stationName]\n",
    "        else:\n",
    "            numTrips, averageTime = [0, 0]\n",
    "\n",
    "        newAverageTime = (averageTime * numTrips + (t - checkInTime)) / (numTrips + 1)\n",
    "        # modifying the average time for that specific trip\n",
    "        self.stationTrips[checkInStation][stationName] = [numTrips + 1, newAverageTime]\n",
    "\n",
    "    def getAverageTime(self, startStation: str, endStation: str) -> float:\n",
    "        # at least on customer will have made this travel before this is ran\n",
    "        # so there's no need to check if the data exists\n",
    "        return self.stationTrips[startStation][endStation][1]\n",
    "\n",
    "\n",
    "class UndergroundSystemAverageLater:  # 72% time, 53% memory\n",
    "    def __init__(self):\n",
    "        # station -> {destination station: [number of trips, total travel time from start to destination]}\n",
    "        self.stationTrips = defaultdict(dict)\n",
    "        # user -> [check in station, check in time]\n",
    "        self.userTrips = defaultdict(list)\n",
    "\n",
    "    def checkIn(self, id: int, stationName: str, t: int) -> None:\n",
    "        self.userTrips[id] = [stationName, t]\n",
    "\n",
    "    def checkOut(self, id: int, stationName: str, t: int) -> None:\n",
    "        checkInStation, checkInTime = self.userTrips[id]\n",
    "        # checking if the check out station already has data in the check in station's history\n",
    "        if stationName not in self.stationTrips[checkInStation]:\n",
    "            self.stationTrips[checkInStation][stationName] = [\n",
    "                0,\n",
    "                0,\n",
    "            ]  # num trips, total time\n",
    "\n",
    "        self.stationTrips[checkInStation][stationName][0] += (\n",
    "            1  # will be used to calc average time in `getAverageTime`\n",
    "        )\n",
    "        self.stationTrips[checkInStation][stationName][1] += (\n",
    "            t - checkInTime\n",
    "        )  # added to total travel time\n",
    "\n",
    "    def getAverageTime(self, startStation: str, endStation: str) -> float:\n",
    "        # at least on customer will have made this travel before this is ran\n",
    "        # so there's no need to check if the data exists\n",
    "        totalTime = self.stationTrips[startStation][endStation][1]\n",
    "        numTrips = self.stationTrips[startStation][endStation][0]\n",
    "        return totalTime / numTrips"
   ]
  },
  {
   "cell_type": "markdown",
   "metadata": {},
   "source": [
    "**355. Design Twitter**"
   ]
  },
  {
   "cell_type": "code",
   "execution_count": null,
   "metadata": {},
   "outputs": [],
   "source": [
    "class Twitter:\n",
    "    # 57% time, 60% memory\n",
    "    def __init__(self):\n",
    "        self.numPosts = 0\n",
    "        self.tweetMap = defaultdict(list)  # userID -> list of [order posted, tweetID]\n",
    "        self.followMap = defaultdict(set)  # userID -> set of following IDs\n",
    "\n",
    "    def postTweet(self, userId: int, tweetId: int) -> None:\n",
    "        self.tweetMap[userId].append([self.numPosts, tweetId])\n",
    "        self.numPosts -= 1  # decrementing so we can use a maxHeap\n",
    "\n",
    "    def getNewsFeed(self, userId: int) -> List[int]:\n",
    "        result = []\n",
    "        minHeap = []\n",
    "\n",
    "        # one time thing: has to be a follower of themself\n",
    "        if userId not in self.followMap[userId]:\n",
    "            self.followMap[userId].add(userId)\n",
    "\n",
    "        for followeeId in self.followMap[userId]:\n",
    "            if followeeId in self.tweetMap:\n",
    "                index = len(self.tweetMap[followeeId]) - 1\n",
    "                # index of the last tweet in that tweet array\n",
    "                count, tweetId = self.tweetMap[followeeId][index]\n",
    "                minHeap.append([count, tweetId, followeeId, index - 1])\n",
    "                # index - 1 is the index of the next tweet in the tweet array for that followeeId\n",
    "\n",
    "        heapq.heapify(minHeap)\n",
    "\n",
    "        while minHeap and len(result) < 10:\n",
    "            count, tweetId, followeeId, index = heapq.heappop(minHeap)\n",
    "            result.append(tweetId)\n",
    "            if index >= 0:  # equal because index 0 has a tweet as well\n",
    "                count, tweetId = self.tweetMap[followeeId][index]\n",
    "                heapq.heappush(minHeap, [count, tweetId, followeeId, index - 1])\n",
    "        return result\n",
    "\n",
    "    def follow(self, followerId: int, followeeId: int) -> None:\n",
    "        self.followMap[followerId].add(followeeId)\n",
    "\n",
    "    def unfollow(self, followerId: int, followeeId: int) -> None:\n",
    "        try:\n",
    "            self.followMap[followerId].remove(followeeId)\n",
    "        except KeyError:\n",
    "            pass\n",
    "\n",
    "\n",
    "# Your Twitter object will be instantiated and called as such:\n",
    "# obj = Twitter()\n",
    "# obj.postTweet(userId,tweetId)\n",
    "# param_2 = obj.getNewsFeed(userId)\n",
    "# obj.follow(followerId,followeeId)\n",
    "# obj.unfollow(followerId,followeeId)"
   ]
  },
  {
   "cell_type": "markdown",
   "metadata": {},
   "source": [
    "**1603. Design Parking System**"
   ]
  },
  {
   "cell_type": "code",
   "execution_count": null,
   "metadata": {},
   "outputs": [],
   "source": [
    "class ParkingSystem:\n",
    "    def __init__(self, big: int, medium: int, small: int):\n",
    "        # can be expanded to cars leaving\n",
    "        # type -> [total, unnoccupied]\n",
    "        self.parking = {1: [big, big], 2: [medium, medium], 3: [small, small]}\n",
    "\n",
    "    def addCar(self, carType: int) -> bool:\n",
    "        if self.parking[carType][1]:\n",
    "            self.parking[carType][1] -= 1\n",
    "            return True\n",
    "        return False"
   ]
  },
  {
   "cell_type": "markdown",
   "metadata": {},
   "source": [
    "**1472. Design Browser History**"
   ]
  },
  {
   "cell_type": "code",
   "execution_count": 44,
   "metadata": {},
   "outputs": [
    {
     "name": "stdout",
     "output_type": "stream",
     "text": [
      "facebook.com\n",
      "google.com\n",
      "facebook.com\n",
      "linkedin.com\n",
      "leetcode.com\n"
     ]
    },
    {
     "data": {
      "text/plain": [
       "['leetcode.com', 'twitch.tv']"
      ]
     },
     "metadata": {},
     "output_type": "display_data"
    },
    {
     "data": {
      "text/plain": [
       "{'leetcode.com': 0, 'twitch.tv': 1}"
      ]
     },
     "metadata": {},
     "output_type": "display_data"
    },
    {
     "data": {
      "text/plain": [
       "'twitch.tv'"
      ]
     },
     "metadata": {},
     "output_type": "display_data"
    }
   ],
   "source": [
    "class BrowserHistory:  # 76% time, 80% memory\n",
    "    def __init__(self, homepage: str):\n",
    "        self.history = [homepage]\n",
    "        self.urlToIndex = {homepage: 0}\n",
    "\n",
    "        self.curUrl = homepage\n",
    "        # this allows me to not have a conditional check in back and forward\n",
    "        # when validating the steps argument\n",
    "\n",
    "    def visit(self, url: str) -> None:\n",
    "        # truncating history if appropriate (the current url is not the last entry in self.history)\n",
    "        i = len(self.history) - 1\n",
    "        while i > self.urlToIndex[self.curUrl]:\n",
    "            del self.urlToIndex[self.history[i]]\n",
    "            self.history.pop()\n",
    "            i -= 1\n",
    "\n",
    "        self.history.append(url)\n",
    "        self.curUrl = url\n",
    "        self.urlToIndex[url] = len(self.history) - 1\n",
    "\n",
    "    def back(self, steps: int) -> str:\n",
    "        # if steps leads to a negative index, go to zero index\n",
    "        backUrl = self.history[max(self.urlToIndex[self.curUrl] - steps, 0)]\n",
    "        self.curUrl = backUrl\n",
    "        return backUrl\n",
    "\n",
    "    def forward(self, steps: int) -> str:\n",
    "        # if steps leads to an index >= len(self.history), reset it to point to len(self.history) - 1\n",
    "        forwardUrl = self.history[\n",
    "            min(self.urlToIndex[self.curUrl] + steps, len(self.history) - 1)\n",
    "        ]\n",
    "        self.curUrl = forwardUrl\n",
    "        return forwardUrl\n",
    "\n",
    "\n",
    "class BrowserHistoryClever:\n",
    "    def __init__(self, homepage: str):\n",
    "        self.history = [homepage]\n",
    "        self.pos = 0\n",
    "\n",
    "    def visit(self, url: str) -> None:\n",
    "        self.pos += 1\n",
    "        if self.pos < len(self.history):\n",
    "            self.history = self.history[: self.pos]\n",
    "        self.history.append(url)\n",
    "\n",
    "    def back(self, steps: int) -> str:\n",
    "        self.pos = max(self.pos - steps, 0)\n",
    "        return self.history[self.pos]\n",
    "\n",
    "    def forward(self, steps: int) -> str:\n",
    "        self.pos = min(self.pos + steps, len(self.history) - 1)\n",
    "        return self.history[self.pos]\n",
    "\n",
    "\n",
    "H = BrowserHistory(\"leetcode.com\")\n",
    "H.visit(\"google.com\")\n",
    "H.visit(\"facebook.com\")\n",
    "H.visit(\"youtube.com\")\n",
    "print(H.back(1))\n",
    "print(H.back(1))\n",
    "print(H.forward(1))\n",
    "H.visit(\"linkedin.com\")\n",
    "print(H.forward(2))\n",
    "print(H.back(7))\n",
    "H.visit(\"twitch.tv\")\n",
    "display(H.history, H.urlToIndex, H.curUrl)"
   ]
  },
  {
   "cell_type": "markdown",
   "metadata": {},
   "source": [
    "**1797. Design Authentication Manager**"
   ]
  },
  {
   "cell_type": "code",
   "execution_count": 66,
   "metadata": {},
   "outputs": [],
   "source": [
    "class AuthenticationManager:  # 47% time, 82% memory\n",
    "    def __init__(self, timeToLive: int):\n",
    "        self.timeToLive = timeToLive\n",
    "        self.tokens = {}  # tokenId -> expirationTime\n",
    "\n",
    "    def generate(self, tokenId: str, currentTime: int) -> None:\n",
    "        if tokenId not in self.tokens:\n",
    "            self.tokens[tokenId] = currentTime + self.timeToLive\n",
    "\n",
    "    def renew(self, tokenId: str, currentTime: int) -> None:\n",
    "        if tokenId in self.tokens and self.tokens[tokenId] > currentTime:\n",
    "            self.tokens[tokenId] = currentTime + self.timeToLive\n",
    "\n",
    "    def countUnexpiredTokens(self, currentTime: int) -> int:\n",
    "        unexpired = 0\n",
    "        for token in self.tokens:\n",
    "            if self.tokens[token] > currentTime:\n",
    "                unexpired += 1\n",
    "        return unexpired\n",
    "\n",
    "\n",
    "class AuthenticationManagerOrderedDict:  # 93% time, 57% memory\n",
    "    def __init__(self, timeToLive: int):\n",
    "        self.timeToLive = timeToLive\n",
    "        self.map = OrderedDict()\n",
    "\n",
    "    def generate(self, tokenId: str, currentTime: int) -> None:\n",
    "        expireTime = currentTime + self.timeToLive\n",
    "        self.map[tokenId] = expireTime\n",
    "\n",
    "    def renew(self, tokenId: str, currentTime: int) -> None:\n",
    "        if tokenId not in self.map:\n",
    "            return\n",
    "\n",
    "        if self.map[tokenId] <= currentTime:\n",
    "            return\n",
    "\n",
    "        expireTime = currentTime + self.timeToLive\n",
    "        self.map[tokenId] = expireTime\n",
    "        self.map.move_to_end(tokenId)\n",
    "        # move to the end of the order dictionary so that the expiration times are monotonically increasing\n",
    "        # (so that they are sorted)\n",
    "\n",
    "    def countUnexpiredTokens(self, currentTime: int) -> int:\n",
    "        while self.map:\n",
    "            # iter(self.map) returns an iterable over self.map's keys\n",
    "            # next(...) then takes the first key available in the iterator\n",
    "            # which is the oldest added key in the Ordered Dict\n",
    "            # then we use that oldest added key to access its expiry time.\n",
    "            # it won't duplicate the key retrieved because the oldest key is either removed or the loop breaks\n",
    "            expTime = self.map[next(iter(self.map))]\n",
    "\n",
    "            if expTime <= currentTime:\n",
    "                self.map.popitem(last=False)\n",
    "            else:  # since it is an ordered hashmap,\n",
    "                # the moment a token is not expired, all tokens are no longer expired\n",
    "                break\n",
    "        return len(self.map)\n",
    "\n",
    "        # while self.map and self.map[next(iter(self.map))] <= currentTime:\n",
    "        #    self.map.popitem(last=False)\n",
    "\n",
    "        # return len(self.map)"
   ]
  },
  {
   "cell_type": "code",
   "execution_count": null,
   "metadata": {},
   "outputs": [],
   "source": []
  }
 ],
 "metadata": {
  "kernelspec": {
   "display_name": "neetcode",
   "language": "python",
   "name": "python3"
  },
  "language_info": {
   "codemirror_mode": {
    "name": "ipython",
    "version": 3
   },
   "file_extension": ".py",
   "mimetype": "text/x-python",
   "name": "python",
   "nbconvert_exporter": "python",
   "pygments_lexer": "ipython3",
   "version": "3.12.1"
  }
 },
 "nbformat": 4,
 "nbformat_minor": 2
}
