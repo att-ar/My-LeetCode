{
 "cells": [
  {
   "cell_type": "markdown",
   "metadata": {},
   "source": [
    "**193. Valid Phone Numbers**\n"
   ]
  },
  {
   "cell_type": "code",
   "execution_count": 4,
   "metadata": {},
   "outputs": [
    {
     "name": "stdout",
     "output_type": "stream",
     "text": [
      "514-611-1124\n",
      "514-611-1424\n",
      "123-611-1124\n",
      "514-999-1124\n",
      "514-613-1024\n",
      "514-676-1124\n",
      "514-611-3324\n",
      "514-611-8924\n",
      "514-611-1134\n",
      "514-611-1112\n",
      "(514) 611-1112\n"
     ]
    }
   ],
   "source": [
    "# SETUP:\n",
    "from os import path, remove\n",
    "import subprocess\n",
    "\n",
    "if not path.exists(\"file.txt\"):\n",
    "    phonenumbers = [\n",
    "        \"514-611-1124\",\n",
    "        \"514-611-1424\",\n",
    "        \"123-611-1124\",\n",
    "        \"514-999-1124\",\n",
    "        \"514-613-1024\",\n",
    "        \"514-676-1124\",\n",
    "        \"514-611-3324\",\n",
    "        \"514-611-8924\",\n",
    "        \"514-611-1134\",\n",
    "        \"abd\",\n",
    "        \"514-611-1112\",\n",
    "        \"(514) 611-1112\",\n",
    "    ]\n",
    "    with open(\"file.txt\", \"w\") as f:\n",
    "        f.write(\"\\n\".join(phonenumbers))\n",
    "        f.write(\"\\n\")\n",
    "\n",
    "# SOLUTION\n",
    "subprocess.Popen(\n",
    "    r\"\"\"grep -E '^(\\(\\d{3}\\)|\\d{3})(-| )\\d{3}-\\d{4}$' file.txt\"\"\",\n",
    "    shell=True,\n",
    ").communicate()\n",
    "\n",
    "# Accepted submission: 38% time, 24.9% memory\n",
    "# Read from the file file.txt and output all valid phone numbers to stdout.\n",
    "# grep -e \"^[0-9]\\{3\\}\\-[0-9]\\{3\\}\\-[0-9]\\{4\\}$\" -e \"^([0-9]\\{3\\}) [0-9]\\{3\\}\\-[0-9]\\{4\\}$\" file.txt\n",
    "\n",
    "# CLEANUP\n",
    "remove(\"file.txt\")"
   ]
  }
 ],
 "metadata": {
  "kernelspec": {
   "display_name": "neetcode",
   "language": "python",
   "name": "python3"
  },
  "language_info": {
   "codemirror_mode": {
    "name": "ipython",
    "version": 3
   },
   "file_extension": ".py",
   "mimetype": "text/x-python",
   "name": "python",
   "nbconvert_exporter": "python",
   "pygments_lexer": "ipython3",
   "version": "3.12.1"
  }
 },
 "nbformat": 4,
 "nbformat_minor": 2
}
