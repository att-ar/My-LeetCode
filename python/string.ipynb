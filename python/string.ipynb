{
 "cells": [
  {
   "cell_type": "code",
   "execution_count": 25,
   "metadata": {},
   "outputs": [
    {
     "name": "stdout",
     "output_type": "stream",
     "text": [
      "H 0\n",
      "E 1\n",
      "L 2\n",
      "L 1\n",
      "O 0\n",
      "D 1\n",
      "U 2\n",
      "D 1\n",
      "E 0\n",
      "{0: ['H', 'O', 'E'], 1: ['E', 'L', 'D', 'D'], 2: ['L', 'U']}\n"
     ]
    },
    {
     "data": {
      "text/plain": [
       "'HOEELDDLU'"
      ]
     },
     "execution_count": 25,
     "metadata": {},
     "output_type": "execute_result"
    }
   ],
   "source": [
    "class Solution:  # 53% time, 56% memory\n",
    "    def convert(self, s: str, numRows: int) -> str:\n",
    "        if numRows == 1:  # edge case\n",
    "            return s\n",
    "        res = {x: [] for x in range(numRows)}\n",
    "        # will store the characters in each row\n",
    "        # 'HELLODUDE', 3\n",
    "        # 0 H   O   E\n",
    "        # 1 E L D D\n",
    "        # 2 L   U\n",
    "        # row goes from 1 -> numRows then back up then down\n",
    "        now = 0\n",
    "        dir = 1\n",
    "        for c in s:\n",
    "            res[now].append(c)\n",
    "            now += dir\n",
    "            if now == numRows - 1:\n",
    "                dir = -1\n",
    "            elif now == 0:\n",
    "                dir = 1\n",
    "        resString = \"\"\n",
    "        for i in range(numRows):\n",
    "            resString += \"\".join(res[i])\n",
    "        return resString"
   ]
  },
  {
   "cell_type": "markdown",
   "metadata": {},
   "source": [
    "**394. Decode String**\n",
    "\n",
    "Use a stack to keep track of the indices of opening brackets, there should never be a closing bracket in the stack since reaching one will trigger a pop.\n",
    "\n",
    "When a closing bracket is reached, you evaluate the string between the popped opening bracket and add it to the result.\n",
    "\n",
    "This method performs dfs on every encoded string and then bfs for encoded string on the same level.\n"
   ]
  },
  {
   "cell_type": "code",
   "execution_count": 38,
   "metadata": {},
   "outputs": [
    {
     "data": {
      "text/plain": [
       "('abbdgggggabbdgggggabbdggggg bcbc',\n",
       " 'farfarfarfarfarfarfarfarfarfarfarfarfarfarfarfarfarfarfarfarfarfarfarfarfarfarfarfarfarfarfarfarfarfarfarfarfarfarfarfarfarfarfarfarfarfarfarfarfarfarfarfarfarfarfarfarfarfarfarfarfarfarfarfarfarfarfarfarfarfarfarfarfarfarfarfarfarfarfarfarfarfarfarfarfarfarfarfarfarfarfarfarfarfarfarfarfarfarfarfar')"
      ]
     },
     "execution_count": 38,
     "metadata": {},
     "output_type": "execute_result"
    }
   ],
   "source": [
    "class Solution:\n",
    "    def decodeString(self, s: str) -> str:\n",
    "        stack = []\n",
    "        right = 0\n",
    "        while right < len(s):\n",
    "            if s[right] != \"]\":\n",
    "                stack.append(s[right])\n",
    "            else:\n",
    "                cur = stack.pop()\n",
    "                cur_res = \"\"\n",
    "                while cur != \"[\":\n",
    "                    cur_res += cur\n",
    "                    cur = stack.pop()\n",
    "                cur_n = \"\"\n",
    "                while stack and stack[-1] in \"0123456789\":\n",
    "                    cur_n += stack.pop()\n",
    "                # append the encoded substring to the stack all at once\n",
    "                stack.append(int(cur_n[::-1]) * cur_res[::-1])\n",
    "            right += 1\n",
    "        return \"\".join(stack)\n",
    "\n",
    "\n",
    "S = Solution()\n",
    "S.decodeString(\"3[abbd5[g]] 2[bc]\"), S.decodeString(\"100[far]\")"
   ]
  },
  {
   "cell_type": "code",
   "execution_count": 39,
   "metadata": {},
   "outputs": [],
   "source": [
    "class Solution:  # 90% time, 38% memory\n",
    "    def decodeString(self, s: str) -> str:\n",
    "        stack = []\n",
    "        right = 0\n",
    "        while right < len(s):\n",
    "            if s[right] != \"]\":\n",
    "                stack.append(s[right])\n",
    "            else:\n",
    "                cur_res = \"\"\n",
    "                while stack[-1] != \"[\":\n",
    "                    cur_res = stack.pop() + cur_res\n",
    "                # get rid of open parentheses\n",
    "                stack.pop()\n",
    "                cur_n = \"\"\n",
    "                while stack and stack[-1].isdigit():\n",
    "                    cur_n = stack.pop() + cur_n\n",
    "\n",
    "                # append the encoded substring to the stack all at once\n",
    "                stack.append(int(cur_n) * cur_res)\n",
    "            right += 1\n",
    "        return \"\".join(stack)"
   ]
  },
  {
   "cell_type": "markdown",
   "metadata": {},
   "source": [
    "**1790. Check if One String Swap Can Make Strings Equal**\n"
   ]
  },
  {
   "cell_type": "code",
   "execution_count": null,
   "metadata": {},
   "outputs": [],
   "source": [
    "class Solution:\n",
    "    # 100% time, 11% memory\n",
    "    def areAlmostEqual(self, s1: str, s2: str) -> bool:\n",
    "        \"\"\"\n",
    "        Just need the number of differing indices to be 0 or 2.\n",
    "        If it's anything else a single swap won't fix it\n",
    "        \"\"\"\n",
    "        diff = 0\n",
    "        save1 = \"\"\n",
    "        save2 = \"\"\n",
    "        for i in range(len(s1)):\n",
    "            if s1[i] != s2[i]:\n",
    "                if not diff:\n",
    "                    save1 += s1[i]\n",
    "                    save2 += s2[i]\n",
    "                elif diff == 2:\n",
    "                    return False\n",
    "                elif diff == 1:\n",
    "                    if s2[i] != save1 or save2 != s1[i]:\n",
    "                        return False\n",
    "                diff += 1\n",
    "        return diff != 1"
   ]
  }
 ],
 "metadata": {
  "kernelspec": {
   "display_name": "neetcode",
   "language": "python",
   "name": "python3"
  },
  "language_info": {
   "codemirror_mode": {
    "name": "ipython",
    "version": 3
   },
   "file_extension": ".py",
   "mimetype": "text/x-python",
   "name": "python",
   "nbconvert_exporter": "python",
   "pygments_lexer": "ipython3",
   "version": "3.12.1"
  }
 },
 "nbformat": 4,
 "nbformat_minor": 2
}
