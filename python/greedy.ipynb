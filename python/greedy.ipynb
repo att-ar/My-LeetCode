{
 "cells": [
  {
   "cell_type": "code",
   "execution_count": 1,
   "metadata": {},
   "outputs": [],
   "source": [
    "import heapq\n",
    "from collections import defaultdict, deque\n",
    "from typing import Dict, List"
   ]
  },
  {
   "cell_type": "markdown",
   "metadata": {},
   "source": [
    "**53. Maximum Subarray**\n"
   ]
  },
  {
   "cell_type": "code",
   "execution_count": null,
   "metadata": {},
   "outputs": [
    {
     "name": "stdout",
     "output_type": "stream",
     "text": [
      "6\n",
      "1\n",
      "23\n"
     ]
    }
   ],
   "source": [
    "class Solution:\n",
    "    # Kadane's algo:\n",
    "    def maxSubArray(self, nums: List[int]) -> int:  # 44% time, 6% memory\n",
    "        \"\"\"\n",
    "        At index i store max(max subarray up to i plus the value of i, the value of i)\n",
    "        So only considering one thing at a time becomes a lot easier\n",
    "        Base case: [] -> 0\n",
    "        Base case: [n] -> [n] -> n\n",
    "        Case: [n, m] -> [n, max(n + m, m)] -> max(n, n+m, m) essentially\n",
    "        \"\"\"\n",
    "\n",
    "        dp = [nums[0]] + [\n",
    "            0 for _ in range(len(nums) - 1)\n",
    "        ]  # -1 because we init the first one already\n",
    "\n",
    "        for i in range(1, len(nums)):\n",
    "            dp[i] = max(dp[i - 1] + nums[i], nums[i])\n",
    "\n",
    "        return max(dp)\n",
    "\n",
    "    def maxSubArraySpaceOptimized(self, nums: List[int]) -> int:  # 13% time, 10% memory\n",
    "        \"\"\"\n",
    "        I can see that dp[i] is only reliant on dp[i-1] so we don't actually need an array\n",
    "\n",
    "        There is only one parameter: i (index through nums)\n",
    "        Bounds: [0, len(nums)-1]\n",
    "        Direction: doesn't matter since it is only one parameter without restrictions\n",
    "        \"\"\"\n",
    "\n",
    "        dp = nums[0]\n",
    "        res = dp\n",
    "        for i in range(1, len(nums)):\n",
    "            dp = max(dp, 0) + nums[i]\n",
    "            res = max(res, dp)\n",
    "\n",
    "        return res\n",
    "\n",
    "    def maxSubArrayDivideAndConquer(self, nums: List[int]) -> int:\n",
    "        \"\"\"\n",
    "        Useless af lol, it's just doing Kadane's algo more than once for no reason\n",
    "        \"\"\"\n",
    "\n",
    "        def dfs(l, r):\n",
    "            if l > r:\n",
    "                return float(\"-inf\")\n",
    "\n",
    "            m = (l + r) // 2\n",
    "            leftSum = rightSum = curSum = 0\n",
    "            for i in range(m - 1, l - 1, -1):\n",
    "                curSum += nums[i]\n",
    "                leftSum = max(leftSum, curSum)\n",
    "\n",
    "            curSum = 0\n",
    "            for i in range(m + 1, r + 1):\n",
    "                curSum += nums[i]\n",
    "                rightSum = max(rightSum, curSum)\n",
    "\n",
    "            return max(dfs(l, m - 1), dfs(m + 1, r), leftSum + nums[m] + rightSum)\n",
    "\n",
    "        return dfs(0, len(nums) - 1)\n",
    "\n",
    "\n",
    "maxSubArray = Solution()\n",
    "print(maxSubArray.maxSubArraySpaceOptimized([-2, 1, -3, 4, -1, 2, 1, -5, 4]))\n",
    "print(maxSubArray.maxSubArraySpaceOptimized([1]))\n",
    "print(maxSubArray.maxSubArraySpaceOptimized([5, 4, -1, 7, 8]))"
   ]
  },
  {
   "cell_type": "markdown",
   "metadata": {},
   "source": [
    "**55. Jump Game**\n",
    "\n",
    "Very greedy algo lol\n"
   ]
  },
  {
   "cell_type": "code",
   "execution_count": null,
   "metadata": {},
   "outputs": [
    {
     "name": "stdout",
     "output_type": "stream",
     "text": [
      "False\n",
      "True\n"
     ]
    }
   ],
   "source": [
    "class Solution:  # 95% time, 8% memory\n",
    "    def canJump(self, nums: List[int]) -> bool:\n",
    "        \"\"\"\n",
    "        Iterate in reverse\n",
    "        whenever you see a zero start a counter, if you reach a number that is > the counter you can reset the counter\n",
    "\n",
    "        NOTE: the last number of the array is irrelevant\n",
    "        \"\"\"\n",
    "        counter = 0\n",
    "        for i in reversed(range(len(nums) - 1)):\n",
    "            if nums[i] > counter:\n",
    "                counter = 0\n",
    "            else:\n",
    "                counter += 1\n",
    "        return counter == 0\n",
    "\n",
    "\n",
    "canJump = Solution()\n",
    "print(canJump.canJump([3, 2, 1, 0, 4]))\n",
    "print(canJump.canJump([2, 3, 1, 1, 4]))"
   ]
  },
  {
   "cell_type": "markdown",
   "metadata": {},
   "source": [
    "**45. Jump Game II**\n",
    "\n",
    "Each element nums[i] represents the maximum length of a forward jump from index i\n",
    "\n",
    "Return the minimum number of jumps to reach nums[n - 1]. The test cases are generated such that you can reach nums[n - 1].\n"
   ]
  },
  {
   "cell_type": "code",
   "execution_count": null,
   "metadata": {},
   "outputs": [
    {
     "data": {
      "text/plain": [
       "(2, 2)"
      ]
     },
     "execution_count": 33,
     "metadata": {},
     "output_type": "execute_result"
    }
   ],
   "source": [
    "class Solution:\n",
    "    def jump(self, nums: List[int]) -> int:  # 20% time, 12 % memory\n",
    "        \"\"\"\n",
    "        at index i, update dp[i + x] x in [1,nums[i]] with min(dp[i+x], dp[i] + 1)\n",
    "\n",
    "        DP Bottom Up solution O(n^2) time O(n) space\n",
    "        \"\"\"\n",
    "\n",
    "        # default high number (array is only ones)\n",
    "        dp = [len(nums)] * len(nums)\n",
    "\n",
    "        # init the starting position\n",
    "        dp[0] = 0\n",
    "\n",
    "        for i in range(len(nums)):\n",
    "            # i + 1 because you are jumping forward only, not up then down where you are\n",
    "            for j in range(i, min(i + 1 + nums[i], len(nums))):\n",
    "                dp[j] = min(dp[i] + 1, dp[j])\n",
    "\n",
    "        return dp[-1]\n",
    "\n",
    "    def jumpBFSGreedy(self, nums: List[int]) -> int:  # 54% time, 12% memory\n",
    "        \"\"\"\n",
    "        Go as far as you can each time\n",
    "        \"\"\"\n",
    "        res = 0\n",
    "        left, right = 0, 0\n",
    "\n",
    "        while right < len(nums) - 1:\n",
    "            furthest = 0\n",
    "            for idx in range(left, right + 1):\n",
    "                # while you move your left pointer up to the current furthest point you KNOW you CAN reach\n",
    "                # check how far you can go beyond that.\n",
    "                furthest = max(furthest, idx + nums[idx])\n",
    "            left = right + 1\n",
    "            right = furthest\n",
    "            res += 1\n",
    "        return res\n",
    "\n",
    "\n",
    "jump = Solution()\n",
    "jump.jumpBFSGreedy([2, 3, 1, 1, 4]), jump.jumpBFSGreedy([2, 3, 0, 1, 4])"
   ]
  },
  {
   "cell_type": "markdown",
   "metadata": {},
   "source": [
    "**678. Valid Parenthesis String**\n"
   ]
  },
  {
   "cell_type": "code",
   "execution_count": null,
   "metadata": {},
   "outputs": [
    {
     "name": "stdout",
     "output_type": "stream",
     "text": [
      "True\n",
      "True\n",
      "True\n",
      "False\n",
      "False\n"
     ]
    }
   ],
   "source": [
    "class Solution:\n",
    "    def checkValidString(self, s: str) -> bool:  # 100% time, 10% memory\n",
    "        \"\"\"\n",
    "        NeetCode, store the minimum and maximum amount of open left bracketes you can have at the current index\n",
    "        \"\"\"\n",
    "        minL, maxL = 0, 0\n",
    "        for c in s:\n",
    "            if c == \"(\":\n",
    "                minL += 1\n",
    "                maxL += 1\n",
    "            elif c == \"*\":\n",
    "                minL -= 1\n",
    "                maxL += 1\n",
    "            else:\n",
    "                minL -= 1\n",
    "                maxL -= 1\n",
    "\n",
    "            if maxL < 0:\n",
    "                return False\n",
    "            if minL < 0:\n",
    "                # replace some ')' with '' mappings for '*'\n",
    "                minL = 0\n",
    "        return min(minL, maxL) == 0\n",
    "\n",
    "        # \"\"\"\n",
    "        # Can have 2 lists:\n",
    "        # '(' []\n",
    "        # '*' []\n",
    "        # Always try to fill ')' with the opening, and then asterisk\n",
    "        # For whatever remains in the 2 stacks, you need to check if the indices of the * are greater than the opening\n",
    "        # \"\"\"\n",
    "        # op = []\n",
    "        # ast = deque([])\n",
    "\n",
    "        # for i in range(len(s)):\n",
    "        #     if s[i] == \"(\":\n",
    "        #         op.append(i)\n",
    "        #     elif s[i] == \"*\":\n",
    "        #         ast.append(i)\n",
    "        #     else:\n",
    "        #         # s[i] == \")\"\n",
    "        #         if op:\n",
    "        #             op.pop()\n",
    "        #         elif ast:\n",
    "        #             ast.pop()\n",
    "        #         else:\n",
    "        #             return False\n",
    "\n",
    "        # # Need to check the stacks, they won't be empty if the asterisks need to be used as a ')'\n",
    "        # for op_i in op:\n",
    "        #     while ast and ast[0] < op_i:\n",
    "        #         ast.popleft()\n",
    "        #     if ast:\n",
    "        #         continue\n",
    "        #         # else:\n",
    "        #     return False\n",
    "        # # if there are asterisks remaining, they will just be empty space so it is fine\n",
    "        # return True\n",
    "\n",
    "\n",
    "checkValidString = Solution()\n",
    "\n",
    "print(checkValidString.checkValidString(\"()\"))\n",
    "print(checkValidString.checkValidString(\"(*)\"))\n",
    "print(checkValidString.checkValidString(\"(*))\"))\n",
    "print(checkValidString.checkValidString(\"(*)))\"))\n",
    "print(\n",
    "    checkValidString.checkValidString(\n",
    "        \"(((((*(()((((*((**(((()()*)()()()*((((**)())*)*)))))))(())(()))())((*()()(((()((()*(())*(()**)()(())\"\n",
    "    )\n",
    ")"
   ]
  },
  {
   "cell_type": "markdown",
   "metadata": {},
   "source": [
    "**1899. Merge Triplets to Form Target Triplet**\n"
   ]
  },
  {
   "cell_type": "code",
   "execution_count": 31,
   "metadata": {},
   "outputs": [
    {
     "name": "stdout",
     "output_type": "stream",
     "text": [
      "True\n",
      "False\n",
      "True\n"
     ]
    }
   ],
   "source": [
    "class Solution:  # 83% time, 27% memory\n",
    "    def mergeTriplets(self, triplets: List[List[int]], target: List[int]) -> bool:\n",
    "        \"\"\"\n",
    "        Avoid all triples where one of the integers are greater than their corresponding target integer\n",
    "        \"\"\"\n",
    "        target_counter = [0] * 3\n",
    "        for triplet in triplets:\n",
    "            if any(a > b for a, b in zip(triplet, target)):\n",
    "                # docstring: ignore all triplets that violate the <= target\n",
    "                continue\n",
    "            for i in range(len(triplet)):\n",
    "                if triplet[i] == target[i]:\n",
    "                    target_counter[i] = triplet[i] == target[i]\n",
    "\n",
    "            if all(target_counter):\n",
    "                return True\n",
    "\n",
    "        return False\n",
    "\n",
    "\n",
    "mergeTriplets = Solution()\n",
    "print(mergeTriplets.mergeTriplets([[2, 5, 3], [1, 8, 4], [1, 7, 5]], [2, 7, 5]))\n",
    "print(mergeTriplets.mergeTriplets([[3, 4, 5], [4, 5, 6]], [3, 2, 5]))\n",
    "print(\n",
    "    mergeTriplets.mergeTriplets([[2, 5, 3], [2, 3, 4], [1, 2, 5], [5, 2, 3]], [5, 5, 5])\n",
    ")"
   ]
  },
  {
   "cell_type": "markdown",
   "metadata": {},
   "source": [
    "**763. Partition Labels**\n"
   ]
  },
  {
   "cell_type": "code",
   "execution_count": null,
   "metadata": {},
   "outputs": [
    {
     "name": "stdout",
     "output_type": "stream",
     "text": [
      "[1, 8]\n",
      "[9, 7, 8]\n",
      "[1, 9]\n",
      "[13, 1, 1]\n"
     ]
    }
   ],
   "source": [
    "class Solution:\n",
    "    def partitionLabels(self, s: str) -> List[int]:  # 92% time, 10% memory\n",
    "        \"\"\"\n",
    "        Hashset of seen letters\n",
    "        Whenever a new letter is seen, start a new substring\n",
    "        If a letter that has been seen prior is seen, concat all the substrings that need to be concatted\n",
    "        This means that there need to be multiple hashsets with for each substring so that we can know which hashsets to combine\n",
    "        \"\"\"\n",
    "\n",
    "        # NOTE: this is essentially a stack question\n",
    "\n",
    "        # store the indices of the start of a substring (the end is demarked by the start of the next substring)\n",
    "        boundaries: List[int] = []\n",
    "        # store the index of the first occurrence of the string\n",
    "        seen: Dict[str, int] = {}\n",
    "        for i, c in enumerate(s):\n",
    "            if c in seen:\n",
    "                first = seen[c]\n",
    "                # while there is a substring that starts after the start of the new substring, get rid of the smaller substring's start\n",
    "                # this is how i am concatenating\n",
    "                while boundaries[-1] > first:\n",
    "                    boundaries.pop()\n",
    "            else:\n",
    "                seen[c] = i\n",
    "                boundaries.append(i)\n",
    "\n",
    "        # question asks for the number of characters in each boundary so we need to get the size of the partitions\n",
    "        # by getting the difference of the start boundaries.\n",
    "        boundaries.append(len(s))\n",
    "        for i in range(len(boundaries) - 1):\n",
    "            boundaries[i] = boundaries[i + 1] - boundaries[i]\n",
    "        return boundaries[:-1]\n",
    "\n",
    "    def partitionLabelsNeetCode(self, s: str) -> List[int]:\n",
    "        \"\"\"\n",
    "        Build map of the largest index for each letter\n",
    "        Iterate through string, updating the largest index of the current substring based on the letters you have seen\n",
    "            If the index reaches the largest index, you have found the end of a partition so update the result.\n",
    "\n",
    "        My solution is faster than neetcodes because I only do 1 pass through\n",
    "        (worst case they are the same since going through boundaries can be O(n) in total)\n",
    "        but i am on average less than 2 passes, he is always 2 passes.\n",
    "        \"\"\"\n",
    "        lastIndex = {}\n",
    "        for i, c in enumerate(s):\n",
    "            lastIndex[c] = i\n",
    "\n",
    "        res = []\n",
    "        size = end = 0\n",
    "        for i, c in enumerate(s):\n",
    "            size += 1\n",
    "            end = max(end, lastIndex[c])\n",
    "\n",
    "            if i == end:\n",
    "                res.append(size)\n",
    "                size = 0\n",
    "        return res\n",
    "\n",
    "\n",
    "partitionLabels = Solution()\n",
    "print(partitionLabels.partitionLabels(\"eccbbbbdc\"))\n",
    "print(partitionLabels.partitionLabels(\"ababcbacadefegdehijhklij\"))\n",
    "print(partitionLabels.partitionLabels(\"caedbdedda\"))\n",
    "print(partitionLabels.partitionLabels(\"qiejxqfnqceocmy\"))"
   ]
  },
  {
   "cell_type": "markdown",
   "metadata": {},
   "source": [
    "**134. Gas Station**\n"
   ]
  },
  {
   "cell_type": "code",
   "execution_count": 16,
   "metadata": {},
   "outputs": [
    {
     "name": "stdout",
     "output_type": "stream",
     "text": [
      "3\n",
      "-1\n",
      "3\n"
     ]
    }
   ],
   "source": [
    "class Solution:  # 99.5% time, 15% memory\n",
    "    def canCompleteCircuit(self, gas: List[int], cost: List[int]) -> int:\n",
    "        \"\"\"\n",
    "        They say the solution is unique\n",
    "        So once you know that there is a solution: sum(gas) >= sum(cost)\n",
    "        You only need to find the index for which the net path moving forward until the end of the array is > 0\n",
    "        If you find a starting point that remains positive for a few stops, you ignore all points on that path\n",
    "        Because none of them would work either since you gave them the best positive start by using the earliest positive gas station\n",
    "        \"\"\"\n",
    "        if sum(gas) < sum(cost):\n",
    "            return -1\n",
    "\n",
    "        curPos, curGas = 0, gas[0] - cost[0]  # setup at first index\n",
    "        # You don't need to setup at first index though.\n",
    "        # You can set everything to 0 and the if condition will trigger on first iter.\n",
    "        for i in range(1, len(gas)):\n",
    "            if curGas < 0:\n",
    "                # NOTE: modifying curGas <= 0 to curGas < 0 improved time from 77% to 99.5%\n",
    "                curPos = i  # set starting point to current index, since all earlier indices failed\n",
    "                curGas = 0\n",
    "            curGas += gas[i] - cost[i]\n",
    "\n",
    "        return curPos\n",
    "\n",
    "    def canCompleteCircuitTwoPointers(\n",
    "        self, gas: List[int], cost: List[int]\n",
    "    ) -> int:  # 61% time, 23% memory\n",
    "        \"\"\"\n",
    "        Way more intuitive 2 pointer solution\n",
    "        It is just trying to clamp the starting and end indices by testing each starting position going backwards\n",
    "        The direction matters because the question states that it is clockwise\n",
    "        \"\"\"\n",
    "        n = len(gas)\n",
    "        start, end = n - 1, 0\n",
    "        tank = gas[start] - cost[start]\n",
    "        while start > end:\n",
    "            if tank < 0:\n",
    "                start -= 1\n",
    "                tank += gas[start] - cost[start]\n",
    "            else:\n",
    "                tank += gas[end] - cost[end]\n",
    "                end += 1\n",
    "        return start if tank >= 0 else -1\n",
    "\n",
    "\n",
    "canCompleteCircuit = Solution()\n",
    "print(canCompleteCircuit.canCompleteCircuit([1, 2, 3, 4, 5], [3, 4, 5, 1, 2]))\n",
    "print(canCompleteCircuit.canCompleteCircuit([2, 3, 4], [3, 4, 3]))\n",
    "print(canCompleteCircuit.canCompleteCircuit([5, 8, 2, 8], [6, 5, 6, 6]))"
   ]
  },
  {
   "cell_type": "markdown",
   "metadata": {},
   "source": [
    "**846. Hand of Straights**\n"
   ]
  },
  {
   "cell_type": "code",
   "execution_count": 84,
   "metadata": {},
   "outputs": [
    {
     "name": "stdout",
     "output_type": "stream",
     "text": [
      "True\n"
     ]
    },
    {
     "data": {
      "text/plain": [
       "False"
      ]
     },
     "execution_count": 84,
     "metadata": {},
     "output_type": "execute_result"
    }
   ],
   "source": [
    "class Solution:  # 59% time, 24% memory\n",
    "    def isNStraightHand(self, hand: List[int], groupSize: int) -> bool:\n",
    "        \"\"\"\n",
    "        NeetCode uses a hashmap counter and a minHeap to keep track of the numbers available\n",
    "\n",
    "        Whenever the count of a number reaches zero you pop from the minheap because it is necessarily the current minimum in the heap\n",
    "        Since we start at the minimum value of hand this logic is maintained throughout\n",
    "        \"\"\"\n",
    "        if len(hand) % groupSize:\n",
    "            return False\n",
    "        counter = defaultdict(int)\n",
    "        for n in hand:\n",
    "            counter[n] += 1\n",
    "        hand = list(counter.keys())\n",
    "        heapq.heapify(hand)\n",
    "\n",
    "        while hand:\n",
    "            if counter[hand[0]] == 0:\n",
    "                heapq.heappop(hand)\n",
    "                continue\n",
    "            cur = hand[0]\n",
    "\n",
    "            for i in range(groupSize):\n",
    "                if not counter.get(cur + i, 0):\n",
    "                    return False\n",
    "                else:\n",
    "                    counter[cur + i] -= 1\n",
    "        return True\n",
    "\n",
    "\n",
    "isNStraightHand = Solution()\n",
    "print(isNStraightHand.isNStraightHand([1, 2, 3, 6, 2, 3, 4, 7, 8], 3))\n",
    "isNStraightHand.isNStraightHand([3, 4, 7, 4, 6, 3, 6, 5, 2, 8], 2)"
   ]
  },
  {
   "cell_type": "markdown",
   "metadata": {},
   "source": [
    "**122. Best Time to Buy and Sell Stock II**\n"
   ]
  },
  {
   "cell_type": "code",
   "execution_count": null,
   "metadata": {},
   "outputs": [
    {
     "name": "stdout",
     "output_type": "stream",
     "text": [
      "7\n",
      "4\n",
      "0\n"
     ]
    }
   ],
   "source": [
    "class Solution:\n",
    "    def maxProfit(self, prices: List[int]) -> int:  # 100% time, 7% memory\n",
    "        \"\"\"\n",
    "        LeetCode says this is a greedy DP problem\n",
    "\n",
    "        Can only hold 1 share at a time, so I can make multiple sells if I want\n",
    "\n",
    "        If you sell on a monotonically increasing stack, your profits should always be maximized\n",
    "        array: [1,4,7,2,3,1]\n",
    "        stack: [] -> [1] -> [1,4] -> update result to 3 and popleft -> [4]\n",
    "        stack: [4, 7] -> update result to 6 and popleft -> [7]\n",
    "        stack: [7, 2] -> popleft (maintain increasing monotonic queue) -> [2]\n",
    "        stack: [2, 3] -> res = 7 and popleft -> [3]\n",
    "        etc\n",
    "\n",
    "        Turns out we are popping left from deque and appending the current value on every iteration lol\n",
    "        \"\"\"\n",
    "\n",
    "        dq = deque([prices[0]])\n",
    "        res = 0\n",
    "        for price in prices[1:]:\n",
    "            cur = dq.popleft()\n",
    "            if cur < price:\n",
    "                res += price - cur\n",
    "            dq.append(price)\n",
    "        return res\n",
    "\n",
    "\n",
    "maxProfit = Solution()\n",
    "print(maxProfit.maxProfit([7, 1, 5, 3, 6, 4]))\n",
    "print(maxProfit.maxProfit([1, 2, 3, 4, 5]))\n",
    "print(maxProfit.maxProfit([7, 6, 4, 3, 1]))"
   ]
  },
  {
   "cell_type": "markdown",
   "metadata": {},
   "source": [
    "**3191. Minimum Operations to Make Binary Array Elements Equal to One I**\n"
   ]
  },
  {
   "cell_type": "code",
   "execution_count": null,
   "metadata": {},
   "outputs": [],
   "source": [
    "class Solution:\n",
    "    # 63% time, 54% memory\n",
    "    def minOperations(self, nums: List[int]) -> int:\n",
    "        count = 0\n",
    "        for left in range(len(nums) - 2):\n",
    "            if not nums[left]:\n",
    "                count += 1\n",
    "                nums[left] ^= 1\n",
    "                nums[left + 1] ^= 1\n",
    "                nums[left + 2] ^= 1\n",
    "\n",
    "        if nums[-2] and nums[-1]:\n",
    "            return count\n",
    "        return -1"
   ]
  },
  {
   "cell_type": "markdown",
   "metadata": {},
   "source": [
    "**2551. Put Marbles in Bags**\n"
   ]
  },
  {
   "cell_type": "code",
   "execution_count": null,
   "metadata": {},
   "outputs": [],
   "source": [
    "class Solution:  # 56% time, 42% memory\n",
    "    def putMarbles(self, weights: List[int], k: int) -> int:\n",
    "        \"\"\"\n",
    "        The editorial makes the solution super simple\n",
    "        It's a Hard because of the observations you need to make to come up with the proper solution\n",
    "        not because the code is hard.\n",
    "\n",
    "        The score of a bag (partition) is just the first and last values in it added together.\n",
    "        So, any value that is first or last has an adjacent pair\n",
    "            (the last value of the partition before and the first value of the partition after)\n",
    "        This means you should think of the question in pairs of adjacent values, not in partitions\n",
    "\n",
    "        Also, the first and last values of the array will necessarily contribute to the score of all combinations of bags.\n",
    "        There are only k-1 splits for k partitions\n",
    "        \"\"\"\n",
    "        if k == 1:\n",
    "            return 0\n",
    "        pairScores = sorted(\n",
    "            [weights[i] + weights[i + 1] for i in range(len(weights) - 1)]\n",
    "        )\n",
    "        return sum(pairScores[-k + 1 :]) - sum(pairScores[: k - 1])"
   ]
  }
 ],
 "metadata": {
  "kernelspec": {
   "display_name": "neetcode",
   "language": "python",
   "name": "python3"
  },
  "language_info": {
   "codemirror_mode": {
    "name": "ipython",
    "version": 3
   },
   "file_extension": ".py",
   "mimetype": "text/x-python",
   "name": "python",
   "nbconvert_exporter": "python",
   "pygments_lexer": "ipython3",
   "version": "3.12.1"
  }
 },
 "nbformat": 4,
 "nbformat_minor": 2
}
