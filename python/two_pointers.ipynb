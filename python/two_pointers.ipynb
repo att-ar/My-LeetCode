{
 "cells": [
  {
   "cell_type": "code",
   "execution_count": 1,
   "metadata": {},
   "outputs": [],
   "source": [
    "from typing import List"
   ]
  },
  {
   "cell_type": "markdown",
   "metadata": {},
   "source": [
    "**344. Reverse String**\n"
   ]
  },
  {
   "cell_type": "code",
   "execution_count": null,
   "metadata": {},
   "outputs": [],
   "source": [
    "class Solution:  # 60% time, 64% memory\n",
    "    def reverseString(self, s: List[str]):\n",
    "        for i in range(len(s) // 2):\n",
    "            s[i], s[-i - 1] = s[-i - 1], s[i]\n",
    "        return s"
   ]
  },
  {
   "cell_type": "markdown",
   "metadata": {},
   "source": [
    "**345. Reverse vowels of a string**\n"
   ]
  },
  {
   "cell_type": "code",
   "execution_count": 6,
   "metadata": {},
   "outputs": [
    {
     "data": {
      "text/plain": [
       "'holle'"
      ]
     },
     "execution_count": 6,
     "metadata": {},
     "output_type": "execute_result"
    }
   ],
   "source": [
    "class Solution:  # 91% time, 80% memory\n",
    "    def reverseVowels(self, s: str) -> str:  # overall O(n + n + n) = O(n)\n",
    "        l, r = 0, len(s) - 1\n",
    "        vowels = set(\"aeiouAEIOU\")  # O(n) initial for O(1) lookup\n",
    "        sl = list(s)  # O(n)\n",
    "        while l < r:  # O(n)\n",
    "            if s[l] in vowels and s[r] in vowels:\n",
    "                sl[l], sl[r] = sl[r], sl[l]\n",
    "                l += 1\n",
    "                r -= 1\n",
    "            elif s[l] in vowels:\n",
    "                r -= 1\n",
    "            elif s[r] in vowels:\n",
    "                l += 1\n",
    "            else:\n",
    "                l += 1\n",
    "                r -= 1\n",
    "        return \"\".join(sl)\n",
    "\n",
    "\n",
    "reverseVowels = Solution()\n",
    "reverseVowels.reverseVowels(\"hello\")"
   ]
  },
  {
   "cell_type": "markdown",
   "metadata": {},
   "source": [
    "**349. Intersection of Two Arrays**\n",
    "\n",
    "Arctic Wolf\n"
   ]
  },
  {
   "cell_type": "code",
   "execution_count": 18,
   "metadata": {},
   "outputs": [
    {
     "data": {
      "text/plain": [
       "[2]"
      ]
     },
     "execution_count": 18,
     "metadata": {},
     "output_type": "execute_result"
    }
   ],
   "source": [
    "class Solution:  # 63% time, 61% memory\n",
    "    def intersection(self, nums1: List[int], nums2: List[int]) -> List[int]:\n",
    "        # easy python solution is convert both to sets and then use built in method\n",
    "        # set1, set2 = set(nums1), set(nums2)\n",
    "        # return list(set1.intersection(set2))\n",
    "\n",
    "        # pointer solution\n",
    "        # overall is O(nlogn) + O(nlogn) + O(nlogn) = O(nlogn)\n",
    "\n",
    "        # need to sort so that duplicates can be avoided\n",
    "        # and the values in one can be searched log(n) in the other\n",
    "        nums1.sort()\n",
    "        nums2.sort()\n",
    "\n",
    "        # defining the limiting list, the shorter one will be the limiting factor\n",
    "        if len(nums1) <= len(nums2):\n",
    "            short_length = len(nums1)\n",
    "            short_list = nums1\n",
    "            search_length = len(nums2)\n",
    "            search_list = nums2\n",
    "        else:\n",
    "            short_length = len(nums2)\n",
    "            short_list = nums2\n",
    "            search_length = len(nums1)\n",
    "            search_list = nums1\n",
    "\n",
    "        res = []\n",
    "        previous_mid = (\n",
    "            0  # no need to search in the space that is less than the current value\n",
    "        )\n",
    "\n",
    "        # O(n) *  O(log(n)) : go through n characters and binary search for all of them.\n",
    "        for i in range(\n",
    "            short_length\n",
    "        ):  # binary search inside `search_list` for every unique value in `short_list`\n",
    "            if i and short_list[i] == short_list[i - 1]:  # ensuring no duplicates\n",
    "                continue\n",
    "\n",
    "            target = short_list[i]\n",
    "            left, right = previous_mid, search_length - 1  # defining the search space\n",
    "\n",
    "            while left <= right:  # binary search\n",
    "                mid = (left + right) // 2\n",
    "                if search_list[mid] > target:\n",
    "                    right = mid - 1\n",
    "                elif search_list[mid] < target:\n",
    "                    left = mid + 1\n",
    "                else:\n",
    "                    res.append(target)  # updating the result with a intersect value\n",
    "                    previous_mid = mid  # updating the search space (no need to look below the current target, for future targets)\n",
    "                    break\n",
    "        return res\n",
    "\n",
    "    # 89% time, 56% memory\n",
    "    def intersectionSimple(\n",
    "        self, nums1: List[int], nums2: List[int]\n",
    "    ) -> List[int]:  # O(nlogn)\n",
    "        # 2 * O(nlogn) for the 2 sorts\n",
    "        nums1.sort()\n",
    "        nums2.sort()\n",
    "        res = []\n",
    "        idx1, idx2 = (\n",
    "            0,\n",
    "            0,\n",
    "        )  # these pointers will traverse the sorted arrays independently\n",
    "        # the loop ends when the end of the shorter (when ignoring duplicates) array is reached\n",
    "        while idx1 < len(nums1) and idx2 < len(nums2):  # O(n) + O(n)\n",
    "            if nums1[idx1] == nums2[idx2]:\n",
    "                res.append(nums1[idx1])\n",
    "                # skip duplicates\n",
    "                idx1 += 1\n",
    "                idx2 += 1\n",
    "                while idx1 < len(nums1) and nums1[idx1] == nums1[idx1 - 1]:\n",
    "                    idx1 += 1\n",
    "                while idx2 < len(nums2) and nums2[idx2] == nums2[idx2 - 1]:\n",
    "                    idx2 += 1\n",
    "                continue\n",
    "            if nums1[idx1] > nums2[idx2]:\n",
    "                idx2 += 1\n",
    "            else:\n",
    "                idx1 += 1\n",
    "        return res\n",
    "\n",
    "\n",
    "intersection = Solution()\n",
    "intersection.intersectionSimple([1, 2, 2, 1], [2, 2])"
   ]
  },
  {
   "cell_type": "markdown",
   "metadata": {},
   "source": [
    "**15. 3Sum**\n"
   ]
  },
  {
   "cell_type": "code",
   "execution_count": 25,
   "metadata": {},
   "outputs": [
    {
     "name": "stdout",
     "output_type": "stream",
     "text": [
      "here\n",
      "1 2\n",
      "here\n"
     ]
    },
    {
     "data": {
      "text/plain": [
       "[[0, 0, 0]]"
      ]
     },
     "execution_count": 25,
     "metadata": {},
     "output_type": "execute_result"
    }
   ],
   "source": [
    "class Solution:  # 60% time, 62% memory (would be better but i had print statements that i forgot to delete)\n",
    "    def threeSum(self, nums: List[int]) -> List[List[int]]:  # O(n^2 + nlogn) = O(n^2)\n",
    "        nums.sort()  # O(nlogn)\n",
    "        triplets = []\n",
    "        # O(n^2) the for loop is O(n) and the pointers go through all values once at the worst which is O(n)\n",
    "        for i in range(len(nums)):\n",
    "            if i > 0 and nums[i] == nums[i - 1]:\n",
    "                # this is to avoid duplicates since we have already considered using nums[l] as a target\n",
    "                continue\n",
    "\n",
    "            l, r = (\n",
    "                i + 1,\n",
    "                len(nums) - 1,\n",
    "            )  # i + 1 because an index cant be reused in a single triplet\n",
    "            while (\n",
    "                l < r\n",
    "            ):  # '<' avoids left and right being on the same index and using that value twice in one triplet\n",
    "                # 0 - nums[i] is the target -> now it is just 2Sum sorted\n",
    "                if nums[l] + nums[r] + nums[i] == 0:\n",
    "                    triplets.append([nums[i], nums[l], nums[r]])\n",
    "                    while l < r and nums[l] == nums[l + 1]:\n",
    "                        # this is to avoid duplicates since we have already considered using nums[l] for the second digit\n",
    "                        l += 1\n",
    "                    # increment past the last occurrence of the initial nums[l] value\n",
    "                    l += 1\n",
    "\n",
    "                elif nums[l] + nums[r] + nums[i] < 0:\n",
    "                    l += 1\n",
    "\n",
    "                else:\n",
    "                    r -= 1\n",
    "        return triplets\n",
    "\n",
    "\n",
    "threeSum = Solution()\n",
    "threeSum.threeSum([0, 0, 0])"
   ]
  },
  {
   "cell_type": "markdown",
   "metadata": {},
   "source": [
    "**125. Valid Palindrome**\n"
   ]
  },
  {
   "cell_type": "code",
   "execution_count": null,
   "metadata": {},
   "outputs": [],
   "source": [
    "class Solution:  # 5% time, 39% memory\n",
    "    def isPalindrome(self, s: str) -> bool:\n",
    "        left, right = 0, len(s) - 1\n",
    "        # ignore non alphanumeric characters:\n",
    "        while left < right:\n",
    "            while left < right and not (s[left].isalpha() or s[left].isdigit()):\n",
    "                left += 1\n",
    "            while right > left and not (s[right].isalpha() or s[right].isdigit()):\n",
    "                right -= 1\n",
    "            if s[left].lower() != s[right].lower():\n",
    "                return False\n",
    "            left += 1\n",
    "            right -= 1\n",
    "        return True\n",
    "\n",
    "\n",
    "# 12% time, 15% memory:\n",
    "# s = ''.join([c for c in s.lower() if c.isalpha() or c.isdigit()])\n",
    "# return s == s[::-1]\n",
    "\n",
    "# replicating the isalpha and isdigit for lowercase\n",
    "# return (\n",
    "#   (ord(character) >= ord('a') and ord(character) <= ord('z'))\n",
    "#   or (ord(character) >= ord('0') and ord(character) <= ord('9'))\n",
    "#   )\n",
    "\n",
    "isPalindrome = Solution()\n",
    "isPalindrome.isPalindrome(\"A man, a plan, a canal: Panama\")"
   ]
  },
  {
   "cell_type": "markdown",
   "metadata": {},
   "source": [
    "**11. Container with most water**\n"
   ]
  },
  {
   "cell_type": "code",
   "execution_count": null,
   "metadata": {},
   "outputs": [],
   "source": [
    "class Solution:  # 5% time, 6% memory\n",
    "    def maxArea(self, height: List[int]) -> int:\n",
    "        # since we are calculating volume of water as 2-D surface area\n",
    "        # the objective equation is minHeight * Delta_x\n",
    "        # with two pointers, Delta_x gets smaller by one everytime\n",
    "        # minHeight is the variable that will change randomly and the values will need to be compared\n",
    "        left, right = 0, len(height) - 1\n",
    "        res = 0\n",
    "        while left < right:\n",
    "            res = max(res, min(height[left], height[right]) * (right - left))\n",
    "            if height[left] <= height[right]:\n",
    "                left += 1\n",
    "            else:\n",
    "                right -= 1\n",
    "        return res"
   ]
  },
  {
   "cell_type": "markdown",
   "metadata": {},
   "source": [
    "**42. Trapping Rain Water**\n"
   ]
  },
  {
   "cell_type": "code",
   "execution_count": null,
   "metadata": {},
   "outputs": [],
   "source": [
    "class Solution:  # 7% time, 5% memory\n",
    "    def trap(self, height: List[int]) -> int:\n",
    "        # going through with no pointers, O(n) memory solution\n",
    "        # essentially adding the contribution of trapped water from every single block individually\n",
    "        # the maxLeft and the maxRight height values that the current block has access too is the upper bound of trapped water\n",
    "        # if current block is 0 then it traps min(maxLeft[i], maxRight[i]) water units (vertically) since it itself is one unit wide.\n",
    "\n",
    "        res = 0\n",
    "        maxLeft = [0]  # regular order list\n",
    "        maxRight = [\n",
    "            0\n",
    "        ]  # reversed list !!!! will be traversed in opposite indexing from `maxLeft`\n",
    "\n",
    "        for i in range(\n",
    "            len(height) - 1\n",
    "        ):  # storing the maxleft and maxright heights for all blocks at the beginning\n",
    "            maxLeft.append(max(maxLeft[i], height[i]))\n",
    "            maxRight.append(\n",
    "                max(maxRight[i], height[-i - 1])\n",
    "            )  # - 1 is needed because negative indexing starts at -1 not -0\n",
    "        for i in range(len(height)):\n",
    "            if (newArea := min(maxLeft[i], maxRight[-i - 1]) - height[i]) < 0:\n",
    "                newArea = 0\n",
    "            res += newArea\n",
    "        return res\n",
    "\n",
    "\n",
    "class SolutionModified:  # 99% time, 15% memory\n",
    "    def trap(self, height: List[int]) -> int:\n",
    "        l, r = 0, len(height) - 1\n",
    "        res = 0\n",
    "        maxLeft, maxRight = height[l], height[r]\n",
    "        while l < r:\n",
    "            if (\n",
    "                maxLeft <= maxRight\n",
    "            ):  # increment left pointer if maxLeft is less than or equal to maxRight\n",
    "                l += 1\n",
    "                maxLeft = max(maxLeft, height[l])\n",
    "                res += (\n",
    "                    maxLeft - height[l]\n",
    "                )  # Don't need to check if negative because this is >= 0\n",
    "                # (because the maxLeft is updated before incrementing res)\n",
    "                # max(maxLeft, height[l]) will either be more than or equal to height[l]\n",
    "                # if both maxLeft and maxRight were less than height[l] before updating maxLeft:\n",
    "                # there would be no water at height[l] same logic for right pointer\n",
    "            else:\n",
    "                r -= 1\n",
    "                maxRight = max(maxRight, height[r])\n",
    "                res += maxRight - height[r]\n",
    "        return res\n",
    "\n",
    "\n",
    "# trap = Solution()\n",
    "trap = SolutionModified()\n",
    "print(trap.trap([0, 1, 0, 2, 1, 0, 1, 3, 2, 1, 2, 1]))\n",
    "print(trap.trap([4, 2, 0, 3, 2, 5]))\n",
    "print(trap.trap([5, 4, 1, 2]))\n",
    "print(trap.trap([9, 6, 8, 8, 5, 6, 3]))"
   ]
  },
  {
   "cell_type": "markdown",
   "metadata": {},
   "source": [
    "**31. Next Permutation**\n"
   ]
  },
  {
   "cell_type": "code",
   "execution_count": 15,
   "metadata": {},
   "outputs": [
    {
     "name": "stdout",
     "output_type": "stream",
     "text": [
      "[10, 5, 1, 9, 1]\n"
     ]
    }
   ],
   "source": [
    "class Solution:  # 82% time, 73% memory\n",
    "    def nextPermutation(self, nums: List[int]) -> None:\n",
    "        \"\"\"\n",
    "        Do not return anything, modify nums in-place instead.\n",
    "        \"\"\"\n",
    "        ptr = -1\n",
    "        for i in range(len(nums) - 2, -1, -1):\n",
    "            if nums[i] < nums[i + 1]:\n",
    "                ptr = i\n",
    "                break\n",
    "\n",
    "        if ptr == -1:\n",
    "            # this can only happen if everything is left -> right ascending order\n",
    "            nums.reverse()\n",
    "            return\n",
    "\n",
    "        for i in range(len(nums) - 1, -1, -1):\n",
    "            if nums[i] > nums[ptr]:\n",
    "                nums[i], nums[ptr] = nums[ptr], nums[i]\n",
    "                nums[ptr + 1 :] = reversed(nums[ptr + 1 :])\n",
    "                break\n",
    "\n",
    "\n",
    "nextPermutation = Solution()\n",
    "nextPermutation.nextPermutation([10, 5, 1, 1, 9])"
   ]
  },
  {
   "cell_type": "markdown",
   "metadata": {},
   "source": [
    "**214. Shortest Palindrom**\n",
    "\n",
    "_Rabin Karp Algorithm_\n",
    "\n",
    "Make a copy of the input string and reverse it\n",
    "\n",
    "```python\n",
    "s = 'abcb'\n",
    "s_rev = 'bcba'\n",
    "```\n",
    "\n",
    "Iterate through `s` in order\n",
    "Iterate through `s_rev` in reverse order at the same time\n",
    "call the pointer `i`\n",
    "\n",
    "Everytime s[:i] == s[-i:], we have a palindrome in the original input s from index 0 to i\n",
    "\n",
    "In our case this occurs once, at the very beginning when `i = 1` `'a' == 'a'`\n",
    "\n",
    "The shortest palindrome for the question is then determined by the longest palindrom in the input string `s`\n",
    "\n",
    "Then copy the unused letters at the end of `s` and add them to the front in reverse order\n",
    "\n",
    "HOWEVER that comparison is O(n) every time, so Rabin Karp uses a minimum base-26 integer system to encode the string into an integer.\n",
    "\n",
    "Just watch NeetCode's video, it isn't worth trying to re-explain. But you can encode the letter in a bit and then shift it by one position for the next letter to be encoded. However to avoid collisions and carrying values, your base needs to be at least as large as the size of distinct object in your problem. (26 lowercase letters in this case)\n"
   ]
  },
  {
   "cell_type": "code",
   "execution_count": 2,
   "metadata": {},
   "outputs": [
    {
     "name": "stdout",
     "output_type": "stream",
     "text": [
      "aaacecaaa dcbabcd\n",
      "aaacecaaa dcbabcd a aba\n"
     ]
    }
   ],
   "source": [
    "class Solution:\n",
    "    def isPali(self, s):\n",
    "        l, r = 0, len(s) - 1\n",
    "        while l <= r:\n",
    "            if s[l] != s[r]:\n",
    "                return False\n",
    "            l += 1\n",
    "            r -= 1\n",
    "        return True\n",
    "\n",
    "    def shortestPalindrome(self, s: str) -> str:\n",
    "        # find the longest palindrome that starts at the first letter in the given s\n",
    "        # copy, reverse and add the last letter that aren;t part of the palindrom to the start of the string and return\n",
    "\n",
    "        # brute force\n",
    "        for i in range(len(s) + 1, -1, -1):\n",
    "            if self.isPali(s[:i]):\n",
    "                return s[len(s) : i - 1 : -1] + s\n",
    "\n",
    "        return \"\"\n",
    "\n",
    "    def shortestPalindromeRabinKarp(self, s: str) -> str:\n",
    "        b_30 = 0\n",
    "        b_30_rev = 0\n",
    "        offset = ord(\"a\") - 1  # maps 'a' to 1, and 'z' to 26\n",
    "        res = 0\n",
    "        power = 1\n",
    "\n",
    "        mod = 10**9 + 7  # to prevent overflow\n",
    "\n",
    "        for i in range(len(s)):\n",
    "            code = ord(s[i]) - offset\n",
    "            # encode the prefix in base 30\n",
    "            b_30 = (b_30 * 30) % mod\n",
    "            # can lead to collisions, so can add a linear check in the equality condition\n",
    "            b_30 = (b_30 + code) % mod\n",
    "\n",
    "            # encode the suffix in base 30, math is a little different since we are moving to the left\n",
    "            # this is adding to the left instead of shifting to the left then adding 1\n",
    "            b_30_rev = (b_30_rev + code * power) % mod\n",
    "            power = (power * 30) % mod\n",
    "            if b_30 == b_30_rev:\n",
    "                res = i\n",
    "        # plus one because in the for loop i is used as the position, here it is used as a slicing index\n",
    "        unused_suffix = s[res + 1 :]\n",
    "        return unused_suffix[::-1] + s\n",
    "\n",
    "    def shortestPalindromeFast(self, s: str) -> str:\n",
    "        # technically O(n^2) but leetcode says it is fast\n",
    "        i, n = 0, len(s)\n",
    "        for c in s[::-1]:\n",
    "            if c == s[i]:\n",
    "                i += 1\n",
    "        if i == n:\n",
    "            return s\n",
    "        sub = s[i:]\n",
    "        return sub[::-1] + self.shortestPalindromeFast(s[0:i]) + sub\n",
    "\n",
    "\n",
    "S = Solution()\n",
    "print(S.shortestPalindrome(\"aacecaaa\"), S.shortestPalindromeFast(\"abcd\"))\n",
    "print(\n",
    "    S.shortestPalindromeRabinKarp(\"aacecaaa\"),\n",
    "    S.shortestPalindromeRabinKarp(\"abcd\"),\n",
    "    S.shortestPalindromeRabinKarp(\"a\"),\n",
    "    S.shortestPalindromeRabinKarp(\"aba\"),\n",
    ")"
   ]
  },
  {
   "cell_type": "markdown",
   "metadata": {},
   "source": [
    "**1813. Sentence Similarity III**\n",
    "\n",
    "Two sentences s1 and s2 are considered similar if it is possible to insert an arbitrary sentence (possibly empty) inside one of these sentences such that the two sentences become equal. Note that the inserted sentence must be separated from existing words by spaces.\n"
   ]
  },
  {
   "cell_type": "code",
   "execution_count": 72,
   "metadata": {},
   "outputs": [
    {
     "data": {
      "text/plain": [
       "(True, True, False)"
      ]
     },
     "execution_count": 72,
     "metadata": {},
     "output_type": "execute_result"
    }
   ],
   "source": [
    "class Solution:  # 50% time, 47% memory\n",
    "    def areSentencesSimilar(self, sentence1: str, sentence2: str) -> bool:\n",
    "        if len(sentence1) == len(sentence2):\n",
    "            return sentence1 == sentence2\n",
    "\n",
    "        if len(sentence2) > len(sentence1):\n",
    "            sentence1, sentence2 = sentence2, sentence1\n",
    "\n",
    "        s1, s2 = sentence1.split(\" \"), sentence2.split(\" \")\n",
    "\n",
    "        # 3 possibilities\n",
    "        # s2 is entirely the prefix of s1\n",
    "        # s2 is entirely the suffix of s1\n",
    "        # s2 is partially the prefix of s1, and the remainder is entirely the suffix of s1\n",
    "\n",
    "        # find the prefix portion\n",
    "        l1, l2 = 0, 0\n",
    "        while l1 < len(s1) and l2 < len(s2) and s1[l1] == s2[l2]:\n",
    "            l1 += 1\n",
    "            l2 += 1\n",
    "\n",
    "        # find the suffix\n",
    "        r1, r2 = len(s1) - 1, len(s2) - 1\n",
    "        while r1 >= l1 and r2 >= l2 and s1[r1] == s2[r2]:\n",
    "            r1 -= 1\n",
    "            r2 -= 1\n",
    "\n",
    "        # if the suffix extends to the prefix then one of the 3 possibilites are met\n",
    "        return r2 < l2\n",
    "\n",
    "\n",
    "S = Solution()\n",
    "(\n",
    "    S.areSentencesSimilar(\"Hello Jane\", \"Hello my name is Jane\"),\n",
    "    S.areSentencesSimilar(\"luck Lemon BOWSER\", \"luck Lemon\"),\n",
    "    S.areSentencesSimilar(\n",
    "        \"lucky\", \"luccccky\"\n",
    "    ),  # this should be true, need to implement being hopeful lol\n",
    ")"
   ]
  }
 ],
 "metadata": {
  "kernelspec": {
   "display_name": "neetcode",
   "language": "python",
   "name": "python3"
  },
  "language_info": {
   "codemirror_mode": {
    "name": "ipython",
    "version": 3
   },
   "file_extension": ".py",
   "mimetype": "text/x-python",
   "name": "python",
   "nbconvert_exporter": "python",
   "pygments_lexer": "ipython3",
   "version": "3.12.1"
  }
 },
 "nbformat": 4,
 "nbformat_minor": 2
}
