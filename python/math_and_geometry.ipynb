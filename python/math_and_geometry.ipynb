{
 "cells": [
  {
   "cell_type": "code",
   "execution_count": 1,
   "metadata": {},
   "outputs": [],
   "source": [
    "from typing import List"
   ]
  },
  {
   "cell_type": "markdown",
   "metadata": {},
   "source": [
    "**48. Rotate Image**\n"
   ]
  },
  {
   "cell_type": "code",
   "execution_count": 9,
   "metadata": {},
   "outputs": [
    {
     "name": "stdout",
     "output_type": "stream",
     "text": [
      "[1, 2, 3, 9]\n",
      "[4, 5, 6, 0]\n",
      "[7, 8, 9, 8]\n",
      "[1, 1, 1, 1]\n",
      "\n",
      "[1, 7, 4, 1]\n",
      "[1, 8, 5, 2]\n",
      "[1, 9, 6, 3]\n",
      "[1, 8, 0, 9]\n"
     ]
    }
   ],
   "source": [
    "class Solution:  # 100% time, 8% memory\n",
    "    def rotate(self, matrix: List[List[int]]) -> None:\n",
    "        \"\"\"\n",
    "        Do not return anything, modify matrix in-place instead.\n",
    "\n",
    "        NeetCode solution:\n",
    "        \"\"\"\n",
    "        n = len(matrix)\n",
    "        left, right = 0, n - 1  # starting indices for the border of the matrix\n",
    "\n",
    "        while left < right:  # equal to checking top < bottom since it is square\n",
    "            top, bottom = left, right\n",
    "            for offset in range(right - left):\n",
    "                holdTopLeft = matrix[top][left + offset]\n",
    "\n",
    "                # move bottom left to top left\n",
    "                matrix[top][left + offset] = matrix[bottom - offset][left]\n",
    "\n",
    "                # move bottom right to bottom left\n",
    "                matrix[bottom - offset][left] = matrix[bottom][right - offset]\n",
    "\n",
    "                # move top right to bottom right\n",
    "                matrix[bottom][right - offset] = matrix[top + offset][right]\n",
    "\n",
    "                # move top left to top right\n",
    "                matrix[top + offset][right] = holdTopLeft\n",
    "\n",
    "            left += 1\n",
    "            right -= 1\n",
    "\n",
    "\n",
    "matrix = [\n",
    "    [\n",
    "        1,\n",
    "        2,\n",
    "        3,\n",
    "        9,\n",
    "    ],\n",
    "    [\n",
    "        4,\n",
    "        5,\n",
    "        6,\n",
    "        0,\n",
    "    ],\n",
    "    [\n",
    "        7,\n",
    "        8,\n",
    "        9,\n",
    "        8,\n",
    "    ],\n",
    "    [\n",
    "        1,\n",
    "        1,\n",
    "        1,\n",
    "        1,\n",
    "    ],\n",
    "]\n",
    "\n",
    "rotate = Solution()\n",
    "for row in matrix:\n",
    "    print(row)\n",
    "print()\n",
    "rotate.rotate(matrix)\n",
    "for row in matrix:\n",
    "    print(row)"
   ]
  },
  {
   "cell_type": "markdown",
   "metadata": {},
   "source": [
    "**54. Spiral Matrix**\n"
   ]
  },
  {
   "cell_type": "code",
   "execution_count": null,
   "metadata": {},
   "outputs": [],
   "source": [
    "class Solution:  # 100% time, 98% memory\n",
    "    def spiralOrder(self, matrix: List[List[int]]) -> List[int]:\n",
    "        n, m = len(matrix), len(matrix[0])\n",
    "        res = []\n",
    "        x, y = -1, 0\n",
    "        # moveset is x + dx until limit then y + dy until limit\n",
    "        # after every limit is reached, the perpendicular particle is moving in opposite direction\n",
    "        d = 1\n",
    "        while n and m:\n",
    "            for _ in range(m):\n",
    "                x += d\n",
    "                res.append(matrix[y][x])\n",
    "            for _ in range(n - 1):\n",
    "                y += d\n",
    "                res.append(matrix[y][x])\n",
    "            d *= -1\n",
    "            n -= 1\n",
    "            m -= 1\n",
    "        return res"
   ]
  },
  {
   "cell_type": "markdown",
   "metadata": {},
   "source": [
    "**50. Pow(x, n)**\n"
   ]
  },
  {
   "cell_type": "code",
   "execution_count": null,
   "metadata": {},
   "outputs": [],
   "source": [
    "from decimal import Decimal\n",
    "\n",
    "\n",
    "class Solution:\n",
    "    def myPow(self, x: float, n: int) -> float:\n",
    "        x = Decimal(str(x))\n",
    "        answ = Decimal(\"1.\")\n",
    "        if n < 0:\n",
    "            x = 1 / x\n",
    "            n *= -1\n",
    "        elif n == 0:\n",
    "            return 1.0\n",
    "        while n > 0:\n",
    "            if n % 2 == 0:\n",
    "                x = x * x\n",
    "                n //= 2\n",
    "            else:\n",
    "                answ *= x\n",
    "                n -= 1\n",
    "        return float(answ)"
   ]
  },
  {
   "cell_type": "markdown",
   "metadata": {},
   "source": [
    "**2523. Closest Prime Numbers in Range**\n",
    "Sieve of Eratosthenes\n"
   ]
  },
  {
   "cell_type": "code",
   "execution_count": null,
   "metadata": {},
   "outputs": [
    {
     "name": "stdout",
     "output_type": "stream",
     "text": [
      "[11, 13]\n",
      "[-1, -1]\n"
     ]
    }
   ],
   "source": [
    "# this solution is actually very slow if I don't cheat and just save the computation at the beginning.\n",
    "# 67% time, 6% memory\n",
    "def sieve_of_eratosthenes(n: int) -> List[int]:\n",
    "    \"\"\"Returns ascended order sort of primes up to n\"\"\"\n",
    "    not_prime = set()\n",
    "    prime = []\n",
    "    root_n = int(n**0.5)\n",
    "    for i in range(2, root_n + 1):  # get all composites\n",
    "        if i not in not_prime:\n",
    "            prime.append(i)\n",
    "            for j in range(i + i, n + 1, i):  # multiples of i are composites\n",
    "                not_prime.add(j)\n",
    "        not_prime.discard(i)  # don't need it again\n",
    "    # get all remaining primes\n",
    "    for i in range(root_n + 1, n + 1):\n",
    "        if i not in not_prime:\n",
    "            prime.append(i)\n",
    "        not_prime.discard(i)  # don't need it again\n",
    "    return prime\n",
    "\n",
    "\n",
    "primes = sieve_of_eratosthenes(1_000_000)\n",
    "\n",
    "\n",
    "class Solution:\n",
    "    def closestPrimes(self, left: int, right: int) -> List[int]:\n",
    "        \"\"\"\n",
    "        Use the sieve of eratosthenes to generate all prime numbers\n",
    "        Then add the ones that fall in the correct range to an array and return the result\n",
    "        Can binary search for left if we pregenerate all the primes to n = 10^6\n",
    "        \"\"\"\n",
    "        # Binary Search through primes to get the starting index\n",
    "        l, r = 0, len(primes)\n",
    "        while l < r:\n",
    "            mid = (l + r) // 2\n",
    "            if primes[mid] < left:\n",
    "                l = mid + 1\n",
    "            else:\n",
    "                r = mid\n",
    "        # l might be one index too early\n",
    "        l += int(primes[l] < left)\n",
    "\n",
    "        res = [-1, -1]\n",
    "        dist = float(\"inf\")\n",
    "        for i in range(l + 1, len(primes)):\n",
    "            if primes[i] > right:\n",
    "                break\n",
    "            if (newDist := primes[i] - primes[i - 1]) < dist:\n",
    "                dist = newDist\n",
    "                res = [primes[i - 1], primes[i]]\n",
    "        return res\n",
    "\n",
    "\n",
    "closestPrimes = Solution()\n",
    "print(closestPrimes.closestPrimes(10, 19))\n",
    "print(closestPrimes.closestPrimes(4, 6))"
   ]
  },
  {
   "cell_type": "markdown",
   "metadata": {},
   "source": [
    "**3272. Find the Count of Good Integers**\n"
   ]
  },
  {
   "cell_type": "code",
   "execution_count": null,
   "metadata": {},
   "outputs": [],
   "source": [
    "from math import factorial\n",
    "\n",
    "\n",
    "class Solution:\n",
    "    \"\"\"Just read the editorial, there's no shot someone who doesn't study Math can do this\"\"\"\n",
    "\n",
    "    def countGoodIntegers(self, n: int, k: int) -> int:\n",
    "        dictionary = set()\n",
    "        base = 10 ** ((n - 1) // 2)\n",
    "        # This is important because it combines the solutions for odd and even `n`:\n",
    "        skip = n & 1\n",
    "        # Enumerate the number of palindrome numbers of n digits\n",
    "        for i in range(base, base * 10):  # generates the left half of the palindrome\n",
    "            s = str(i)\n",
    "            s += s[::-1][skip:]  # add the right half of the palindrom\n",
    "            palindromicInteger = int(s)\n",
    "            # If the current palindrome number is a k-palindromic integer\n",
    "            if palindromicInteger % k == 0:\n",
    "                sorted_s = \"\".join(sorted(s))\n",
    "                dictionary.add(sorted_s)  # sorted s to prevent double counting\n",
    "\n",
    "        fac = [factorial(i) for i in range(n + 1)]\n",
    "        ans = 0\n",
    "        for s in dictionary:\n",
    "            cnt = [0] * 10\n",
    "            for c in s:\n",
    "                cnt[int(c)] += 1\n",
    "            # Calculate permutations and combinations (read the editorial for the expl)\n",
    "            tot = (n - cnt[0]) * fac[n - 1]\n",
    "            for x in cnt:\n",
    "                tot //= fac[x]\n",
    "            ans += tot\n",
    "\n",
    "        return ans"
   ]
  },
  {
   "cell_type": "markdown",
   "metadata": {},
   "source": [
    "**1922. Count Good Numbers**\n"
   ]
  },
  {
   "cell_type": "code",
   "execution_count": null,
   "metadata": {},
   "outputs": [],
   "source": [
    "class Solution:\n",
    "    # 100% time, 93% memory\n",
    "    def countGoodNumbers(self, n: int) -> int:\n",
    "        \"\"\"\n",
    "        Combinations problem (5C1 on even and 4C1 on odd)\n",
    "        iterate through n\n",
    "        - On even: multiply result by 5\n",
    "        - On odd: multiply result by 4\n",
    "\n",
    "        Nvm, don't iterate, just do the exponentiation lol\n",
    "        num_even = (n + 1) // 2 # since it is zero-indexed\n",
    "        num_odd = (n) // 2\n",
    "\n",
    "        Might be worth doing fast exponentiation but wtv\n",
    "        \"\"\"\n",
    "        MOD = pow(10, 9) + 7\n",
    "        return (\n",
    "            pow(5, (n + 1) >> 1, MOD)  # even\n",
    "            * pow(4, n >> 1, MOD)  # odd\n",
    "        ) % MOD"
   ]
  }
 ],
 "metadata": {
  "kernelspec": {
   "display_name": "neetcode",
   "language": "python",
   "name": "python3"
  },
  "language_info": {
   "codemirror_mode": {
    "name": "ipython",
    "version": 3
   },
   "file_extension": ".py",
   "mimetype": "text/x-python",
   "name": "python",
   "nbconvert_exporter": "python",
   "pygments_lexer": "ipython3",
   "version": "3.12.1"
  }
 },
 "nbformat": 4,
 "nbformat_minor": 2
}
